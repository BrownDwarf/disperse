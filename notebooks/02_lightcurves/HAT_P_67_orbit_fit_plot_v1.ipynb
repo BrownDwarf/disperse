{
 "cells": [
  {
   "cell_type": "markdown",
   "id": "9deb910b",
   "metadata": {},
   "source": [
    "## Plot of HAT-P-67 Orbit fit\n",
    "\n",
    "From a previouse exoplanet notebook"
   ]
  },
  {
   "cell_type": "code",
   "execution_count": 1,
   "id": "579f47fb",
   "metadata": {},
   "outputs": [],
   "source": [
    "import numpy as np, matplotlib.pyplot as plt\n",
    "%config InlineBackend.figure_format='retina'"
   ]
  },
  {
   "cell_type": "code",
   "execution_count": 2,
   "id": "499fff3c",
   "metadata": {},
   "outputs": [],
   "source": [
    "import pickle"
   ]
  },
  {
   "cell_type": "code",
   "execution_count": null,
   "id": "7479f680",
   "metadata": {},
   "outputs": [],
   "source": []
  }
 ],
 "metadata": {
  "kernelspec": {
   "display_name": "Python 3 (ipykernel)",
   "language": "python",
   "name": "python3"
  },
  "language_info": {
   "codemirror_mode": {
    "name": "ipython",
    "version": 3
   },
   "file_extension": ".py",
   "mimetype": "text/x-python",
   "name": "python",
   "nbconvert_exporter": "python",
   "pygments_lexer": "ipython3",
   "version": "3.8.12"
  }
 },
 "nbformat": 4,
 "nbformat_minor": 5
}
