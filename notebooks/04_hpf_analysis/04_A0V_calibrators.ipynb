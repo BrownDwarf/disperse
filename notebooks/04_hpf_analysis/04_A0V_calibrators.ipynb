{
 "cells": [
  {
   "cell_type": "markdown",
   "id": "e58d0348",
   "metadata": {},
   "source": [
    "# 04 A0V calibrators\n",
    "Let's get a list of the A0V star calibrators for each night of our target observations"
   ]
  },
  {
   "cell_type": "code",
   "execution_count": 1,
   "id": "32601415",
   "metadata": {},
   "outputs": [],
   "source": [
    "#/work/00115/gebhardt/wcs/wcstools-3.9.2/bin/gethead -p /work/03946/hetdex/maverick/LRS2/CALS/*202101*spectra.fits OBJECT | grep 'HR\\|HD'"
   ]
  },
  {
   "cell_type": "code",
   "execution_count": 2,
   "id": "a87d24db",
   "metadata": {},
   "outputs": [],
   "source": [
    "import glob\n",
    "import warnings\n",
    "warnings.simplefilter(action='ignore', category=FutureWarning)\n",
    "\n",
    "import pandas\n",
    "import pandas as pd\n",
    "import numpy as np"
   ]
  },
  {
   "cell_type": "code",
   "execution_count": 3,
   "id": "61938ee0",
   "metadata": {},
   "outputs": [],
   "source": [
    "import pyarrow.feather as feather\n",
    "df = feather.read_feather('../../data/HPF/HAT_P_67_log.feather')"
   ]
  },
  {
   "cell_type": "code",
   "execution_count": 4,
   "id": "3b99b1f9",
   "metadata": {},
   "outputs": [],
   "source": [
    "from tqdm import tqdm\n",
    "from astropy.io import fits"
   ]
  },
  {
   "cell_type": "code",
   "execution_count": 5,
   "id": "17a3f997",
   "metadata": {},
   "outputs": [],
   "source": [
    "substrings = df['night_of'].value_counts().index.str.replace('-', '')"
   ]
  },
  {
   "cell_type": "code",
   "execution_count": 6,
   "id": "393d5583",
   "metadata": {},
   "outputs": [],
   "source": [
    "def get_metadata_from_fits(filenames, dynamic_only=True):\n",
    "    df_out = pd.DataFrame()\n",
    "    for file in tqdm(filenames):\n",
    "        hdu = fits.open(file)\n",
    "        hdr = hdu[0].header\n",
    "        \n",
    "        # Remove duplicate keys like `HISTORY`\n",
    "        columns = np.array(list(hdr.keys()))\n",
    "        _, indices, counts = np.unique(columns, return_index=True, return_counts=True)\n",
    "        columns = columns[np.isin(columns, columns[indices[counts==1]])]\n",
    "        df = pd.Series({col:hdr[col] for col in columns }).to_frame().T\n",
    "        df['file']=file\n",
    "        df_out = df_out.append(df, ignore_index=True)\n",
    "        hdu.close()\n",
    "    \n",
    "    # Only keep columns that change in time\n",
    "    if dynamic_only:\n",
    "        dynamic_columns = df_out.apply(lambda x: len(pd.unique(x))) != 1\n",
    "        df_out = df_out[dynamic_columns[dynamic_columns].index.values]\n",
    "        \n",
    "    return df_out"
   ]
  },
  {
   "cell_type": "code",
   "execution_count": 7,
   "id": "74d6187b",
   "metadata": {},
   "outputs": [],
   "source": [
    "base_string = '/Volumes/pecos/HPF/TACC/CALS/CALS_Goldilocks_only/*{}*spectra.fits'\n",
    "files_dict = {substr:glob.glob(base_string.format(substr)) for substr in substrings}"
   ]
  },
  {
   "cell_type": "code",
   "execution_count": 8,
   "id": "0db7b387",
   "metadata": {},
   "outputs": [
    {
     "data": {
      "text/plain": [
       "{'20200614': 48,\n",
       " '20200521': 27,\n",
       " '20220428': 55,\n",
       " '20200427': 39,\n",
       " '20220621': 48,\n",
       " '20200426': 39,\n",
       " '20220429': 51,\n",
       " '20220430': 44,\n",
       " '20220501': 54,\n",
       " '20200617': 27,\n",
       " '20200615': 55,\n",
       " '20200613': 6,\n",
       " '20200523': 27,\n",
       " '20200522': 27,\n",
       " '20200520': 42,\n",
       " '20200519': 27,\n",
       " '20200428': 27,\n",
       " '20220427': 55,\n",
       " '20200612': 28,\n",
       " '20220622': 55,\n",
       " '20220619': 129,\n",
       " '20220712': 68,\n",
       " '20210330': 32,\n",
       " '20210225': 33,\n",
       " '20210131': 41,\n",
       " '20210303': 37,\n",
       " '20210130': 35,\n",
       " '20200731': 37,\n",
       " '20200721': 27,\n",
       " '20220728': 56,\n",
       " '20220719': 60,\n",
       " '20220715': 54,\n",
       " '20220714': 57,\n",
       " '20210223': 35,\n",
       " '20220710': 55,\n",
       " '20220709': 46,\n",
       " '20220630': 53,\n",
       " '20220625': 30,\n",
       " '20220729': 51}"
      ]
     },
     "execution_count": 8,
     "metadata": {},
     "output_type": "execute_result"
    }
   ],
   "source": [
    "{key:len(files_dict[key]) for key in substrings}"
   ]
  },
  {
   "cell_type": "code",
   "execution_count": 141,
   "id": "61e27490",
   "metadata": {},
   "outputs": [
    {
     "data": {
      "text/plain": [
       "39"
      ]
     },
     "execution_count": 141,
     "metadata": {},
     "output_type": "execute_result"
    }
   ],
   "source": [
    "substrings"
   ]
  },
  {
   "cell_type": "code",
   "execution_count": 139,
   "id": "97fb9c94",
   "metadata": {},
   "outputs": [],
   "source": [
    "tell_matches = {'20220430':'HR4943_tell_std', \n",
    "                '20220621':'HR7632_tell_std', \n",
    "                '20220712':'HR5023_tell_std',\n",
    "                '20220501':'HR7803_tell_std',\n",
    "                '20200615':['HR8487','HR6977'],\n",
    "                '20210330':'HR4137_tell_std',\n",
    "                '20220622':'HR4828_tell_std',\n",
    "                '20210303':'HR2893_tell_std',\n",
    "                '20210130':'HR2893',\n",
    "                '20200731':'HR7634_tell_std',\n",
    "                '20220728':'HR5532_tell_std',\n",
    "                '20220719':'HR7628_tell_std',\n",
    "                '20220715':'HR8186_tell_std',\n",
    "               '20220714':'HR5373_tell_std',\n",
    "               '20210223':'HR4829_tell_std',\n",
    "               '20220710':'HR5373_tell_std',\n",
    "               '20220709':'HR189_tell_std',\n",
    "               '20220625':'HR189_tell_std',\n",
    "               '20220729':'HR6195_tell_std'}"
   ]
  },
  {
   "cell_type": "code",
   "execution_count": 140,
   "id": "83c47a46",
   "metadata": {},
   "outputs": [
    {
     "data": {
      "text/plain": [
       "19"
      ]
     },
     "execution_count": 140,
     "metadata": {},
     "output_type": "execute_result"
    }
   ],
   "source": [
    "len(tell_matches)"
   ]
  },
  {
   "cell_type": "code",
   "execution_count": 135,
   "id": "ef2d69af",
   "metadata": {},
   "outputs": [
    {
     "data": {
      "text/html": [
       "<div>\n",
       "<style scoped>\n",
       "    .dataframe tbody tr th:only-of-type {\n",
       "        vertical-align: middle;\n",
       "    }\n",
       "\n",
       "    .dataframe tbody tr th {\n",
       "        vertical-align: top;\n",
       "    }\n",
       "\n",
       "    .dataframe thead th {\n",
       "        text-align: right;\n",
       "    }\n",
       "</style>\n",
       "<table border=\"1\" class=\"dataframe\">\n",
       "  <thead>\n",
       "    <tr style=\"text-align: right;\">\n",
       "      <th></th>\n",
       "      <th>night_number</th>\n",
       "      <th>night_of</th>\n",
       "      <th>local_hour</th>\n",
       "      <th>ORIGIN</th>\n",
       "      <th>DATE</th>\n",
       "      <th>OBJECT</th>\n",
       "      <th>OBSERVER</th>\n",
       "      <th>OBSTYPE</th>\n",
       "      <th>DATE-OBS</th>\n",
       "      <th>CAL-OBJ</th>\n",
       "      <th>...</th>\n",
       "      <th>JD</th>\n",
       "      <th>BTJD</th>\n",
       "      <th>phase</th>\n",
       "      <th>normalized_phase</th>\n",
       "      <th>in_transit_flag</th>\n",
       "      <th>campaign</th>\n",
       "      <th>stddev_order19</th>\n",
       "      <th>RV_planet</th>\n",
       "      <th>track</th>\n",
       "      <th>in_transit_text</th>\n",
       "    </tr>\n",
       "  </thead>\n",
       "  <tbody>\n",
       "    <tr>\n",
       "      <th>135</th>\n",
       "      <td>1666</td>\n",
       "      <td>2022-06-22</td>\n",
       "      <td>3.46</td>\n",
       "      <td>astropy.fits</td>\n",
       "      <td>2022-06-23T08:27:12</td>\n",
       "      <td>HAT-P-67b_EPOCH3</td>\n",
       "      <td>CFB</td>\n",
       "      <td>Sci</td>\n",
       "      <td>2022-06-23T08:27:34.605231</td>\n",
       "      <td>dark</td>\n",
       "      <td>...</td>\n",
       "      <td>2.459754e+06</td>\n",
       "      <td>2753.852484</td>\n",
       "      <td>2.107044</td>\n",
       "      <td>0.438046</td>\n",
       "      <td>False</td>\n",
       "      <td>P4</td>\n",
       "      <td>0.070898</td>\n",
       "      <td>55.835816</td>\n",
       "      <td>west</td>\n",
       "      <td></td>\n",
       "    </tr>\n",
       "    <tr>\n",
       "      <th>136</th>\n",
       "      <td>1666</td>\n",
       "      <td>2022-06-22</td>\n",
       "      <td>3.56</td>\n",
       "      <td>astropy.fits</td>\n",
       "      <td>2022-06-23T08:32:58</td>\n",
       "      <td>HAT-P-67b_EPOCH3</td>\n",
       "      <td>CFB</td>\n",
       "      <td>Sci</td>\n",
       "      <td>2022-06-23T08:33:26.392145</td>\n",
       "      <td>dark</td>\n",
       "      <td>...</td>\n",
       "      <td>2.459754e+06</td>\n",
       "      <td>2753.856555</td>\n",
       "      <td>2.111115</td>\n",
       "      <td>0.438892</td>\n",
       "      <td>False</td>\n",
       "      <td>P4</td>\n",
       "      <td>0.076238</td>\n",
       "      <td>55.111086</td>\n",
       "      <td>west</td>\n",
       "      <td></td>\n",
       "    </tr>\n",
       "    <tr>\n",
       "      <th>137</th>\n",
       "      <td>1666</td>\n",
       "      <td>2022-06-22</td>\n",
       "      <td>3.65</td>\n",
       "      <td>astropy.fits</td>\n",
       "      <td>2022-06-23T08:38:45</td>\n",
       "      <td>HAT-P-67b_EPOCH3</td>\n",
       "      <td>CFB</td>\n",
       "      <td>Sci</td>\n",
       "      <td>2022-06-23T08:39:07.531528</td>\n",
       "      <td>dark</td>\n",
       "      <td>...</td>\n",
       "      <td>2.459754e+06</td>\n",
       "      <td>2753.860504</td>\n",
       "      <td>2.115064</td>\n",
       "      <td>0.439713</td>\n",
       "      <td>False</td>\n",
       "      <td>P4</td>\n",
       "      <td>0.070603</td>\n",
       "      <td>54.406802</td>\n",
       "      <td>west</td>\n",
       "      <td></td>\n",
       "    </tr>\n",
       "  </tbody>\n",
       "</table>\n",
       "<p>3 rows × 286 columns</p>\n",
       "</div>"
      ],
      "text/plain": [
       "     night_number    night_of  local_hour        ORIGIN                 DATE  \\\n",
       "135          1666  2022-06-22        3.46  astropy.fits  2022-06-23T08:27:12   \n",
       "136          1666  2022-06-22        3.56  astropy.fits  2022-06-23T08:32:58   \n",
       "137          1666  2022-06-22        3.65  astropy.fits  2022-06-23T08:38:45   \n",
       "\n",
       "               OBJECT OBSERVER OBSTYPE                    DATE-OBS CAL-OBJ  \\\n",
       "135  HAT-P-67b_EPOCH3      CFB     Sci  2022-06-23T08:27:34.605231    dark   \n",
       "136  HAT-P-67b_EPOCH3      CFB     Sci  2022-06-23T08:33:26.392145    dark   \n",
       "137  HAT-P-67b_EPOCH3      CFB     Sci  2022-06-23T08:39:07.531528    dark   \n",
       "\n",
       "     ...            JD         BTJD     phase  normalized_phase  \\\n",
       "135  ...  2.459754e+06  2753.852484  2.107044          0.438046   \n",
       "136  ...  2.459754e+06  2753.856555  2.111115          0.438892   \n",
       "137  ...  2.459754e+06  2753.860504  2.115064          0.439713   \n",
       "\n",
       "     in_transit_flag  campaign  stddev_order19  RV_planet  track  \\\n",
       "135            False        P4        0.070898  55.835816   west   \n",
       "136            False        P4        0.076238  55.111086   west   \n",
       "137            False        P4        0.070603  54.406802   west   \n",
       "\n",
       "    in_transit_text  \n",
       "135                  \n",
       "136                  \n",
       "137                  \n",
       "\n",
       "[3 rows x 286 columns]"
      ]
     },
     "execution_count": 135,
     "metadata": {},
     "output_type": "execute_result"
    }
   ],
   "source": [
    "df[df.night_of=='2022-06-22']"
   ]
  },
  {
   "cell_type": "code",
   "execution_count": 136,
   "id": "f272df99",
   "metadata": {},
   "outputs": [
    {
     "data": {
      "text/html": [
       "<div>\n",
       "<style scoped>\n",
       "    .dataframe tbody tr th:only-of-type {\n",
       "        vertical-align: middle;\n",
       "    }\n",
       "\n",
       "    .dataframe tbody tr th {\n",
       "        vertical-align: top;\n",
       "    }\n",
       "\n",
       "    .dataframe thead th {\n",
       "        text-align: right;\n",
       "    }\n",
       "</style>\n",
       "<table border=\"1\" class=\"dataframe\">\n",
       "  <thead>\n",
       "    <tr style=\"text-align: right;\">\n",
       "      <th></th>\n",
       "      <th>DATE</th>\n",
       "      <th>OBJECT</th>\n",
       "      <th>OBSTYPE</th>\n",
       "      <th>DATE-OBS</th>\n",
       "      <th>SCI-OBJ</th>\n",
       "      <th>CAL-OBJ</th>\n",
       "      <th>SKY-OBJ</th>\n",
       "      <th>QTIME</th>\n",
       "      <th>QRA</th>\n",
       "      <th>QDEC</th>\n",
       "      <th>...</th>\n",
       "      <th>AVRNV</th>\n",
       "      <th>ADSUBV</th>\n",
       "      <th>AVRF3P0V</th>\n",
       "      <th>NREADS</th>\n",
       "      <th>ITIME</th>\n",
       "      <th>NONDR</th>\n",
       "      <th>EXPLNDR</th>\n",
       "      <th>BRVCORR</th>\n",
       "      <th>LRVCORR</th>\n",
       "      <th>file</th>\n",
       "    </tr>\n",
       "  </thead>\n",
       "  <tbody>\n",
       "    <tr>\n",
       "      <th>0</th>\n",
       "      <td>2022-06-23T03:39:33</td>\n",
       "      <td>HR4828_tell_std</td>\n",
       "      <td>Sci</td>\n",
       "      <td>2022-06-23T03:39:55.876815</td>\n",
       "      <td>Sci</td>\n",
       "      <td>dark</td>\n",
       "      <td>Sky</td>\n",
       "      <td>1655955565.259712393</td>\n",
       "      <td>12:41:53.00</td>\n",
       "      <td>+10:14:08.00</td>\n",
       "      <td>...</td>\n",
       "      <td>0.120456</td>\n",
       "      <td>0.531867</td>\n",
       "      <td>3.028669</td>\n",
       "      <td>11</td>\n",
       "      <td>117.15</td>\n",
       "      <td>11</td>\n",
       "      <td>117.15</td>\n",
       "      <td>-28608.425762</td>\n",
       "      <td>-29.269848</td>\n",
       "      <td>/Volumes/pecos/HPF/TACC/CALS/CALS_Goldilocks_o...</td>\n",
       "    </tr>\n",
       "  </tbody>\n",
       "</table>\n",
       "<p>1 rows × 254 columns</p>\n",
       "</div>"
      ],
      "text/plain": [
       "                  DATE           OBJECT OBSTYPE                    DATE-OBS  \\\n",
       "0  2022-06-23T03:39:33  HR4828_tell_std     Sci  2022-06-23T03:39:55.876815   \n",
       "\n",
       "  SCI-OBJ CAL-OBJ SKY-OBJ                 QTIME          QRA          QDEC  \\\n",
       "0     Sci    dark     Sky  1655955565.259712393  12:41:53.00  +10:14:08.00   \n",
       "\n",
       "   ...     AVRNV    ADSUBV  AVRF3P0V NREADS   ITIME NONDR EXPLNDR  \\\n",
       "0  ...  0.120456  0.531867  3.028669     11  117.15    11  117.15   \n",
       "\n",
       "        BRVCORR    LRVCORR                                               file  \n",
       "0 -28608.425762 -29.269848  /Volumes/pecos/HPF/TACC/CALS/CALS_Goldilocks_o...  \n",
       "\n",
       "[1 rows x 254 columns]"
      ]
     },
     "execution_count": 136,
     "metadata": {},
     "output_type": "execute_result"
    }
   ],
   "source": [
    "df_raw[df_raw.OBJECT=='HR4828_tell_std']"
   ]
  },
  {
   "cell_type": "code",
   "execution_count": 138,
   "id": "fc99c9a5",
   "metadata": {},
   "outputs": [
    {
     "name": "stderr",
     "output_type": "stream",
     "text": [
      "100%|███████████████████████████████████████████| 54/54 [00:00<00:00, 84.00it/s]\n"
     ]
    },
    {
     "data": {
      "text/plain": [
       "Quartz FCU          14\n",
       "LFC Cal             10\n",
       "Alpha Bright Cal     8\n",
       "LFC FCU              8\n",
       "UNe Slave Cal        6\n",
       "Etalon Cal           5\n",
       "Dark                 2\n",
       "HR5023_tell_std      1\n",
       "Name: OBJECT, dtype: int64"
      ]
     },
     "execution_count": 138,
     "metadata": {},
     "output_type": "execute_result"
    }
   ],
   "source": [
    "files = glob.glob(base_string.format('20220713'))\n",
    "#files = files_dict['20200613']\n",
    "df_raw = get_metadata_from_fits(files)\n",
    "df_raw['OBJECT'].value_counts()"
   ]
  },
  {
   "cell_type": "code",
   "execution_count": null,
   "id": "a2f5593d",
   "metadata": {},
   "outputs": [],
   "source": []
  },
  {
   "cell_type": "code",
   "execution_count": null,
   "id": "c3d00eb4",
   "metadata": {},
   "outputs": [],
   "source": []
  }
 ],
 "metadata": {
  "kernelspec": {
   "display_name": "Python 3 (ipykernel)",
   "language": "python",
   "name": "python3"
  },
  "language_info": {
   "codemirror_mode": {
    "name": "ipython",
    "version": 3
   },
   "file_extension": ".py",
   "mimetype": "text/x-python",
   "name": "python",
   "nbconvert_exporter": "python",
   "pygments_lexer": "ipython3",
   "version": "3.8.12"
  }
 },
 "nbformat": 4,
 "nbformat_minor": 5
}
