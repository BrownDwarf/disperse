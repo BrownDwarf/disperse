{
 "cells": [
  {
   "cell_type": "markdown",
   "id": "99013c10",
   "metadata": {},
   "source": [
    "# Copy all HAT-P-67 observations to UTBox\n",
    "\n",
    "## So that Quang can run an RV planet search on it"
   ]
  },
  {
   "cell_type": "code",
   "execution_count": 1,
   "id": "df3bc9bc",
   "metadata": {},
   "outputs": [],
   "source": [
    "%config Completer.use_jedi = False"
   ]
  },
  {
   "cell_type": "code",
   "execution_count": 2,
   "id": "38b7e4c5",
   "metadata": {},
   "outputs": [],
   "source": [
    "import pandas as pd\n",
    "import pyarrow.feather as feather\n",
    "import os"
   ]
  },
  {
   "cell_type": "code",
   "execution_count": 3,
   "id": "629c81a5",
   "metadata": {},
   "outputs": [],
   "source": [
    "df = feather.read_feather('../../data/HPF/HAT_P_67_log.feather')"
   ]
  },
  {
   "cell_type": "code",
   "execution_count": 4,
   "id": "0ae00cc2",
   "metadata": {},
   "outputs": [],
   "source": [
    "#! mkdir /Users/mag3842/GitHub/disperse/data/HPF/HAT_P_67_glks"
   ]
  },
  {
   "cell_type": "code",
   "execution_count": 5,
   "id": "5d4bab3f",
   "metadata": {},
   "outputs": [
    {
     "data": {
      "text/plain": [
       "152"
      ]
     },
     "execution_count": 5,
     "metadata": {},
     "output_type": "execute_result"
    }
   ],
   "source": [
    "n_spec = len(df)\n",
    "n_spec"
   ]
  },
  {
   "cell_type": "code",
   "execution_count": 6,
   "id": "cfafb282",
   "metadata": {},
   "outputs": [],
   "source": [
    "for i in range(n_spec):\n",
    "    fn = df.full_path.iloc[i]\n",
    "    cmd = f'cp {fn} /Users/mag3842/GitHub/disperse/data/HPF/HAT_P_67_glks/'\n",
    "    #return_status = os.system(cmd)"
   ]
  },
  {
   "cell_type": "code",
   "execution_count": 7,
   "id": "3180f724",
   "metadata": {},
   "outputs": [
    {
     "name": "stdout",
     "output_type": "stream",
     "text": [
      "409M\t/Users/mag3842/GitHub/disperse/data/HPF/HAT_P_67_glks/\r\n"
     ]
    }
   ],
   "source": [
    "! du -hs /Users/mag3842/GitHub/disperse/data/HPF/HAT_P_67_glks/"
   ]
  },
  {
   "cell_type": "code",
   "execution_count": 8,
   "id": "7dc3b227",
   "metadata": {},
   "outputs": [
    {
     "name": "stdout",
     "output_type": "stream",
     "text": [
      "     152\r\n"
     ]
    }
   ],
   "source": [
    "! ls /Users/mag3842/GitHub/disperse/data/HPF/HAT_P_67_glks/ | wc -l"
   ]
  },
  {
   "cell_type": "markdown",
   "id": "a5a4628b",
   "metadata": {},
   "source": [
    "## Do the same for HPF team reduction"
   ]
  },
  {
   "cell_type": "markdown",
   "id": "6601e716",
   "metadata": {},
   "source": [
    "Quang prefers the HPF team reduction files, so let's do the same thing for those!"
   ]
  },
  {
   "cell_type": "code",
   "execution_count": 9,
   "id": "7cc27224",
   "metadata": {},
   "outputs": [],
   "source": [
    "import numpy as np\n",
    "import os\n",
    "import glob\n",
    "from astropy.io import fits\n",
    "import warnings\n",
    "import matplotlib.pyplot as plt\n",
    "import astropy.units as u\n",
    "from muler.hpf import HPFSpectrum\n",
    "import seaborn as sns\n",
    "\n",
    "from specutils.fitting import fit_continuum\n",
    "from astropy.modeling import models\n",
    "\n",
    "from astropy.time import Time\n",
    "from tqdm.notebook import tqdm\n",
    "\n",
    "%matplotlib inline\n",
    "%config InlineBackend.figure_format='retina'\n",
    "sns.set_context('paper', font_scale=1.2)\n",
    "\n",
    "from pandas.core.common import SettingWithCopyWarning\n",
    "\n",
    "warnings.simplefilter(action=\"ignore\", category=SettingWithCopyWarning)\n",
    "warnings.filterwarnings(\"ignore\", message=\"Model is linear in parameters\")\n",
    "warnings.simplefilter(action=\"ignore\", category=FutureWarning)\n",
    "warnings.filterwarnings(\"ignore\", message=\"frame.append\")"
   ]
  },
  {
   "cell_type": "code",
   "execution_count": 10,
   "id": "e28932a7",
   "metadata": {},
   "outputs": [],
   "source": [
    "def get_metadata_from_fits(filenames, dynamic_only=True):\n",
    "    df_out = pd.DataFrame()\n",
    "    for file in tqdm(filenames):\n",
    "        hdu = fits.open(file)\n",
    "        hdr = hdu[0].header\n",
    "        \n",
    "        # Remove duplicate keys like `HISTORY`\n",
    "        columns = np.array(list(hdr.keys()))\n",
    "        _, indices, counts = np.unique(columns, return_index=True, return_counts=True)\n",
    "        columns = columns[np.isin(columns, columns[indices[counts==1]])]\n",
    "        df = pd.Series({col:hdr[col] for col in columns }).to_frame().T\n",
    "        df['file']=file\n",
    "        df_out = df_out.append(df, ignore_index=True)\n",
    "        hdu.close()\n",
    "    \n",
    "    # Only keep columns that change in time\n",
    "    if dynamic_only:\n",
    "        dynamic_columns = df_out.apply(lambda x: len(pd.unique(x))) != 1\n",
    "        df_out = df_out[dynamic_columns[dynamic_columns].index.values]\n",
    "        \n",
    "    return df_out"
   ]
  },
  {
   "cell_type": "code",
   "execution_count": 11,
   "id": "d7648727",
   "metadata": {},
   "outputs": [],
   "source": [
    "tacc_path = '/Volumes/pecos/HPF/TACC'"
   ]
  },
  {
   "cell_type": "code",
   "execution_count": 12,
   "id": "eb6eec5a",
   "metadata": {},
   "outputs": [],
   "source": [
    "exosphere_program_ids = ['UT19-2-013', 'UT19-3-009',  'UT20-1-012', \n",
    "                         'UT20-2-011', 'UT20-3-009', 'UT21-1-010', 'UT22-2-019']"
   ]
  },
  {
   "cell_type": "code",
   "execution_count": 13,
   "id": "a8a78489",
   "metadata": {},
   "outputs": [
    {
     "name": "stdout",
     "output_type": "stream",
     "text": [
      "UT19-2-013\n",
      "UT19-3-009\n",
      "UT20-1-012\n",
      "UT20-2-011\n",
      "UT20-3-009\n",
      "UT21-1-010\n",
      "UT22-2-019\n"
     ]
    }
   ],
   "source": [
    "tacc_PSU_files = []\n",
    "for prog_id in exosphere_program_ids:\n",
    "    print(prog_id)\n",
    "    pattern = tacc_path + '/{}/Slope*.optimal.fits'.format(prog_id)\n",
    "    filenames = glob.glob(pattern, recursive=True)\n",
    "    tacc_PSU_files += filenames"
   ]
  },
  {
   "cell_type": "code",
   "execution_count": 14,
   "id": "962846e1",
   "metadata": {},
   "outputs": [
    {
     "data": {
      "text/plain": [
       "1099"
      ]
     },
     "execution_count": 14,
     "metadata": {},
     "output_type": "execute_result"
    }
   ],
   "source": [
    "len(tacc_PSU_files)"
   ]
  },
  {
   "cell_type": "code",
   "execution_count": 15,
   "id": "322fcd5f",
   "metadata": {},
   "outputs": [
    {
     "data": {
      "application/vnd.jupyter.widget-view+json": {
       "model_id": "4f29459f0b514603952366862e8168da",
       "version_major": 2,
       "version_minor": 0
      },
      "text/plain": [
       "  0%|          | 0/1099 [00:00<?, ?it/s]"
      ]
     },
     "metadata": {},
     "output_type": "display_data"
    }
   ],
   "source": [
    "df_raw = get_metadata_from_fits(tacc_PSU_files)"
   ]
  },
  {
   "cell_type": "code",
   "execution_count": 16,
   "id": "cb00a801",
   "metadata": {},
   "outputs": [],
   "source": [
    "df_raw['full_path'] = tacc_PSU_files"
   ]
  },
  {
   "cell_type": "code",
   "execution_count": 17,
   "id": "d28a9f26",
   "metadata": {},
   "outputs": [],
   "source": [
    "target_mask = df_raw.OBJECT.str.contains('67')\n",
    "df = df_raw[target_mask]"
   ]
  },
  {
   "cell_type": "code",
   "execution_count": 18,
   "id": "0f024548",
   "metadata": {},
   "outputs": [
    {
     "data": {
      "text/html": [
       "<div>\n",
       "<style scoped>\n",
       "    .dataframe tbody tr th:only-of-type {\n",
       "        vertical-align: middle;\n",
       "    }\n",
       "\n",
       "    .dataframe tbody tr th {\n",
       "        vertical-align: top;\n",
       "    }\n",
       "\n",
       "    .dataframe thead th {\n",
       "        text-align: right;\n",
       "    }\n",
       "</style>\n",
       "<table border=\"1\" class=\"dataframe\">\n",
       "  <thead>\n",
       "    <tr style=\"text-align: right;\">\n",
       "      <th></th>\n",
       "      <th>DATE</th>\n",
       "      <th>OBJECT</th>\n",
       "      <th>OBSERVER</th>\n",
       "      <th>DATE-OBS</th>\n",
       "      <th>CAL-OBJ</th>\n",
       "      <th>QTIME</th>\n",
       "      <th>QRA</th>\n",
       "      <th>QDEC</th>\n",
       "      <th>QPMRA</th>\n",
       "      <th>QPMDEC</th>\n",
       "      <th>...</th>\n",
       "      <th>JD_FW20</th>\n",
       "      <th>JD_FW23</th>\n",
       "      <th>JD_FW22</th>\n",
       "      <th>JD_FW25</th>\n",
       "      <th>JD_FW24</th>\n",
       "      <th>JD_FW27</th>\n",
       "      <th>JD_FW26</th>\n",
       "      <th>CHECKSUM</th>\n",
       "      <th>file</th>\n",
       "      <th>full_path</th>\n",
       "    </tr>\n",
       "  </thead>\n",
       "  <tbody>\n",
       "    <tr>\n",
       "      <th>317</th>\n",
       "      <td>2020-04-27T06:28:47</td>\n",
       "      <td>HAT-P-67b_OUT_1_before1</td>\n",
       "      <td>CFB</td>\n",
       "      <td>2020-04-27T06:29:11.640106</td>\n",
       "      <td>dark</td>\n",
       "      <td>1587968927.824912791</td>\n",
       "      <td>17:06:26.56</td>\n",
       "      <td>+44:46:37.06</td>\n",
       "      <td>9.436</td>\n",
       "      <td>-18.185</td>\n",
       "      <td>...</td>\n",
       "      <td>2458966.772049</td>\n",
       "      <td>2458966.772051</td>\n",
       "      <td>2458966.772055</td>\n",
       "      <td>2458966.772048</td>\n",
       "      <td>2458966.772048</td>\n",
       "      <td>2458966.772048</td>\n",
       "      <td>2458966.772049</td>\n",
       "      <td>34hjA4fi54fiA4fi</td>\n",
       "      <td>/Volumes/pecos/HPF/TACC/UT20-2-011/Slope-20200...</td>\n",
       "      <td>/Volumes/pecos/HPF/TACC/UT20-2-011/Slope-20200...</td>\n",
       "    </tr>\n",
       "    <tr>\n",
       "      <th>318</th>\n",
       "      <td>2020-04-27T06:34:37</td>\n",
       "      <td>HAT-P-67b_OUT_1_before1</td>\n",
       "      <td>CFB</td>\n",
       "      <td>2020-04-27T06:35:03.305245</td>\n",
       "      <td>dark</td>\n",
       "      <td>1587969277.067140788</td>\n",
       "      <td>17:06:26.56</td>\n",
       "      <td>+44:46:37.06</td>\n",
       "      <td>9.436</td>\n",
       "      <td>-18.185</td>\n",
       "      <td>...</td>\n",
       "      <td>2458966.776106</td>\n",
       "      <td>2458966.776102</td>\n",
       "      <td>2458966.776099</td>\n",
       "      <td>2458966.776107</td>\n",
       "      <td>2458966.776103</td>\n",
       "      <td>2458966.776106</td>\n",
       "      <td>2458966.776104</td>\n",
       "      <td>CAmaF4kWCAkaC3kU</td>\n",
       "      <td>/Volumes/pecos/HPF/TACC/UT20-2-011/Slope-20200...</td>\n",
       "      <td>/Volumes/pecos/HPF/TACC/UT20-2-011/Slope-20200...</td>\n",
       "    </tr>\n",
       "    <tr>\n",
       "      <th>319</th>\n",
       "      <td>2020-04-27T06:40:29</td>\n",
       "      <td>HAT-P-67b_OUT_1_before1</td>\n",
       "      <td>CFB</td>\n",
       "      <td>2020-04-27T06:40:55.338979</td>\n",
       "      <td>dark</td>\n",
       "      <td>1587969629.827530023</td>\n",
       "      <td>17:06:26.56</td>\n",
       "      <td>+44:46:37.06</td>\n",
       "      <td>9.436</td>\n",
       "      <td>-18.185</td>\n",
       "      <td>...</td>\n",
       "      <td>2458966.780232</td>\n",
       "      <td>2458966.780233</td>\n",
       "      <td>2458966.780232</td>\n",
       "      <td>2458966.780237</td>\n",
       "      <td>2458966.780236</td>\n",
       "      <td>2458966.780238</td>\n",
       "      <td>2458966.78024</td>\n",
       "      <td>Z22nd20kZ20kd20k</td>\n",
       "      <td>/Volumes/pecos/HPF/TACC/UT20-2-011/Slope-20200...</td>\n",
       "      <td>/Volumes/pecos/HPF/TACC/UT20-2-011/Slope-20200...</td>\n",
       "    </tr>\n",
       "    <tr>\n",
       "      <th>320</th>\n",
       "      <td>2020-04-27T06:46:19</td>\n",
       "      <td>HAT-P-67b_OUT_1_before1</td>\n",
       "      <td>CFB</td>\n",
       "      <td>2020-04-27T06:46:47.563456</td>\n",
       "      <td>dark</td>\n",
       "      <td>1587969979.777269181</td>\n",
       "      <td>17:06:26.56</td>\n",
       "      <td>+44:46:37.06</td>\n",
       "      <td>9.436</td>\n",
       "      <td>-18.185</td>\n",
       "      <td>...</td>\n",
       "      <td>2458966.784274</td>\n",
       "      <td>2458966.784277</td>\n",
       "      <td>2458966.784276</td>\n",
       "      <td>2458966.784276</td>\n",
       "      <td>2458966.784274</td>\n",
       "      <td>2458966.784275</td>\n",
       "      <td>2458966.784277</td>\n",
       "      <td>kD9BkA99kA9AkA97</td>\n",
       "      <td>/Volumes/pecos/HPF/TACC/UT20-2-011/Slope-20200...</td>\n",
       "      <td>/Volumes/pecos/HPF/TACC/UT20-2-011/Slope-20200...</td>\n",
       "    </tr>\n",
       "    <tr>\n",
       "      <th>321</th>\n",
       "      <td>2020-04-28T06:10:02</td>\n",
       "      <td>HAT-P-67b_IN_1</td>\n",
       "      <td>CFB</td>\n",
       "      <td>2020-04-28T06:10:31.377897</td>\n",
       "      <td>dark</td>\n",
       "      <td>1588054201.814175072</td>\n",
       "      <td>17:06:26.56</td>\n",
       "      <td>+44:46:37.06</td>\n",
       "      <td>9.436</td>\n",
       "      <td>-18.185</td>\n",
       "      <td>...</td>\n",
       "      <td>2458967.758759</td>\n",
       "      <td>2458967.758772</td>\n",
       "      <td>2458967.75877</td>\n",
       "      <td>2458967.758773</td>\n",
       "      <td>2458967.758765</td>\n",
       "      <td>2458967.758782</td>\n",
       "      <td>2458967.758778</td>\n",
       "      <td>5NEf6N9f5NEf5N9f</td>\n",
       "      <td>/Volumes/pecos/HPF/TACC/UT20-2-011/Slope-20200...</td>\n",
       "      <td>/Volumes/pecos/HPF/TACC/UT20-2-011/Slope-20200...</td>\n",
       "    </tr>\n",
       "    <tr>\n",
       "      <th>...</th>\n",
       "      <td>...</td>\n",
       "      <td>...</td>\n",
       "      <td>...</td>\n",
       "      <td>...</td>\n",
       "      <td>...</td>\n",
       "      <td>...</td>\n",
       "      <td>...</td>\n",
       "      <td>...</td>\n",
       "      <td>...</td>\n",
       "      <td>...</td>\n",
       "      <td>...</td>\n",
       "      <td>...</td>\n",
       "      <td>...</td>\n",
       "      <td>...</td>\n",
       "      <td>...</td>\n",
       "      <td>...</td>\n",
       "      <td>...</td>\n",
       "      <td>...</td>\n",
       "      <td>...</td>\n",
       "      <td>...</td>\n",
       "      <td>...</td>\n",
       "    </tr>\n",
       "    <tr>\n",
       "      <th>1011</th>\n",
       "      <td>2021-02-01T12:35:45</td>\n",
       "      <td>hat-p-67b</td>\n",
       "      <td>RA</td>\n",
       "      <td>2021-02-01T12:36:08.756471</td>\n",
       "      <td>dark</td>\n",
       "      <td>1612182944.828903215</td>\n",
       "      <td>17:06:26.56</td>\n",
       "      <td>+44:46:37.06</td>\n",
       "      <td>9.436</td>\n",
       "      <td>-18.185</td>\n",
       "      <td>...</td>\n",
       "      <td>2459247.028011</td>\n",
       "      <td>2459247.028013</td>\n",
       "      <td>2459247.02801</td>\n",
       "      <td>2459247.028015</td>\n",
       "      <td>2459247.028015</td>\n",
       "      <td>2459247.028016</td>\n",
       "      <td>2459247.028014</td>\n",
       "      <td>eRZghPZeePZeePZe</td>\n",
       "      <td>/Volumes/pecos/HPF/TACC/UT21-1-010/Slope-20210...</td>\n",
       "      <td>/Volumes/pecos/HPF/TACC/UT21-1-010/Slope-20210...</td>\n",
       "    </tr>\n",
       "    <tr>\n",
       "      <th>1089</th>\n",
       "      <td>2021-02-24T10:55:11</td>\n",
       "      <td>hat-p-67b</td>\n",
       "      <td>RA</td>\n",
       "      <td>2021-02-24T10:55:40.061376</td>\n",
       "      <td>dark</td>\n",
       "      <td>1614164110.981470946</td>\n",
       "      <td>17:06:26.56</td>\n",
       "      <td>+44:46:37.06</td>\n",
       "      <td>9.436</td>\n",
       "      <td>-18.185</td>\n",
       "      <td>...</td>\n",
       "      <td>2459269.959637</td>\n",
       "      <td>2459269.959637</td>\n",
       "      <td>2459269.959637</td>\n",
       "      <td>2459269.959637</td>\n",
       "      <td>2459269.959637</td>\n",
       "      <td>2459269.959637</td>\n",
       "      <td>2459269.959637</td>\n",
       "      <td>1gCZ4f9Z1fCZ1f9Z</td>\n",
       "      <td>/Volumes/pecos/HPF/TACC/UT21-1-010/Slope-20210...</td>\n",
       "      <td>/Volumes/pecos/HPF/TACC/UT21-1-010/Slope-20210...</td>\n",
       "    </tr>\n",
       "    <tr>\n",
       "      <th>1090</th>\n",
       "      <td>2021-02-24T11:04:14</td>\n",
       "      <td>hat-p-67b</td>\n",
       "      <td>RA</td>\n",
       "      <td>2021-02-24T11:04:43.757994</td>\n",
       "      <td>dark</td>\n",
       "      <td>1614164653.918649685</td>\n",
       "      <td>17:06:26.56</td>\n",
       "      <td>+44:46:37.06</td>\n",
       "      <td>9.436</td>\n",
       "      <td>-18.185</td>\n",
       "      <td>...</td>\n",
       "      <td>2459269.964833</td>\n",
       "      <td>2459269.964824</td>\n",
       "      <td>2459269.964837</td>\n",
       "      <td>2459269.964825</td>\n",
       "      <td>2459269.96483</td>\n",
       "      <td>2459269.964834</td>\n",
       "      <td>2459269.964826</td>\n",
       "      <td>QEjhS9jfQEjfQ9jf</td>\n",
       "      <td>/Volumes/pecos/HPF/TACC/UT21-1-010/Slope-20210...</td>\n",
       "      <td>/Volumes/pecos/HPF/TACC/UT21-1-010/Slope-20210...</td>\n",
       "    </tr>\n",
       "    <tr>\n",
       "      <th>1097</th>\n",
       "      <td>2021-02-26T10:28:01</td>\n",
       "      <td>hat-p-67b</td>\n",
       "      <td>RA</td>\n",
       "      <td>2021-02-26T10:28:30.846267</td>\n",
       "      <td>LFC-shut</td>\n",
       "      <td>1614335281.022101646</td>\n",
       "      <td>17:06:26.56</td>\n",
       "      <td>+44:46:37.06</td>\n",
       "      <td>9.436</td>\n",
       "      <td>-18.185</td>\n",
       "      <td>...</td>\n",
       "      <td>2459271.9397</td>\n",
       "      <td>2459271.93969</td>\n",
       "      <td>2459271.939692</td>\n",
       "      <td>2459271.939688</td>\n",
       "      <td>2459271.939688</td>\n",
       "      <td>2459271.939684</td>\n",
       "      <td>2459271.939686</td>\n",
       "      <td>JVjaJShVJShaJShU</td>\n",
       "      <td>/Volumes/pecos/HPF/TACC/UT21-1-010/Slope-20210...</td>\n",
       "      <td>/Volumes/pecos/HPF/TACC/UT21-1-010/Slope-20210...</td>\n",
       "    </tr>\n",
       "    <tr>\n",
       "      <th>1098</th>\n",
       "      <td>2021-02-26T10:37:05</td>\n",
       "      <td>hat-p-67b</td>\n",
       "      <td>RA</td>\n",
       "      <td>2021-02-26T10:37:34.523070</td>\n",
       "      <td>LFC-shut</td>\n",
       "      <td>1614335824.920700013</td>\n",
       "      <td>17:06:26.56</td>\n",
       "      <td>+44:46:37.06</td>\n",
       "      <td>9.436</td>\n",
       "      <td>-18.185</td>\n",
       "      <td>...</td>\n",
       "      <td>2459271.945719</td>\n",
       "      <td>2459271.945713</td>\n",
       "      <td>2459271.945713</td>\n",
       "      <td>2459271.945722</td>\n",
       "      <td>2459271.945709</td>\n",
       "      <td>2459271.94571</td>\n",
       "      <td>2459271.945713</td>\n",
       "      <td>DaneEVmZDamdDUmZ</td>\n",
       "      <td>/Volumes/pecos/HPF/TACC/UT21-1-010/Slope-20210...</td>\n",
       "      <td>/Volumes/pecos/HPF/TACC/UT21-1-010/Slope-20210...</td>\n",
       "    </tr>\n",
       "  </tbody>\n",
       "</table>\n",
       "<p>98 rows × 258 columns</p>\n",
       "</div>"
      ],
      "text/plain": [
       "                     DATE                   OBJECT OBSERVER  \\\n",
       "317   2020-04-27T06:28:47  HAT-P-67b_OUT_1_before1      CFB   \n",
       "318   2020-04-27T06:34:37  HAT-P-67b_OUT_1_before1      CFB   \n",
       "319   2020-04-27T06:40:29  HAT-P-67b_OUT_1_before1      CFB   \n",
       "320   2020-04-27T06:46:19  HAT-P-67b_OUT_1_before1      CFB   \n",
       "321   2020-04-28T06:10:02           HAT-P-67b_IN_1      CFB   \n",
       "...                   ...                      ...      ...   \n",
       "1011  2021-02-01T12:35:45                hat-p-67b       RA   \n",
       "1089  2021-02-24T10:55:11                hat-p-67b       RA   \n",
       "1090  2021-02-24T11:04:14                hat-p-67b       RA   \n",
       "1097  2021-02-26T10:28:01                hat-p-67b       RA   \n",
       "1098  2021-02-26T10:37:05                hat-p-67b       RA   \n",
       "\n",
       "                        DATE-OBS   CAL-OBJ                 QTIME          QRA  \\\n",
       "317   2020-04-27T06:29:11.640106      dark  1587968927.824912791  17:06:26.56   \n",
       "318   2020-04-27T06:35:03.305245      dark  1587969277.067140788  17:06:26.56   \n",
       "319   2020-04-27T06:40:55.338979      dark  1587969629.827530023  17:06:26.56   \n",
       "320   2020-04-27T06:46:47.563456      dark  1587969979.777269181  17:06:26.56   \n",
       "321   2020-04-28T06:10:31.377897      dark  1588054201.814175072  17:06:26.56   \n",
       "...                          ...       ...                   ...          ...   \n",
       "1011  2021-02-01T12:36:08.756471      dark  1612182944.828903215  17:06:26.56   \n",
       "1089  2021-02-24T10:55:40.061376      dark  1614164110.981470946  17:06:26.56   \n",
       "1090  2021-02-24T11:04:43.757994      dark  1614164653.918649685  17:06:26.56   \n",
       "1097  2021-02-26T10:28:30.846267  LFC-shut  1614335281.022101646  17:06:26.56   \n",
       "1098  2021-02-26T10:37:34.523070  LFC-shut  1614335824.920700013  17:06:26.56   \n",
       "\n",
       "              QDEC  QPMRA  QPMDEC  ...         JD_FW20         JD_FW23  \\\n",
       "317   +44:46:37.06  9.436 -18.185  ...  2458966.772049  2458966.772051   \n",
       "318   +44:46:37.06  9.436 -18.185  ...  2458966.776106  2458966.776102   \n",
       "319   +44:46:37.06  9.436 -18.185  ...  2458966.780232  2458966.780233   \n",
       "320   +44:46:37.06  9.436 -18.185  ...  2458966.784274  2458966.784277   \n",
       "321   +44:46:37.06  9.436 -18.185  ...  2458967.758759  2458967.758772   \n",
       "...            ...    ...     ...  ...             ...             ...   \n",
       "1011  +44:46:37.06  9.436 -18.185  ...  2459247.028011  2459247.028013   \n",
       "1089  +44:46:37.06  9.436 -18.185  ...  2459269.959637  2459269.959637   \n",
       "1090  +44:46:37.06  9.436 -18.185  ...  2459269.964833  2459269.964824   \n",
       "1097  +44:46:37.06  9.436 -18.185  ...    2459271.9397   2459271.93969   \n",
       "1098  +44:46:37.06  9.436 -18.185  ...  2459271.945719  2459271.945713   \n",
       "\n",
       "             JD_FW22         JD_FW25         JD_FW24         JD_FW27  \\\n",
       "317   2458966.772055  2458966.772048  2458966.772048  2458966.772048   \n",
       "318   2458966.776099  2458966.776107  2458966.776103  2458966.776106   \n",
       "319   2458966.780232  2458966.780237  2458966.780236  2458966.780238   \n",
       "320   2458966.784276  2458966.784276  2458966.784274  2458966.784275   \n",
       "321    2458967.75877  2458967.758773  2458967.758765  2458967.758782   \n",
       "...              ...             ...             ...             ...   \n",
       "1011   2459247.02801  2459247.028015  2459247.028015  2459247.028016   \n",
       "1089  2459269.959637  2459269.959637  2459269.959637  2459269.959637   \n",
       "1090  2459269.964837  2459269.964825   2459269.96483  2459269.964834   \n",
       "1097  2459271.939692  2459271.939688  2459271.939688  2459271.939684   \n",
       "1098  2459271.945713  2459271.945722  2459271.945709   2459271.94571   \n",
       "\n",
       "             JD_FW26          CHECKSUM  \\\n",
       "317   2458966.772049  34hjA4fi54fiA4fi   \n",
       "318   2458966.776104  CAmaF4kWCAkaC3kU   \n",
       "319    2458966.78024  Z22nd20kZ20kd20k   \n",
       "320   2458966.784277  kD9BkA99kA9AkA97   \n",
       "321   2458967.758778  5NEf6N9f5NEf5N9f   \n",
       "...              ...               ...   \n",
       "1011  2459247.028014  eRZghPZeePZeePZe   \n",
       "1089  2459269.959637  1gCZ4f9Z1fCZ1f9Z   \n",
       "1090  2459269.964826  QEjhS9jfQEjfQ9jf   \n",
       "1097  2459271.939686  JVjaJShVJShaJShU   \n",
       "1098  2459271.945713  DaneEVmZDamdDUmZ   \n",
       "\n",
       "                                                   file  \\\n",
       "317   /Volumes/pecos/HPF/TACC/UT20-2-011/Slope-20200...   \n",
       "318   /Volumes/pecos/HPF/TACC/UT20-2-011/Slope-20200...   \n",
       "319   /Volumes/pecos/HPF/TACC/UT20-2-011/Slope-20200...   \n",
       "320   /Volumes/pecos/HPF/TACC/UT20-2-011/Slope-20200...   \n",
       "321   /Volumes/pecos/HPF/TACC/UT20-2-011/Slope-20200...   \n",
       "...                                                 ...   \n",
       "1011  /Volumes/pecos/HPF/TACC/UT21-1-010/Slope-20210...   \n",
       "1089  /Volumes/pecos/HPF/TACC/UT21-1-010/Slope-20210...   \n",
       "1090  /Volumes/pecos/HPF/TACC/UT21-1-010/Slope-20210...   \n",
       "1097  /Volumes/pecos/HPF/TACC/UT21-1-010/Slope-20210...   \n",
       "1098  /Volumes/pecos/HPF/TACC/UT21-1-010/Slope-20210...   \n",
       "\n",
       "                                              full_path  \n",
       "317   /Volumes/pecos/HPF/TACC/UT20-2-011/Slope-20200...  \n",
       "318   /Volumes/pecos/HPF/TACC/UT20-2-011/Slope-20200...  \n",
       "319   /Volumes/pecos/HPF/TACC/UT20-2-011/Slope-20200...  \n",
       "320   /Volumes/pecos/HPF/TACC/UT20-2-011/Slope-20200...  \n",
       "321   /Volumes/pecos/HPF/TACC/UT20-2-011/Slope-20200...  \n",
       "...                                                 ...  \n",
       "1011  /Volumes/pecos/HPF/TACC/UT21-1-010/Slope-20210...  \n",
       "1089  /Volumes/pecos/HPF/TACC/UT21-1-010/Slope-20210...  \n",
       "1090  /Volumes/pecos/HPF/TACC/UT21-1-010/Slope-20210...  \n",
       "1097  /Volumes/pecos/HPF/TACC/UT21-1-010/Slope-20210...  \n",
       "1098  /Volumes/pecos/HPF/TACC/UT21-1-010/Slope-20210...  \n",
       "\n",
       "[98 rows x 258 columns]"
      ]
     },
     "execution_count": 18,
     "metadata": {},
     "output_type": "execute_result"
    }
   ],
   "source": [
    "df"
   ]
  },
  {
   "cell_type": "code",
   "execution_count": 19,
   "id": "fbee2f0e",
   "metadata": {},
   "outputs": [
    {
     "data": {
      "text/plain": [
       "HAT-P-67b_IN_1             14\n",
       "HAT-P-67b_IN_2             14\n",
       "HAT-P-67b_IN_3              9\n",
       "HAT-P-67b_OUT_same3         9\n",
       "hat-p-67b                   8\n",
       "HAT-P-67b_OUT_1_before1     4\n",
       "HAT-P-67b_OUT_1_after1      4\n",
       "HAT-P-67b_OUT_2_before2     4\n",
       "HAT-P-67b_OUT_2_before1     4\n",
       "HAT-P-67b_OUT_2_after1      4\n",
       "HAT-P-67b_OUT_2_after2      4\n",
       "HAT-P-67b_OUT_3_before2     4\n",
       "HAT-P-67b_OUT_3_before1     4\n",
       "HAT-P-67b_OUT_3_after1      4\n",
       "HAT-P-67b_OUT_3_after2      4\n",
       "Hat-P-67                    4\n",
       "Name: OBJECT, dtype: int64"
      ]
     },
     "execution_count": 19,
     "metadata": {},
     "output_type": "execute_result"
    }
   ],
   "source": [
    "df.OBJECT.value_counts()"
   ]
  },
  {
   "cell_type": "code",
   "execution_count": 20,
   "id": "69ff2431",
   "metadata": {},
   "outputs": [],
   "source": [
    "target_name = 'HAT-P-67b'\n",
    "orbital_period = 4.81010250\n",
    "t_c = 2455961.38467\n",
    "t_c_btjd = t_c - 2457000.0 #neg value means discovered before TESS\n",
    "t_14_hours = 6.989 # transit duration in hours\n",
    "t_14_days = t_14_hours/24.0\n",
    "t_14_orb_phase = t_14_days / orbital_period"
   ]
  },
  {
   "cell_type": "code",
   "execution_count": 21,
   "id": "488465b7",
   "metadata": {},
   "outputs": [],
   "source": [
    "df['JD'] = df['DATE-OBS'].apply(lambda x: Time(x).jd)\n",
    "df['BTJD'] = df.JD -2457000.0\n",
    "\n",
    "df['phase'] = np.mod(df.BTJD-t_c_btjd+(orbital_period*0.5),orbital_period)-0.5*orbital_period\n",
    "df['normalized_phase']=(df['phase']/orbital_period)\n",
    "df['in_transit_flag']=np.abs(df['normalized_phase']) < t_14_orb_phase/2.0"
   ]
  },
  {
   "cell_type": "code",
   "execution_count": 22,
   "id": "01b75b0e",
   "metadata": {},
   "outputs": [],
   "source": [
    "hpf_t0 = Time(['2017-11-29T17:00:00.0']) # 17h UTC is ~noon in Fort Davis\n",
    "JD_values = df['JD'].values\n",
    "night_number = np.floor(JD_values - hpf_t0.jd).astype(int)\n",
    "time_from_local_midnight = np.round(np.mod(JD_values - hpf_t0.jd, 1)*24.0 - 12.0, decimals=2)\n",
    "df.insert(0, 'night_number', night_number)\n",
    "nightly_timestamp = (hpf_t0 + df.night_number*u.day).iso\n",
    "df.insert(1, 'night_of', [string[0:10] for string in nightly_timestamp])\n",
    "df.insert(2, 'local_hour', time_from_local_midnight) # Negative means time until local midnight"
   ]
  },
  {
   "cell_type": "markdown",
   "id": "433b741b",
   "metadata": {},
   "source": [
    "Compare to Goldilocks"
   ]
  },
  {
   "cell_type": "code",
   "execution_count": 23,
   "id": "1d3a8ee3",
   "metadata": {},
   "outputs": [],
   "source": [
    "df_goldi = feather.read_feather('../../data/HPF/HAT_P_67_log.feather')"
   ]
  },
  {
   "cell_type": "code",
   "execution_count": 24,
   "id": "20c288a4",
   "metadata": {},
   "outputs": [
    {
     "data": {
      "text/plain": [
       "2020-04-26     4\n",
       "2020-04-27    14\n",
       "2020-04-28     4\n",
       "2020-05-19     4\n",
       "2020-05-20     4\n",
       "2020-05-21    14\n",
       "2020-05-22     4\n",
       "2020-05-23     4\n",
       "2020-06-12     4\n",
       "2020-06-13     4\n",
       "2020-06-14    18\n",
       "2020-06-15     4\n",
       "2020-06-17     4\n",
       "2020-07-21     2\n",
       "2020-07-31     2\n",
       "2021-01-30     2\n",
       "2021-01-31     2\n",
       "2021-02-23     2\n",
       "2021-02-25     2\n",
       "Name: night_of, dtype: int64"
      ]
     },
     "execution_count": 24,
     "metadata": {},
     "output_type": "execute_result"
    }
   ],
   "source": [
    "df.night_of.value_counts(sort=False).sort_index()"
   ]
  },
  {
   "cell_type": "code",
   "execution_count": 25,
   "id": "92f2742f",
   "metadata": {},
   "outputs": [
    {
     "data": {
      "text/plain": [
       "UT20-2-011    90\n",
       "UT21-1-010     8\n",
       "Name: QPROG, dtype: int64"
      ]
     },
     "execution_count": 25,
     "metadata": {},
     "output_type": "execute_result"
    }
   ],
   "source": [
    "df['QPROG'].value_counts()"
   ]
  },
  {
   "cell_type": "code",
   "execution_count": 26,
   "id": "c9004823",
   "metadata": {},
   "outputs": [
    {
     "data": {
      "text/plain": [
       "UT20-2-011    87\n",
       "UT22-2-019    54\n",
       "UT21-1-010    11\n",
       "Name: QPROG, dtype: int64"
      ]
     },
     "execution_count": 26,
     "metadata": {},
     "output_type": "execute_result"
    }
   ],
   "source": [
    "df_goldi['QPROG'].value_counts()"
   ]
  },
  {
   "cell_type": "code",
   "execution_count": 27,
   "id": "3a37d1e2",
   "metadata": {},
   "outputs": [
    {
     "data": {
      "text/plain": [
       "2020-04-26     4\n",
       "2020-04-27    12\n",
       "2020-04-28     4\n",
       "2020-05-19     4\n",
       "2020-05-20     4\n",
       "2020-05-21    14\n",
       "2020-05-22     4\n",
       "2020-05-23     4\n",
       "2020-06-12     3\n",
       "2020-06-13     4\n",
       "2020-06-14    18\n",
       "2020-06-15     4\n",
       "2020-06-17     4\n",
       "2020-07-21     2\n",
       "2020-07-31     2\n",
       "2021-01-30     2\n",
       "2021-01-31     2\n",
       "2021-02-23     1\n",
       "2021-02-25     2\n",
       "2021-03-03     2\n",
       "2021-03-30     2\n",
       "2022-04-27     4\n",
       "2022-04-28    14\n",
       "2022-04-29     4\n",
       "2022-04-30     4\n",
       "2022-05-01     4\n",
       "2022-06-19     3\n",
       "2022-06-21     6\n",
       "2022-06-22     3\n",
       "2022-06-25     1\n",
       "2022-06-30     1\n",
       "2022-07-09     1\n",
       "2022-07-10     1\n",
       "2022-07-12     3\n",
       "2022-07-14     1\n",
       "2022-07-15     1\n",
       "2022-07-19     1\n",
       "2022-07-28     1\n",
       "2022-07-29     1\n",
       "Name: night_of, dtype: int64"
      ]
     },
     "execution_count": 27,
     "metadata": {},
     "output_type": "execute_result"
    }
   ],
   "source": [
    "df_goldi.night_of.value_counts(sort=False).sort_index()"
   ]
  },
  {
   "cell_type": "code",
   "execution_count": 31,
   "id": "141d12de",
   "metadata": {},
   "outputs": [
    {
     "data": {
      "text/plain": [
       "98"
      ]
     },
     "execution_count": 31,
     "metadata": {},
     "output_type": "execute_result"
    }
   ],
   "source": [
    "len(df.full_path.values)"
   ]
  },
  {
   "cell_type": "code",
   "execution_count": 32,
   "id": "ed649aac",
   "metadata": {},
   "outputs": [],
   "source": [
    "n_psu = len(df.full_path.values)"
   ]
  },
  {
   "cell_type": "code",
   "execution_count": 33,
   "id": "f48c526e",
   "metadata": {},
   "outputs": [],
   "source": [
    "! mkdir /Users/mag3842/GitHub/disperse/data/HPF/HAT_P_67_psu/"
   ]
  },
  {
   "cell_type": "code",
   "execution_count": 36,
   "id": "1ace69e2",
   "metadata": {},
   "outputs": [],
   "source": [
    "for i in range(n_psu):\n",
    "    fn = df.full_path.iloc[i]\n",
    "    cmd = f'cp {fn} /Users/mag3842/GitHub/disperse/data/HPF/HAT_P_67_psu/'\n",
    "    #print(cmd)\n",
    "    #return_status = os.system(cmd)"
   ]
  },
  {
   "cell_type": "code",
   "execution_count": null,
   "id": "d7f79a39",
   "metadata": {},
   "outputs": [],
   "source": []
  }
 ],
 "metadata": {
  "kernelspec": {
   "display_name": "Python 3 (ipykernel)",
   "language": "python",
   "name": "python3"
  },
  "language_info": {
   "codemirror_mode": {
    "name": "ipython",
    "version": 3
   },
   "file_extension": ".py",
   "mimetype": "text/x-python",
   "name": "python",
   "nbconvert_exporter": "python",
   "pygments_lexer": "ipython3",
   "version": "3.8.12"
  }
 },
 "nbformat": 4,
 "nbformat_minor": 5
}
