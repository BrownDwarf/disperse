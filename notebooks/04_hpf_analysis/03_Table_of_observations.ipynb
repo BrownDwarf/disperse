{
 "cells": [
  {
   "cell_type": "markdown",
   "metadata": {},
   "source": [
    "# Table of HPF observations\n",
    "## Needed for the paper\n",
    "\n",
    "\n",
    "Author: Michael Gully-Santiago  \n",
    "Date: Nov 21, 2022\n",
    "\n",
    "Let's make a table of HPF observations"
   ]
  },
  {
   "cell_type": "code",
   "execution_count": 1,
   "metadata": {},
   "outputs": [],
   "source": [
    "import numpy as np\n",
    "import pandas as pd\n",
    "import os\n",
    "import glob\n",
    "from astropy.io import fits\n",
    "import warnings\n",
    "import matplotlib.pyplot as plt\n",
    "import astropy.units as u\n",
    "from muler.hpf import HPFSpectrum\n",
    "import seaborn as sns\n",
    "\n",
    "from specutils.fitting import fit_continuum\n",
    "from astropy.modeling import models\n",
    "\n",
    "from astropy.time import Time\n",
    "import lightkurve as lk\n",
    "from tqdm.notebook import tqdm\n",
    "\n",
    "%matplotlib inline\n",
    "%config InlineBackend.figure_format='retina'\n",
    "sns.set_context('paper', font_scale=1.2)\n",
    "\n",
    "from pandas.core.common import SettingWithCopyWarning\n",
    "\n",
    "warnings.simplefilter(action=\"ignore\", category=SettingWithCopyWarning)\n",
    "warnings.filterwarnings(\"ignore\", message=\"Model is linear in parameters\")"
   ]
  },
  {
   "cell_type": "code",
   "execution_count": 2,
   "metadata": {},
   "outputs": [],
   "source": [
    "plt.rcParams['axes.facecolor']='white'\n",
    "plt.rcParams['savefig.facecolor']='white'"
   ]
  },
  {
   "cell_type": "markdown",
   "metadata": {},
   "source": [
    "### Read in the table of metadata"
   ]
  },
  {
   "cell_type": "code",
   "execution_count": 3,
   "metadata": {},
   "outputs": [],
   "source": [
    "def get_metadata_from_fits(filenames, dynamic_only=True):\n",
    "    df_out = pd.DataFrame()\n",
    "    for file in tqdm(filenames):\n",
    "        hdu = fits.open(file)\n",
    "        hdr = hdu[0].header\n",
    "        \n",
    "        # Remove duplicate keys like `HISTORY`\n",
    "        columns = np.array(list(hdr.keys()))\n",
    "        _, indices, counts = np.unique(columns, return_index=True, return_counts=True)\n",
    "        columns = columns[np.isin(columns, columns[indices[counts==1]])]\n",
    "        df = pd.Series({col:hdr[col] for col in columns }).to_frame().T\n",
    "        df['file']=file\n",
    "        df_out = df_out.append(df, ignore_index=True)\n",
    "        hdu.close()\n",
    "    \n",
    "    # Only keep columns that change in time\n",
    "    if dynamic_only:\n",
    "        dynamic_columns = df_out.apply(lambda x: len(pd.unique(x))) != 1\n",
    "        df_out = df_out[dynamic_columns[dynamic_columns].index.values]\n",
    "        \n",
    "    return df_out"
   ]
  },
  {
   "cell_type": "code",
   "execution_count": 4,
   "metadata": {},
   "outputs": [],
   "source": [
    "tacc_path = '/Volumes/pecos/HPF/TACC'"
   ]
  },
  {
   "cell_type": "code",
   "execution_count": 5,
   "metadata": {},
   "outputs": [],
   "source": [
    "exosphere_program_ids = ['UT19-2-013', 'UT19-3-009',  'UT20-1-012', \n",
    "                         'UT20-2-011', 'UT20-3-009', 'UT21-1-010', 'UT22-2-019']"
   ]
  },
  {
   "cell_type": "code",
   "execution_count": 6,
   "metadata": {},
   "outputs": [
    {
     "name": "stdout",
     "output_type": "stream",
     "text": [
      "UT19-2-013\n",
      "UT19-3-009\n",
      "UT20-1-012\n",
      "UT20-2-011\n",
      "UT20-3-009\n",
      "UT21-1-010\n",
      "UT22-2-019\n"
     ]
    }
   ],
   "source": [
    "tacc_goldilocks_files = []\n",
    "for prog_id in exosphere_program_ids:\n",
    "    print(prog_id)\n",
    "    pattern = tacc_path + '/{}/*spectra.fits'.format(prog_id)\n",
    "    filenames = glob.glob(pattern, recursive=True)\n",
    "    tacc_goldilocks_files += filenames"
   ]
  },
  {
   "cell_type": "code",
   "execution_count": 7,
   "metadata": {},
   "outputs": [
    {
     "data": {
      "text/plain": [
       "1073"
      ]
     },
     "execution_count": 7,
     "metadata": {},
     "output_type": "execute_result"
    }
   ],
   "source": [
    "len(tacc_goldilocks_files)"
   ]
  },
  {
   "cell_type": "code",
   "execution_count": 8,
   "metadata": {},
   "outputs": [],
   "source": [
    "%%capture\n",
    "df_raw = get_metadata_from_fits(tacc_goldilocks_files)"
   ]
  },
  {
   "cell_type": "code",
   "execution_count": 9,
   "metadata": {},
   "outputs": [
    {
     "data": {
      "text/plain": [
       "1073"
      ]
     },
     "execution_count": 9,
     "metadata": {},
     "output_type": "execute_result"
    }
   ],
   "source": [
    "len(df_raw)"
   ]
  },
  {
   "cell_type": "code",
   "execution_count": 10,
   "metadata": {},
   "outputs": [],
   "source": [
    "df_raw['full_path'] = tacc_goldilocks_files"
   ]
  },
  {
   "cell_type": "code",
   "execution_count": 11,
   "metadata": {},
   "outputs": [],
   "source": [
    "target_mask = df_raw.OBJECT.str.contains('67')\n",
    "df = df_raw[target_mask]"
   ]
  },
  {
   "cell_type": "code",
   "execution_count": 12,
   "metadata": {},
   "outputs": [
    {
     "data": {
      "text/plain": [
       "HAT-P-67b_IN_1             28\n",
       "HAT-P-67b_IN_2             14\n",
       "hat-p-67b                  12\n",
       "HAT-P-67b_IN_3              9\n",
       "HAT-P-67b_OUT_same3         9\n",
       "HAT-P-67b_OUT_1_before1     4\n",
       "HAT-P-67b_OUT_3_after2      4\n",
       "HAT-P-67b_OUT_2_b2          4\n",
       "HAT-P-67b_OUT_1_a2          4\n",
       "HAT-P-67b_OUT_1_a1          4\n",
       "HAT-P-67b_OUT_1_b1          4\n",
       "Hat-P-67                    4\n",
       "HAT-P-67b_OUT_1_b2          4\n",
       "HAT-P-67b_OUT_3_after1      4\n",
       "HAT-P-67b_OUT_2_after2      4\n",
       "HAT-P-67b_OUT_2_after1      4\n",
       "HAT-P-67b_OUT_2_before1     4\n",
       "HAT-P-67b_OUT_2_before2     4\n",
       "HAT-P-67b_OUT_1_after1      4\n",
       "HAT-P-67b_OUT_3_before1     4\n",
       "HAT-P-67b_EPOCH2            3\n",
       "HAT-P-67b_EPOCH5            3\n",
       "HAT-P-67b_EPOCH3            3\n",
       "HAT-P-67b_EPOCH4            3\n",
       "HAT-P-67b_EPOCH1            3\n",
       "HAT-P-67b_OUT_3_before2     3\n",
       "HAT-P-67b_P1_monitor_4      2\n",
       "HAT-P-67b_P1_monitor_5      2\n",
       "HAT-P-67b_P1_monitor_8      2\n",
       "HAT-P-67b_P1_monitor_1      1\n",
       "HAT-P-67b_P1_monitor_2      1\n",
       "HAT-P-67b_P1_monitor_6      1\n",
       "Name: OBJECT, dtype: int64"
      ]
     },
     "execution_count": 12,
     "metadata": {},
     "output_type": "execute_result"
    }
   ],
   "source": [
    "df.OBJECT.value_counts()"
   ]
  },
  {
   "cell_type": "markdown",
   "metadata": {},
   "source": [
    "## Assign the orbital phase\n",
    "\n",
    "Let's compute the normalized phase shifted so that the transit midpoint always occurs at zero while also seeing the light curve before and after the midpoint.\n",
    "\n",
    "$$\\phi=\\frac{\\mod(t-T_c+\\frac{P}{2}\\;,P)}{P} -0.5$$ "
   ]
  },
  {
   "cell_type": "code",
   "execution_count": 13,
   "metadata": {},
   "outputs": [],
   "source": [
    "target_name = 'HAT-P-67b'\n",
    "orbital_period = 4.81010250\n",
    "t_c = 2455961.38467\n",
    "t_c_btjd = t_c - 2457000.0 #neg value means discovered before TESS\n",
    "t_14_hours = 6.989 # transit duration in hours\n",
    "t_14_days = t_14_hours/24.0\n",
    "t_14_orb_phase = t_14_days / orbital_period"
   ]
  },
  {
   "cell_type": "code",
   "execution_count": 14,
   "metadata": {},
   "outputs": [],
   "source": [
    "df['JD'] = df['DATE-OBS'].apply(lambda x: Time(x).jd)\n",
    "df['BTJD'] = df.JD -2457000.0\n",
    "\n",
    "df['phase'] = np.mod(df.BTJD-t_c_btjd+(orbital_period*0.5),orbital_period)-0.5*orbital_period\n",
    "df['normalized_phase']=(df['phase']/orbital_period)\n",
    "df['in_transit_flag']=np.abs(df['normalized_phase']) < t_14_orb_phase/2.0"
   ]
  },
  {
   "cell_type": "code",
   "execution_count": 15,
   "metadata": {},
   "outputs": [],
   "source": [
    "def get_full_path(fn, trimester, base_path=None):\n",
    "    \"\"\"Get the full path to the data synced from TACC\n",
    "    \n",
    "    Parameters:\n",
    "    ----------\n",
    "    \n",
    "    fn (str): The Goldilocks or PSU reduced 1D filename\n",
    "    trimester (str): The trimester identifier \"QPROG\" from the FITS header\n",
    "    base_path: The root directory to the TACC-synced data\n",
    "    \"\"\"\n",
    "    \n",
    "    return str(base_path) + '/' + str(trimester) + '/' + str(fn)"
   ]
  },
  {
   "cell_type": "code",
   "execution_count": 16,
   "metadata": {},
   "outputs": [],
   "source": [
    "#df['full_path'] = df.apply(lambda x: get_full_path(x.file_basename_Goldilocks, x.QPROG, base_path=base_path), axis=1)"
   ]
  },
  {
   "cell_type": "markdown",
   "metadata": {},
   "source": [
    "Assign the \"campaigns\" surrounding individual transits."
   ]
  },
  {
   "cell_type": "code",
   "execution_count": 17,
   "metadata": {},
   "outputs": [],
   "source": [
    "from astropy.time import Time\n",
    "import astropy.units as u"
   ]
  },
  {
   "cell_type": "code",
   "execution_count": 18,
   "metadata": {},
   "outputs": [],
   "source": [
    "hpf_t0 = Time(['2017-11-29T17:00:00.0']) # 17h UTC is ~noon in Fort Davis\n",
    "JD_values = df['JD'].values\n",
    "night_number = np.floor(JD_values - hpf_t0.jd).astype(int)\n",
    "time_from_local_midnight = np.round(np.mod(JD_values - hpf_t0.jd, 1)*24.0 - 12.0, decimals=2)\n",
    "df.insert(0, 'night_number', night_number)\n",
    "nightly_timestamp = (hpf_t0 + df.night_number*u.day).iso\n",
    "df.insert(1, 'night_of', [string[0:10] for string in nightly_timestamp])\n",
    "df.insert(2, 'local_hour', time_from_local_midnight) # Negative means time until local midnight"
   ]
  },
  {
   "cell_type": "code",
   "execution_count": 19,
   "metadata": {},
   "outputs": [
    {
     "data": {
      "text/plain": [
       "2020-04-26     4\n",
       "2020-04-27    14\n",
       "2020-04-28     4\n",
       "2020-05-19     4\n",
       "2020-05-20     4\n",
       "2020-05-21    14\n",
       "2020-05-22     4\n",
       "2020-05-23     4\n",
       "2020-06-12     3\n",
       "2020-06-13     4\n",
       "2020-06-14    18\n",
       "2020-06-15     4\n",
       "2020-06-17     4\n",
       "2020-07-21     2\n",
       "2020-07-31     2\n",
       "2021-01-30     2\n",
       "2021-01-31     2\n",
       "2021-02-23     2\n",
       "2021-02-25     2\n",
       "2021-03-03     2\n",
       "2021-03-30     2\n",
       "2022-04-26     4\n",
       "2022-04-27     4\n",
       "2022-04-28    14\n",
       "2022-04-29     4\n",
       "2022-04-30     4\n",
       "2022-05-01     4\n",
       "2022-06-19     3\n",
       "2022-06-21     6\n",
       "2022-06-22     3\n",
       "2022-06-25     1\n",
       "2022-06-30     1\n",
       "2022-07-09     1\n",
       "2022-07-10     1\n",
       "2022-07-12     3\n",
       "2022-07-14     1\n",
       "2022-07-15     1\n",
       "2022-07-19     1\n",
       "2022-07-28     1\n",
       "2022-07-29     1\n",
       "Name: night_of, dtype: int64"
      ]
     },
     "execution_count": 19,
     "metadata": {},
     "output_type": "execute_result"
    }
   ],
   "source": [
    "df.night_of.value_counts().sort_index()"
   ]
  },
  {
   "cell_type": "code",
   "execution_count": 20,
   "metadata": {},
   "outputs": [],
   "source": [
    "df['campaign'] = ''\n",
    "\n",
    "df.campaign[df.night_of.isin(['2020-04-26', '2020-04-27', '2020-04-28'])] = 'April 2020'\n",
    "df.campaign[df.night_of.str.contains('2020-05')] = 'May 2020'\n",
    "df.campaign[df.night_of.str.contains('2020-06')] = 'June 2020'\n",
    "df.campaign[df.night_of.isin(['2022-04-26', '2022-04-27', '2022-04-28', \n",
    "                              '2022-04-29', '2022-04-30', '2022-05-01'])] = 'April 2022'\n",
    "df.campaign[df.campaign==''] = 'P4'"
   ]
  },
  {
   "cell_type": "markdown",
   "metadata": {},
   "source": [
    "## Conduct Helium analysis\n",
    "\n",
    "Derive median uncertainty"
   ]
  },
  {
   "cell_type": "code",
   "execution_count": 21,
   "metadata": {},
   "outputs": [
    {
     "data": {
      "text/plain": [
       "P4            40\n",
       "April 2022    34\n",
       "June 2020     33\n",
       "May 2020      30\n",
       "April 2020    22\n",
       "Name: campaign, dtype: int64"
      ]
     },
     "execution_count": 21,
     "metadata": {},
     "output_type": "execute_result"
    }
   ],
   "source": [
    "df.campaign.value_counts()"
   ]
  },
  {
   "cell_type": "code",
   "execution_count": 22,
   "metadata": {},
   "outputs": [],
   "source": [
    "df = df.reset_index(drop=True)"
   ]
  },
  {
   "cell_type": "code",
   "execution_count": 23,
   "metadata": {},
   "outputs": [],
   "source": [
    "threshold = 0.035 # SNR per pixel should be better than ~30:1"
   ]
  },
  {
   "cell_type": "code",
   "execution_count": 24,
   "metadata": {},
   "outputs": [],
   "source": [
    "df['stddev_order19'] = 0.0\n",
    "for i, fn in enumerate(df.full_path.values):\n",
    "    spec_raw = HPFSpectrum(file=fn, order=19)\n",
    "    spec = spec_raw.sky_subtract(method='vector').remove_nans().trim_edges().deblaze().normalize()\n",
    "    spec = spec.apply_boolean_mask(spec.wavelength<(10827*u.Angstrom)).remove_nans().trim_edges()\n",
    "    df.loc[i, 'stddev_order19'] = np.nanstd(spec.flux.value)"
   ]
  },
  {
   "cell_type": "code",
   "execution_count": 25,
   "metadata": {},
   "outputs": [
    {
     "data": {
      "text/plain": [
       "<matplotlib.lines.Line2D at 0x162350640>"
      ]
     },
     "execution_count": 25,
     "metadata": {},
     "output_type": "execute_result"
    },
    {
     "data": {
      "image/png": "[encoded data removed]",
      "text/plain": [
       "<Figure size 432x288 with 1 Axes>"
      ]
     },
     "metadata": {
      "image/png": {
       "height": 250,
       "width": 382
      },
      "needs_background": "light"
     },
     "output_type": "display_data"
    }
   ],
   "source": [
    "plt.hist(df.stddev_order19, bins=np.arange(0, 0.2, 0.001));\n",
    "plt.axvline(threshold, linestyle='dashed', color='k')"
   ]
  },
  {
   "cell_type": "code",
   "execution_count": 26,
   "metadata": {},
   "outputs": [],
   "source": [
    "high_snr = df.stddev_order19 < threshold"
   ]
  },
  {
   "cell_type": "code",
   "execution_count": 27,
   "metadata": {},
   "outputs": [
    {
     "data": {
      "text/plain": [
       "<matplotlib.lines.Line2D at 0x16207d160>"
      ]
     },
     "execution_count": 27,
     "metadata": {},
     "output_type": "execute_result"
    },
    {
     "data": {
      "image/png": "[encoded data removed]",
      "text/plain": [
       "<Figure size 432x288 with 1 Axes>"
      ]
     },
     "metadata": {
      "image/png": {
       "height": 254,
       "width": 387
      },
      "needs_background": "light"
     },
     "output_type": "display_data"
    }
   ],
   "source": [
    "plt.plot(df.night_number, df.stddev_order19, '.')\n",
    "plt.ylim(0, 0.2)\n",
    "plt.axhline(0.08, color='k')\n",
    "#plt.xlim(1300)"
   ]
  },
  {
   "cell_type": "code",
   "execution_count": 28,
   "metadata": {},
   "outputs": [],
   "source": [
    "fn1 = '/Volumes/pecos/HPF/TACC/UT22-2-019/Goldilocks_20220502T063058_v1.0_0033.spectra.fits'\n",
    "fn2 = '/Volumes/pecos/HPF/TACC/UT22-2-019/Goldilocks_20220622T031918_v1.0_0002.spectra.fits'"
   ]
  },
  {
   "cell_type": "code",
   "execution_count": 29,
   "metadata": {},
   "outputs": [
    {
     "data": {
      "text/plain": [
       "(0.6, 0.95)"
      ]
     },
     "execution_count": 29,
     "metadata": {},
     "output_type": "execute_result"
    },
    {
     "data": {
      "image/png": "[encoded data removed]",
      "text/plain": [
       "<Figure size 720x288 with 1 Axes>"
      ]
     },
     "metadata": {
      "image/png": {
       "height": 283,
       "width": 641
      },
      "needs_background": "light"
     },
     "output_type": "display_data"
    }
   ],
   "source": [
    "spec_raw = HPFSpectrum(file=fn1, order=19)\n",
    "ax = spec_raw.normalize().trim_edges().plot()\n",
    "spec_raw2 = HPFSpectrum(file=fn2, order=19)\n",
    "spec_raw2.normalize().trim_edges().plot(ax=ax)\n",
    "ax.set_xlim(10820, 10840)\n",
    "ax.set_ylim(0.6, 0.95)"
   ]
  },
  {
   "cell_type": "markdown",
   "metadata": {},
   "source": [
    "For some reason the summer 2022 have a shift?  Keep them all..."
   ]
  },
  {
   "cell_type": "code",
   "execution_count": 30,
   "metadata": {},
   "outputs": [],
   "source": [
    "summer_2022 = (df.night_of.str.contains('2022-05') | \n",
    "               df.night_of.str.contains('2022-06') | \n",
    "               df.night_of.str.contains('2022-07') )"
   ]
  },
  {
   "cell_type": "code",
   "execution_count": 31,
   "metadata": {},
   "outputs": [],
   "source": [
    "df = df[high_snr | summer_2022].reset_index(drop=True)"
   ]
  },
  {
   "cell_type": "code",
   "execution_count": 32,
   "metadata": {},
   "outputs": [
    {
     "data": {
      "text/plain": [
       "array(['night_number', 'night_of', 'local_hour', 'ORIGIN', 'DATE',\n",
       "       'OBJECT', 'OBSERVER', 'OBSTYPE', 'DATE-OBS', 'CAL-OBJ', 'QTIME',\n",
       "       'QRA', 'QDEC', 'QEQUINOX', 'QEPOCH', 'QPMRA', 'QPMDEC', 'QPROG',\n",
       "       'QIDX', 'TRAJTIME', 'TRAJID', 'RADETIME', 'RA', 'DEC', 'RA_2000',\n",
       "       'DEC_2000', 'HA', 'LST', 'PA', 'EL', 'AZ', 'ZA', 'TTIME', 'RTFX',\n",
       "       'RTFY', 'RTFZ', 'RTFRHO', 'RTFTHETA', 'RTFPHI', 'STRTTIME',\n",
       "       'STRTTGT', 'STRTAZ', 'STRTEL', 'DOMETIME', 'DOMETGT', 'DOMEPOS',\n",
       "       'ENVTIME', 'ENVTEM', 'ENVHUM', 'ENVPRE', 'ENVWIN', 'ENVDIR',\n",
       "       'ENVSTD', 'ENVTMIR', 'ENVTTRU', 'PFSHTIME', 'PFSHPOS', 'FCUTIME',\n",
       "       'FCULAMPA', 'FCULAMPB', 'FCULBPOS', 'FCULGPOS', 'FCULAMP',\n",
       "       'LS218_1', 'LS218_2', 'LS218_3', 'LS218_4', 'LS218_5', 'LS218_6',\n",
       "       'LS218_7', 'TMCRCX10', 'TMCTCX10', 'TMCV2N00', 'TMCT2N00',\n",
       "       'TMCPHT10', 'TMCRCX11', 'TMCTCX11', 'TMCV2N01', 'TMCT2N01',\n",
       "       'TMCPHT11', 'TMCRCX12', 'TMCTCX12', 'TMCV2N02', 'TMCT2N02',\n",
       "       'TMCPHT12', 'TMCRCX15', 'TMCTCX15', 'TMCV2N03', 'TMCT2N03',\n",
       "       'TMCPHT13', 'TMCRCX16', 'TMCTCX16', 'TMCV2N04', 'TMCT2N04',\n",
       "       'TMCPHT14', 'TMCRCX17', 'TMCTCX17', 'TMCV2N10', 'TMCT2N10',\n",
       "       'TMCPHT15', 'TMCRCX18', 'TMCTCX18', 'TMCV2N06', 'TMCT2N06',\n",
       "       'TMCPHT16', 'TMCRCX19', 'TMCTCX19', 'TMCV2N07', 'TMCT2N07',\n",
       "       'TMCPHT17', 'TMCRCX20', 'TMCTCX20', 'TMCV2N18', 'TMCT2N18',\n",
       "       'TMCPHT20', 'TMCRCX21', 'TMCTCX21', 'TMCV2N19', 'TMCT2N19',\n",
       "       'TMCPHT22', 'TMCRCX22', 'TMCTCX22', 'TMCV2N20', 'TMCT2N20',\n",
       "       'TMCPHT23', 'TMCRCX25', 'TMCTCX25', 'TMCV2N21', 'TMCT2N21',\n",
       "       'TMCPHT26', 'TMCRCX26', 'TMCTCX26', 'TMCV2N22', 'TMCT2N22',\n",
       "       'TMCPHT25', 'TMCRCX27', 'TMCTCX27', 'TMCV2N30', 'TMCT2N30',\n",
       "       'TMCPHT24', 'TMCRCX23', 'TMCTCX23', 'TMCV2N24', 'TMCT2N24',\n",
       "       'TMCPHT30', 'TMCRCX24', 'TMCTCX24', 'TMCV2N25', 'TMCT2N25',\n",
       "       'TMCPHT31', 'TMCRCX28', 'TMCTCX28', 'TMCV2N26', 'TMCT2N26',\n",
       "       'TMCPHT32', 'TMCRCX29', 'TMCTCX29', 'TMCV2N27', 'TMCT2N27',\n",
       "       'TMCPHT33', 'TMCRCX13', 'TMCTCX13', 'TMCV2N40', 'TMCT2N40',\n",
       "       'TMCV2N09', 'TMCT2N09', 'TMCV2N36', 'TMCT2N36', 'TMCV2N37',\n",
       "       'TMCT2N37', 'TMCV2N38', 'TMCT2N38', 'TMCV2N39', 'TMCT2N39',\n",
       "       'TMCRCX14', 'TMCTCX14', 'TMCV2N08', 'TMCT2N08', 'TMCV2N48',\n",
       "       'TMCT2N48', 'TMCV2N42', 'TMCT2N42', 'TMCV2N43', 'TMCT2N43',\n",
       "       'TMCV2N28', 'TMCT2N28', 'TMCV2N31', 'TMCT2N31', 'TMCV2N44',\n",
       "       'TMCT2N44', 'TMCV2N45', 'TMCT2N45', 'TMCRCX02', 'TMCTCX02',\n",
       "       'TMCV2N05', 'TMCT2N05', 'TMCV2N11', 'TMCT2N11', 'TMCV2N17',\n",
       "       'TMCT2N17', 'TMCV2N23', 'TMCT2N23', 'TMCV2N29', 'TMCT2N29',\n",
       "       'TMCV2N35', 'TMCT2N35', 'TMCV2N41', 'TMCT2N41', 'TMCV2N47',\n",
       "       'TMCT2N47', 'TMCV2N53', 'TMCT2N53', 'FILTER1', 'FILTER2',\n",
       "       'TURRETA', 'TURRETS', 'SHUTTER3', 'SHUTTER4', 'LFCPOLA', 'LS336_A',\n",
       "       'LS336_B', 'LS336_C', 'LS336_D', 'LS336_1', 'LS336_2', 'DSUB_V',\n",
       "       'NREADS', 'ITIME', 'NONDR', 'EXPLNDR', 'BRVCORR', 'LRVCORR',\n",
       "       'file', 'VREFMA_V', 'VREFMA_I', 'AVRF0P3V', 'AVRF0P3I', 'ADRAINV',\n",
       "       'ADRAINI', 'AVPCFBIV', 'AVPCFBII', 'AVRF2P0V', 'AVRF2P0I',\n",
       "       'AVDDAV', 'AVDDAI', 'ACELLDRV', 'ACELLDRI', 'AVPAMP2V', 'AVPAMP2I',\n",
       "       'AVCMV', 'AVCMI', 'AVRF1P3V', 'AVRF1P3I', 'AVPAMP1V', 'AVPAMP1I',\n",
       "       'AVRESETV', 'AVRESETI', 'AVBIASPV', 'AVBIASPI', 'AVRPV', 'AVRPI',\n",
       "       'AVDDV', 'AVDDI', 'AVREFMAV', 'AVREFMAI', 'AVBIASGV', 'AVBIASGI',\n",
       "       'AVPREMIV', 'AVPREMII', 'AVRNV', 'AVRNI', 'ADSUBV', 'ADSUBI',\n",
       "       'AVRF3P0V', 'AVRF3P0I', 'full_path', 'JD', 'BTJD', 'phase',\n",
       "       'normalized_phase', 'in_transit_flag', 'campaign',\n",
       "       'stddev_order19'], dtype=object)"
      ]
     },
     "execution_count": 32,
     "metadata": {},
     "output_type": "execute_result"
    }
   ],
   "source": [
    "df.columns.values"
   ]
  },
  {
   "cell_type": "code",
   "execution_count": 33,
   "metadata": {},
   "outputs": [
    {
     "data": {
      "text/html": [
       "<div>\n",
       "<style scoped>\n",
       "    .dataframe tbody tr th:only-of-type {\n",
       "        vertical-align: middle;\n",
       "    }\n",
       "\n",
       "    .dataframe tbody tr th {\n",
       "        vertical-align: top;\n",
       "    }\n",
       "\n",
       "    .dataframe thead th {\n",
       "        text-align: right;\n",
       "    }\n",
       "</style>\n",
       "<table border=\"1\" class=\"dataframe\">\n",
       "  <thead>\n",
       "    <tr style=\"text-align: right;\">\n",
       "      <th></th>\n",
       "      <th>ITIME</th>\n",
       "      <th>normalized_phase</th>\n",
       "      <th>stddev_order19</th>\n",
       "      <th>QRA</th>\n",
       "      <th>HA</th>\n",
       "    </tr>\n",
       "    <tr>\n",
       "      <th>night_of</th>\n",
       "      <th></th>\n",
       "      <th></th>\n",
       "      <th></th>\n",
       "      <th></th>\n",
       "      <th></th>\n",
       "    </tr>\n",
       "  </thead>\n",
       "  <tbody>\n",
       "    <tr>\n",
       "      <th>2020-04-26</th>\n",
       "      <td>308.85</td>\n",
       "      <td>-0.191753</td>\n",
       "      <td>0.017570</td>\n",
       "      <td>4</td>\n",
       "      <td>20.954660</td>\n",
       "    </tr>\n",
       "    <tr>\n",
       "      <th>2020-04-27</th>\n",
       "      <td>308.85</td>\n",
       "      <td>0.018197</td>\n",
       "      <td>0.029247</td>\n",
       "      <td>12</td>\n",
       "      <td>21.257208</td>\n",
       "    </tr>\n",
       "    <tr>\n",
       "      <th>2020-04-28</th>\n",
       "      <td>308.85</td>\n",
       "      <td>0.224743</td>\n",
       "      <td>0.013589</td>\n",
       "      <td>4</td>\n",
       "      <td>21.167564</td>\n",
       "    </tr>\n",
       "    <tr>\n",
       "      <th>2020-05-19</th>\n",
       "      <td>308.85</td>\n",
       "      <td>-0.373471</td>\n",
       "      <td>0.013540</td>\n",
       "      <td>4</td>\n",
       "      <td>2.710785</td>\n",
       "    </tr>\n",
       "    <tr>\n",
       "      <th>2020-05-20</th>\n",
       "      <td>308.85</td>\n",
       "      <td>-0.168524</td>\n",
       "      <td>0.014541</td>\n",
       "      <td>4</td>\n",
       "      <td>2.434919</td>\n",
       "    </tr>\n",
       "    <tr>\n",
       "      <th>2020-05-21</th>\n",
       "      <td>308.85</td>\n",
       "      <td>-0.005899</td>\n",
       "      <td>0.019075</td>\n",
       "      <td>14</td>\n",
       "      <td>21.260575</td>\n",
       "    </tr>\n",
       "    <tr>\n",
       "      <th>2020-05-22</th>\n",
       "      <td>308.85</td>\n",
       "      <td>0.246245</td>\n",
       "      <td>0.015426</td>\n",
       "      <td>4</td>\n",
       "      <td>2.447938</td>\n",
       "    </tr>\n",
       "    <tr>\n",
       "      <th>2020-05-23</th>\n",
       "      <td>308.85</td>\n",
       "      <td>0.455040</td>\n",
       "      <td>0.012482</td>\n",
       "      <td>4</td>\n",
       "      <td>2.617940</td>\n",
       "    </tr>\n",
       "    <tr>\n",
       "      <th>2020-06-12</th>\n",
       "      <td>308.85</td>\n",
       "      <td>-0.397313</td>\n",
       "      <td>0.013804</td>\n",
       "      <td>3</td>\n",
       "      <td>2.742790</td>\n",
       "    </tr>\n",
       "    <tr>\n",
       "      <th>2020-06-13</th>\n",
       "      <td>308.85</td>\n",
       "      <td>-0.189798</td>\n",
       "      <td>0.015447</td>\n",
       "      <td>4</td>\n",
       "      <td>2.764634</td>\n",
       "    </tr>\n",
       "    <tr>\n",
       "      <th>2020-06-14</th>\n",
       "      <td>308.85</td>\n",
       "      <td>-0.006101</td>\n",
       "      <td>0.024483</td>\n",
       "      <td>18</td>\n",
       "      <td>12.029604</td>\n",
       "    </tr>\n",
       "    <tr>\n",
       "      <th>2020-06-15</th>\n",
       "      <td>308.85</td>\n",
       "      <td>0.223535</td>\n",
       "      <td>0.017673</td>\n",
       "      <td>4</td>\n",
       "      <td>2.611695</td>\n",
       "    </tr>\n",
       "    <tr>\n",
       "      <th>2020-06-17</th>\n",
       "      <td>308.85</td>\n",
       "      <td>-0.359645</td>\n",
       "      <td>0.018617</td>\n",
       "      <td>4</td>\n",
       "      <td>2.862121</td>\n",
       "    </tr>\n",
       "    <tr>\n",
       "      <th>2020-07-21</th>\n",
       "      <td>511.20</td>\n",
       "      <td>-0.309415</td>\n",
       "      <td>0.019362</td>\n",
       "      <td>2</td>\n",
       "      <td>2.986879</td>\n",
       "    </tr>\n",
       "    <tr>\n",
       "      <th>2020-07-31</th>\n",
       "      <td>511.20</td>\n",
       "      <td>-0.239543</td>\n",
       "      <td>0.014508</td>\n",
       "      <td>2</td>\n",
       "      <td>2.591760</td>\n",
       "    </tr>\n",
       "    <tr>\n",
       "      <th>2021-01-30</th>\n",
       "      <td>511.20</td>\n",
       "      <td>-0.136241</td>\n",
       "      <td>0.020597</td>\n",
       "      <td>2</td>\n",
       "      <td>21.375653</td>\n",
       "    </tr>\n",
       "    <tr>\n",
       "      <th>2021-01-31</th>\n",
       "      <td>511.20</td>\n",
       "      <td>0.070119</td>\n",
       "      <td>0.028533</td>\n",
       "      <td>2</td>\n",
       "      <td>21.263424</td>\n",
       "    </tr>\n",
       "    <tr>\n",
       "      <th>2021-02-23</th>\n",
       "      <td>511.20</td>\n",
       "      <td>-0.160822</td>\n",
       "      <td>0.023728</td>\n",
       "      <td>1</td>\n",
       "      <td>21.321654</td>\n",
       "    </tr>\n",
       "    <tr>\n",
       "      <th>2021-02-25</th>\n",
       "      <td>511.20</td>\n",
       "      <td>0.250395</td>\n",
       "      <td>0.021842</td>\n",
       "      <td>2</td>\n",
       "      <td>20.923598</td>\n",
       "    </tr>\n",
       "    <tr>\n",
       "      <th>2021-03-03</th>\n",
       "      <td>511.20</td>\n",
       "      <td>0.496316</td>\n",
       "      <td>0.016437</td>\n",
       "      <td>2</td>\n",
       "      <td>21.149527</td>\n",
       "    </tr>\n",
       "    <tr>\n",
       "      <th>2021-03-30</th>\n",
       "      <td>511.20</td>\n",
       "      <td>0.094078</td>\n",
       "      <td>0.008826</td>\n",
       "      <td>2</td>\n",
       "      <td>21.138272</td>\n",
       "    </tr>\n",
       "    <tr>\n",
       "      <th>2022-04-27</th>\n",
       "      <td>308.85</td>\n",
       "      <td>-0.217160</td>\n",
       "      <td>0.018273</td>\n",
       "      <td>4</td>\n",
       "      <td>21.307939</td>\n",
       "    </tr>\n",
       "    <tr>\n",
       "      <th>2022-04-28</th>\n",
       "      <td>308.85</td>\n",
       "      <td>-0.010811</td>\n",
       "      <td>0.024474</td>\n",
       "      <td>14</td>\n",
       "      <td>21.194231</td>\n",
       "    </tr>\n",
       "    <tr>\n",
       "      <th>2022-04-29</th>\n",
       "      <td>308.85</td>\n",
       "      <td>0.195526</td>\n",
       "      <td>0.018188</td>\n",
       "      <td>4</td>\n",
       "      <td>21.080652</td>\n",
       "    </tr>\n",
       "    <tr>\n",
       "      <th>2022-04-30</th>\n",
       "      <td>308.85</td>\n",
       "      <td>0.402527</td>\n",
       "      <td>0.021398</td>\n",
       "      <td>4</td>\n",
       "      <td>21.042379</td>\n",
       "    </tr>\n",
       "    <tr>\n",
       "      <th>2022-05-01</th>\n",
       "      <td>308.85</td>\n",
       "      <td>-0.389723</td>\n",
       "      <td>0.017162</td>\n",
       "      <td>4</td>\n",
       "      <td>21.090460</td>\n",
       "    </tr>\n",
       "    <tr>\n",
       "      <th>2022-06-19</th>\n",
       "      <td>308.85</td>\n",
       "      <td>-0.229901</td>\n",
       "      <td>0.071035</td>\n",
       "      <td>3</td>\n",
       "      <td>21.176190</td>\n",
       "    </tr>\n",
       "    <tr>\n",
       "      <th>2022-06-21</th>\n",
       "      <td>308.85</td>\n",
       "      <td>0.209350</td>\n",
       "      <td>0.079253</td>\n",
       "      <td>6</td>\n",
       "      <td>12.023077</td>\n",
       "    </tr>\n",
       "    <tr>\n",
       "      <th>2022-06-22</th>\n",
       "      <td>308.85</td>\n",
       "      <td>0.438883</td>\n",
       "      <td>0.076238</td>\n",
       "      <td>3</td>\n",
       "      <td>2.592970</td>\n",
       "    </tr>\n",
       "    <tr>\n",
       "      <th>2022-06-25</th>\n",
       "      <td>308.85</td>\n",
       "      <td>0.016566</td>\n",
       "      <td>0.069571</td>\n",
       "      <td>1</td>\n",
       "      <td>21.466369</td>\n",
       "    </tr>\n",
       "    <tr>\n",
       "      <th>2022-06-30</th>\n",
       "      <td>308.85</td>\n",
       "      <td>0.100554</td>\n",
       "      <td>0.068971</td>\n",
       "      <td>1</td>\n",
       "      <td>2.946192</td>\n",
       "    </tr>\n",
       "    <tr>\n",
       "      <th>2022-07-09</th>\n",
       "      <td>308.85</td>\n",
       "      <td>-0.034886</td>\n",
       "      <td>0.073986</td>\n",
       "      <td>1</td>\n",
       "      <td>2.784932</td>\n",
       "    </tr>\n",
       "    <tr>\n",
       "      <th>2022-07-10</th>\n",
       "      <td>308.85</td>\n",
       "      <td>0.171703</td>\n",
       "      <td>0.073620</td>\n",
       "      <td>1</td>\n",
       "      <td>2.699432</td>\n",
       "    </tr>\n",
       "    <tr>\n",
       "      <th>2022-07-12</th>\n",
       "      <td>308.85</td>\n",
       "      <td>-0.411484</td>\n",
       "      <td>0.073879</td>\n",
       "      <td>3</td>\n",
       "      <td>2.948408</td>\n",
       "    </tr>\n",
       "    <tr>\n",
       "      <th>2022-07-14</th>\n",
       "      <td>308.85</td>\n",
       "      <td>-0.002735</td>\n",
       "      <td>0.072020</td>\n",
       "      <td>1</td>\n",
       "      <td>2.265374</td>\n",
       "    </tr>\n",
       "    <tr>\n",
       "      <th>2022-07-15</th>\n",
       "      <td>308.85</td>\n",
       "      <td>0.208805</td>\n",
       "      <td>0.071611</td>\n",
       "      <td>1</td>\n",
       "      <td>2.752946</td>\n",
       "    </tr>\n",
       "    <tr>\n",
       "      <th>2022-07-19</th>\n",
       "      <td>308.85</td>\n",
       "      <td>0.034444</td>\n",
       "      <td>0.071831</td>\n",
       "      <td>1</td>\n",
       "      <td>2.327712</td>\n",
       "    </tr>\n",
       "    <tr>\n",
       "      <th>2022-07-28</th>\n",
       "      <td>308.85</td>\n",
       "      <td>-0.100890</td>\n",
       "      <td>0.073831</td>\n",
       "      <td>1</td>\n",
       "      <td>2.178584</td>\n",
       "    </tr>\n",
       "    <tr>\n",
       "      <th>2022-07-29</th>\n",
       "      <td>308.85</td>\n",
       "      <td>0.115292</td>\n",
       "      <td>0.072434</td>\n",
       "      <td>1</td>\n",
       "      <td>3.203711</td>\n",
       "    </tr>\n",
       "  </tbody>\n",
       "</table>\n",
       "</div>"
      ],
      "text/plain": [
       "             ITIME  normalized_phase  stddev_order19  QRA         HA\n",
       "night_of                                                            \n",
       "2020-04-26  308.85         -0.191753        0.017570    4  20.954660\n",
       "2020-04-27  308.85          0.018197        0.029247   12  21.257208\n",
       "2020-04-28  308.85          0.224743        0.013589    4  21.167564\n",
       "2020-05-19  308.85         -0.373471        0.013540    4   2.710785\n",
       "2020-05-20  308.85         -0.168524        0.014541    4   2.434919\n",
       "2020-05-21  308.85         -0.005899        0.019075   14  21.260575\n",
       "2020-05-22  308.85          0.246245        0.015426    4   2.447938\n",
       "2020-05-23  308.85          0.455040        0.012482    4   2.617940\n",
       "2020-06-12  308.85         -0.397313        0.013804    3   2.742790\n",
       "2020-06-13  308.85         -0.189798        0.015447    4   2.764634\n",
       "2020-06-14  308.85         -0.006101        0.024483   18  12.029604\n",
       "2020-06-15  308.85          0.223535        0.017673    4   2.611695\n",
       "2020-06-17  308.85         -0.359645        0.018617    4   2.862121\n",
       "2020-07-21  511.20         -0.309415        0.019362    2   2.986879\n",
       "2020-07-31  511.20         -0.239543        0.014508    2   2.591760\n",
       "2021-01-30  511.20         -0.136241        0.020597    2  21.375653\n",
       "2021-01-31  511.20          0.070119        0.028533    2  21.263424\n",
       "2021-02-23  511.20         -0.160822        0.023728    1  21.321654\n",
       "2021-02-25  511.20          0.250395        0.021842    2  20.923598\n",
       "2021-03-03  511.20          0.496316        0.016437    2  21.149527\n",
       "2021-03-30  511.20          0.094078        0.008826    2  21.138272\n",
       "2022-04-27  308.85         -0.217160        0.018273    4  21.307939\n",
       "2022-04-28  308.85         -0.010811        0.024474   14  21.194231\n",
       "2022-04-29  308.85          0.195526        0.018188    4  21.080652\n",
       "2022-04-30  308.85          0.402527        0.021398    4  21.042379\n",
       "2022-05-01  308.85         -0.389723        0.017162    4  21.090460\n",
       "2022-06-19  308.85         -0.229901        0.071035    3  21.176190\n",
       "2022-06-21  308.85          0.209350        0.079253    6  12.023077\n",
       "2022-06-22  308.85          0.438883        0.076238    3   2.592970\n",
       "2022-06-25  308.85          0.016566        0.069571    1  21.466369\n",
       "2022-06-30  308.85          0.100554        0.068971    1   2.946192\n",
       "2022-07-09  308.85         -0.034886        0.073986    1   2.784932\n",
       "2022-07-10  308.85          0.171703        0.073620    1   2.699432\n",
       "2022-07-12  308.85         -0.411484        0.073879    3   2.948408\n",
       "2022-07-14  308.85         -0.002735        0.072020    1   2.265374\n",
       "2022-07-15  308.85          0.208805        0.071611    1   2.752946\n",
       "2022-07-19  308.85          0.034444        0.071831    1   2.327712\n",
       "2022-07-28  308.85         -0.100890        0.073831    1   2.178584\n",
       "2022-07-29  308.85          0.115292        0.072434    1   3.203711"
      ]
     },
     "execution_count": 33,
     "metadata": {},
     "output_type": "execute_result"
    }
   ],
   "source": [
    "df.groupby('night_of')[['ITIME', 'normalized_phase', 'QRA', 'HA', 'stddev_order19']]\\\n",
    "    .aggregate(func={'ITIME':np.mean, 'normalized_phase':np.mean,'stddev_order19':np.max,  \n",
    "                     'QRA':np.count_nonzero, 'HA':np.mean})\\\n",
    "    .sort_index()"
   ]
  },
  {
   "cell_type": "code",
   "execution_count": 34,
   "metadata": {},
   "outputs": [
    {
     "data": {
      "text/plain": [
       "<matplotlib.lines.Line2D at 0x1627a10a0>"
      ]
     },
     "execution_count": 34,
     "metadata": {},
     "output_type": "execute_result"
    },
    {
     "data": {
      "image/png": "[encoded data removed]",
      "text/plain": [
       "<Figure size 1008x288 with 1 Axes>"
      ]
     },
     "metadata": {
      "image/png": {
       "height": 250,
       "width": 827
      },
      "needs_background": "light"
     },
     "output_type": "display_data"
    }
   ],
   "source": [
    "plt.figure(figsize=(14, 4))\n",
    "mask = df.HA<20\n",
    "plt.plot(df.HA[mask] , df.stddev_order19[mask], '.')\n",
    "mask = df.HA>20\n",
    "plt.plot(df.HA[mask]-24 , df.stddev_order19[mask], '.')\n",
    "plt.axvline(0.0, linestyle='dashed', color='k')"
   ]
  },
  {
   "cell_type": "code",
   "execution_count": 35,
   "metadata": {},
   "outputs": [],
   "source": [
    "df['track'] = ''\n",
    "mask = df.HA<20\n",
    "df['track'][mask] = 'west'\n",
    "mask = df.HA>20\n",
    "df['track'][mask] = 'east'"
   ]
  },
  {
   "cell_type": "markdown",
   "metadata": {},
   "source": [
    "### Add a column for planet RV"
   ]
  },
  {
   "cell_type": "markdown",
   "metadata": {},
   "source": [
    "Can we shift the spectrum into the planet rest-frame?  Divide the circumference by the period to get instantaneous tangential velocity.  Assume a circular orbit:\n",
    "\n",
    "$$ v = \\frac{2 \\pi a}{P}$$"
   ]
  },
  {
   "cell_type": "code",
   "execution_count": 36,
   "metadata": {},
   "outputs": [],
   "source": [
    "semi_major_axis = 0.06505 * u.AU\n",
    "\n",
    "(0.3 * 2 * np.pi * semi_major_axis / (2.0*u.Rjupiter)).to(u.dimensionless_unscaled)\n",
    "\n",
    "planet_speed_quantity = (2*np.pi*semi_major_axis)/(orbital_period*u.day)\n",
    "\n",
    "planet_speed_quantity.to(u.km/u.second)\n",
    "\n",
    "planet_speed = planet_speed_quantity.to(u.km/u.second).value"
   ]
  },
  {
   "cell_type": "markdown",
   "metadata": {},
   "source": [
    "Convention: Positive RVs are redshifted"
   ]
  },
  {
   "cell_type": "code",
   "execution_count": 37,
   "metadata": {},
   "outputs": [],
   "source": [
    "df['JD'] = df['DATE-OBS'].apply(lambda x: Time(x).jd)\n",
    "df['BTJD'] = df.JD -2457000.0"
   ]
  },
  {
   "cell_type": "code",
   "execution_count": 38,
   "metadata": {},
   "outputs": [],
   "source": [
    "df['RV_planet'] = planet_speed * np.sin(2.0*np.pi*df.normalized_phase)"
   ]
  },
  {
   "cell_type": "code",
   "execution_count": 39,
   "metadata": {},
   "outputs": [],
   "source": [
    "df['in_transit_text'] = ''\n",
    "df['preposition'] = ''"
   ]
  },
  {
   "cell_type": "code",
   "execution_count": 40,
   "metadata": {},
   "outputs": [],
   "source": [
    "mask = df['in_transit_flag']\n",
    "df['in_transit_text'][mask] = 'in transit'"
   ]
  },
  {
   "cell_type": "markdown",
   "metadata": {},
   "source": [
    "### Add prepositions to describe phases\n",
    "\n",
    "It will be helpful to add prepositions:\n",
    "1. Transit\n",
    "2. Pre-Transit\n",
    "3. Post-Transit\n",
    "4. Baseline\n",
    "5. Control"
   ]
  },
  {
   "cell_type": "code",
   "execution_count": 41,
   "metadata": {},
   "outputs": [],
   "source": [
    "threshold = (7.062*u.hour/(4.8101046*u.day)).to(u.dimensionless_unscaled)/2\n",
    "\n",
    "transit_mask = (df.normalized_phase > (-1*threshold)) & (df.normalized_phase < threshold)\n",
    "pre_mask = (df.normalized_phase < (-1*threshold)) & (df.normalized_phase > -0.42)\n",
    "post_mask = (df.normalized_phase > threshold) & (df.normalized_phase < 0.15)\n",
    "baseline_mask = (df.normalized_phase > 0.4) \n",
    "control_mask = (df.normalized_phase > 0.15) & (df.normalized_phase < 0.4) "
   ]
  },
  {
   "cell_type": "code",
   "execution_count": 42,
   "metadata": {},
   "outputs": [],
   "source": [
    "df['preposition'][transit_mask] = 'Transit'\n",
    "df['preposition'][pre_mask] = 'Pre'\n",
    "df['preposition'][post_mask] = 'Post'\n",
    "df['preposition'][baseline_mask] = 'Baseline'\n",
    "df['preposition'][control_mask] = 'Control'"
   ]
  },
  {
   "cell_type": "code",
   "execution_count": 43,
   "metadata": {},
   "outputs": [
    {
     "data": {
      "text/plain": [
       "Transit     55\n",
       "Pre         51\n",
       "Control     26\n",
       "Baseline    13\n",
       "Post         7\n",
       "Name: preposition, dtype: int64"
      ]
     },
     "execution_count": 43,
     "metadata": {},
     "output_type": "execute_result"
    }
   ],
   "source": [
    "df.preposition.value_counts()"
   ]
  },
  {
   "cell_type": "code",
   "execution_count": 44,
   "metadata": {},
   "outputs": [],
   "source": [
    "keep_cols = ['night_number', 'night_of',  'BTJD', 'track','local_hour',  'ENVTEM', 'ENVHUM', 'ENVPRE',\n",
    "             'ITIME', 'BRVCORR', 'LRVCORR', 'RV_planet',\n",
    "             'normalized_phase', 'in_transit_flag','in_transit_text',  'preposition', 'campaign']"
   ]
  },
  {
   "cell_type": "code",
   "execution_count": 45,
   "metadata": {},
   "outputs": [],
   "source": [
    "pd.set_option('display.max_rows', 300)"
   ]
  },
  {
   "cell_type": "code",
   "execution_count": 46,
   "metadata": {
    "scrolled": false
   },
   "outputs": [],
   "source": [
    "#df.iloc[0]"
   ]
  },
  {
   "cell_type": "code",
   "execution_count": 47,
   "metadata": {},
   "outputs": [],
   "source": [
    "df['track'][df.track=='east'] = 'E'\n",
    "df['track'][df.track=='west'] = 'W'"
   ]
  },
  {
   "cell_type": "code",
   "execution_count": 48,
   "metadata": {},
   "outputs": [],
   "source": [
    "gb = df[keep_cols].groupby(['night_of', 'track', 'preposition'])"
   ]
  },
  {
   "cell_type": "code",
   "execution_count": 49,
   "metadata": {},
   "outputs": [],
   "source": [
    "summary_table = gb.aggregate(func={'BTJD':np.mean,\n",
    "                                   'night_number':np.count_nonzero, \n",
    "                   'ITIME':np.mean, \n",
    "                   'normalized_phase':np.mean})\\\n",
    "    .sort_index()\\\n",
    "    .round({'normalized_phase':3, 'BTJD':2})"
   ]
  },
  {
   "cell_type": "code",
   "execution_count": 50,
   "metadata": {},
   "outputs": [
    {
     "data": {
      "text/html": [
       "<div>\n",
       "<style scoped>\n",
       "    .dataframe tbody tr th:only-of-type {\n",
       "        vertical-align: middle;\n",
       "    }\n",
       "\n",
       "    .dataframe tbody tr th {\n",
       "        vertical-align: top;\n",
       "    }\n",
       "\n",
       "    .dataframe thead th {\n",
       "        text-align: right;\n",
       "    }\n",
       "</style>\n",
       "<table border=\"1\" class=\"dataframe\">\n",
       "  <thead>\n",
       "    <tr style=\"text-align: right;\">\n",
       "      <th></th>\n",
       "      <th></th>\n",
       "      <th></th>\n",
       "      <th>BTJD</th>\n",
       "      <th>night_number</th>\n",
       "      <th>ITIME</th>\n",
       "      <th>normalized_phase</th>\n",
       "    </tr>\n",
       "    <tr>\n",
       "      <th>night_of</th>\n",
       "      <th>track</th>\n",
       "      <th>preposition</th>\n",
       "      <th></th>\n",
       "      <th></th>\n",
       "      <th></th>\n",
       "      <th></th>\n",
       "    </tr>\n",
       "  </thead>\n",
       "  <tbody>\n",
       "    <tr>\n",
       "      <th>2020-04-26</th>\n",
       "      <th>E</th>\n",
       "      <th>Pre</th>\n",
       "      <td>1966.78</td>\n",
       "      <td>4</td>\n",
       "      <td>308.85</td>\n",
       "      <td>-0.192</td>\n",
       "    </tr>\n",
       "    <tr>\n",
       "      <th>2020-04-27</th>\n",
       "      <th>E</th>\n",
       "      <th>Transit</th>\n",
       "      <td>1967.79</td>\n",
       "      <td>12</td>\n",
       "      <td>308.85</td>\n",
       "      <td>0.018</td>\n",
       "    </tr>\n",
       "    <tr>\n",
       "      <th>2020-04-28</th>\n",
       "      <th>E</th>\n",
       "      <th>Control</th>\n",
       "      <td>1968.78</td>\n",
       "      <td>4</td>\n",
       "      <td>308.85</td>\n",
       "      <td>0.225</td>\n",
       "    </tr>\n",
       "    <tr>\n",
       "      <th>2020-05-19</th>\n",
       "      <th>W</th>\n",
       "      <th>Pre</th>\n",
       "      <td>1989.95</td>\n",
       "      <td>4</td>\n",
       "      <td>308.85</td>\n",
       "      <td>-0.373</td>\n",
       "    </tr>\n",
       "    <tr>\n",
       "      <th>2020-05-20</th>\n",
       "      <th>W</th>\n",
       "      <th>Pre</th>\n",
       "      <td>1990.94</td>\n",
       "      <td>4</td>\n",
       "      <td>308.85</td>\n",
       "      <td>-0.169</td>\n",
       "    </tr>\n",
       "    <tr>\n",
       "      <th>2020-05-21</th>\n",
       "      <th>E</th>\n",
       "      <th>Transit</th>\n",
       "      <td>1991.72</td>\n",
       "      <td>14</td>\n",
       "      <td>308.85</td>\n",
       "      <td>-0.006</td>\n",
       "    </tr>\n",
       "    <tr>\n",
       "      <th>2020-05-22</th>\n",
       "      <th>W</th>\n",
       "      <th>Control</th>\n",
       "      <td>1992.93</td>\n",
       "      <td>4</td>\n",
       "      <td>308.85</td>\n",
       "      <td>0.246</td>\n",
       "    </tr>\n",
       "    <tr>\n",
       "      <th>2020-05-23</th>\n",
       "      <th>W</th>\n",
       "      <th>Baseline</th>\n",
       "      <td>1993.94</td>\n",
       "      <td>4</td>\n",
       "      <td>308.85</td>\n",
       "      <td>0.455</td>\n",
       "    </tr>\n",
       "    <tr>\n",
       "      <th>2020-06-12</th>\n",
       "      <th>W</th>\n",
       "      <th>Pre</th>\n",
       "      <td>2013.89</td>\n",
       "      <td>3</td>\n",
       "      <td>308.85</td>\n",
       "      <td>-0.397</td>\n",
       "    </tr>\n",
       "    <tr>\n",
       "      <th>2020-06-13</th>\n",
       "      <th>W</th>\n",
       "      <th>Pre</th>\n",
       "      <td>2014.89</td>\n",
       "      <td>4</td>\n",
       "      <td>308.85</td>\n",
       "      <td>-0.190</td>\n",
       "    </tr>\n",
       "    <tr>\n",
       "      <th rowspan=\"3\" valign=\"top\">2020-06-14</th>\n",
       "      <th rowspan=\"2\" valign=\"top\">E</th>\n",
       "      <th>Pre</th>\n",
       "      <td>2015.64</td>\n",
       "      <td>5</td>\n",
       "      <td>308.85</td>\n",
       "      <td>-0.033</td>\n",
       "    </tr>\n",
       "    <tr>\n",
       "      <th>Transit</th>\n",
       "      <td>2015.66</td>\n",
       "      <td>4</td>\n",
       "      <td>308.85</td>\n",
       "      <td>-0.029</td>\n",
       "    </tr>\n",
       "    <tr>\n",
       "      <th>W</th>\n",
       "      <th>Transit</th>\n",
       "      <td>2015.89</td>\n",
       "      <td>9</td>\n",
       "      <td>308.85</td>\n",
       "      <td>0.019</td>\n",
       "    </tr>\n",
       "    <tr>\n",
       "      <th>2020-06-15</th>\n",
       "      <th>W</th>\n",
       "      <th>Control</th>\n",
       "      <td>2016.87</td>\n",
       "      <td>4</td>\n",
       "      <td>308.85</td>\n",
       "      <td>0.224</td>\n",
       "    </tr>\n",
       "    <tr>\n",
       "      <th>2020-06-17</th>\n",
       "      <th>W</th>\n",
       "      <th>Pre</th>\n",
       "      <td>2018.88</td>\n",
       "      <td>4</td>\n",
       "      <td>308.85</td>\n",
       "      <td>-0.360</td>\n",
       "    </tr>\n",
       "    <tr>\n",
       "      <th>2020-07-21</th>\n",
       "      <th>W</th>\n",
       "      <th>Pre</th>\n",
       "      <td>2052.79</td>\n",
       "      <td>2</td>\n",
       "      <td>511.20</td>\n",
       "      <td>-0.309</td>\n",
       "    </tr>\n",
       "    <tr>\n",
       "      <th>2020-07-31</th>\n",
       "      <th>W</th>\n",
       "      <th>Pre</th>\n",
       "      <td>2062.75</td>\n",
       "      <td>2</td>\n",
       "      <td>511.20</td>\n",
       "      <td>-0.240</td>\n",
       "    </tr>\n",
       "    <tr>\n",
       "      <th>2021-01-30</th>\n",
       "      <th>E</th>\n",
       "      <th>Pre</th>\n",
       "      <td>2246.03</td>\n",
       "      <td>2</td>\n",
       "      <td>511.20</td>\n",
       "      <td>-0.136</td>\n",
       "    </tr>\n",
       "    <tr>\n",
       "      <th>2021-01-31</th>\n",
       "      <th>E</th>\n",
       "      <th>Post</th>\n",
       "      <td>2247.02</td>\n",
       "      <td>2</td>\n",
       "      <td>511.20</td>\n",
       "      <td>0.070</td>\n",
       "    </tr>\n",
       "    <tr>\n",
       "      <th>2021-02-23</th>\n",
       "      <th>E</th>\n",
       "      <th>Pre</th>\n",
       "      <td>2269.96</td>\n",
       "      <td>1</td>\n",
       "      <td>511.20</td>\n",
       "      <td>-0.161</td>\n",
       "    </tr>\n",
       "    <tr>\n",
       "      <th>2021-02-25</th>\n",
       "      <th>E</th>\n",
       "      <th>Control</th>\n",
       "      <td>2271.94</td>\n",
       "      <td>2</td>\n",
       "      <td>511.20</td>\n",
       "      <td>0.250</td>\n",
       "    </tr>\n",
       "    <tr>\n",
       "      <th>2021-03-03</th>\n",
       "      <th>E</th>\n",
       "      <th>Baseline</th>\n",
       "      <td>2277.93</td>\n",
       "      <td>2</td>\n",
       "      <td>511.20</td>\n",
       "      <td>0.496</td>\n",
       "    </tr>\n",
       "    <tr>\n",
       "      <th>2021-03-30</th>\n",
       "      <th>E</th>\n",
       "      <th>Post</th>\n",
       "      <td>2304.86</td>\n",
       "      <td>2</td>\n",
       "      <td>511.20</td>\n",
       "      <td>0.094</td>\n",
       "    </tr>\n",
       "    <tr>\n",
       "      <th>2022-04-27</th>\n",
       "      <th>E</th>\n",
       "      <th>Pre</th>\n",
       "      <td>2697.79</td>\n",
       "      <td>4</td>\n",
       "      <td>308.85</td>\n",
       "      <td>-0.217</td>\n",
       "    </tr>\n",
       "    <tr>\n",
       "      <th>2022-04-28</th>\n",
       "      <th>E</th>\n",
       "      <th>Transit</th>\n",
       "      <td>2698.78</td>\n",
       "      <td>14</td>\n",
       "      <td>308.85</td>\n",
       "      <td>-0.011</td>\n",
       "    </tr>\n",
       "    <tr>\n",
       "      <th>2022-04-29</th>\n",
       "      <th>E</th>\n",
       "      <th>Control</th>\n",
       "      <td>2699.77</td>\n",
       "      <td>4</td>\n",
       "      <td>308.85</td>\n",
       "      <td>0.196</td>\n",
       "    </tr>\n",
       "    <tr>\n",
       "      <th>2022-04-30</th>\n",
       "      <th>E</th>\n",
       "      <th>Baseline</th>\n",
       "      <td>2700.77</td>\n",
       "      <td>4</td>\n",
       "      <td>308.85</td>\n",
       "      <td>0.403</td>\n",
       "    </tr>\n",
       "    <tr>\n",
       "      <th>2022-05-01</th>\n",
       "      <th>E</th>\n",
       "      <th>Pre</th>\n",
       "      <td>2701.77</td>\n",
       "      <td>4</td>\n",
       "      <td>308.85</td>\n",
       "      <td>-0.390</td>\n",
       "    </tr>\n",
       "    <tr>\n",
       "      <th>2022-06-19</th>\n",
       "      <th>E</th>\n",
       "      <th>Pre</th>\n",
       "      <td>2750.64</td>\n",
       "      <td>3</td>\n",
       "      <td>308.85</td>\n",
       "      <td>-0.230</td>\n",
       "    </tr>\n",
       "    <tr>\n",
       "      <th rowspan=\"2\" valign=\"top\">2022-06-21</th>\n",
       "      <th>E</th>\n",
       "      <th>Control</th>\n",
       "      <td>2752.64</td>\n",
       "      <td>3</td>\n",
       "      <td>308.85</td>\n",
       "      <td>0.187</td>\n",
       "    </tr>\n",
       "    <tr>\n",
       "      <th>W</th>\n",
       "      <th>Control</th>\n",
       "      <td>2752.86</td>\n",
       "      <td>3</td>\n",
       "      <td>308.85</td>\n",
       "      <td>0.232</td>\n",
       "    </tr>\n",
       "    <tr>\n",
       "      <th>2022-06-22</th>\n",
       "      <th>W</th>\n",
       "      <th>Baseline</th>\n",
       "      <td>2753.86</td>\n",
       "      <td>3</td>\n",
       "      <td>308.85</td>\n",
       "      <td>0.439</td>\n",
       "    </tr>\n",
       "    <tr>\n",
       "      <th>2022-06-25</th>\n",
       "      <th>E</th>\n",
       "      <th>Transit</th>\n",
       "      <td>2756.64</td>\n",
       "      <td>1</td>\n",
       "      <td>308.85</td>\n",
       "      <td>0.017</td>\n",
       "    </tr>\n",
       "    <tr>\n",
       "      <th>2022-06-30</th>\n",
       "      <th>W</th>\n",
       "      <th>Post</th>\n",
       "      <td>2761.85</td>\n",
       "      <td>1</td>\n",
       "      <td>308.85</td>\n",
       "      <td>0.101</td>\n",
       "    </tr>\n",
       "    <tr>\n",
       "      <th>2022-07-09</th>\n",
       "      <th>W</th>\n",
       "      <th>Pre</th>\n",
       "      <td>2770.82</td>\n",
       "      <td>1</td>\n",
       "      <td>308.85</td>\n",
       "      <td>-0.035</td>\n",
       "    </tr>\n",
       "    <tr>\n",
       "      <th>2022-07-10</th>\n",
       "      <th>W</th>\n",
       "      <th>Control</th>\n",
       "      <td>2771.81</td>\n",
       "      <td>1</td>\n",
       "      <td>308.85</td>\n",
       "      <td>0.172</td>\n",
       "    </tr>\n",
       "    <tr>\n",
       "      <th>2022-07-12</th>\n",
       "      <th>W</th>\n",
       "      <th>Pre</th>\n",
       "      <td>2773.82</td>\n",
       "      <td>3</td>\n",
       "      <td>308.85</td>\n",
       "      <td>-0.411</td>\n",
       "    </tr>\n",
       "    <tr>\n",
       "      <th>2022-07-14</th>\n",
       "      <th>W</th>\n",
       "      <th>Transit</th>\n",
       "      <td>2775.78</td>\n",
       "      <td>1</td>\n",
       "      <td>308.85</td>\n",
       "      <td>-0.003</td>\n",
       "    </tr>\n",
       "    <tr>\n",
       "      <th>2022-07-15</th>\n",
       "      <th>W</th>\n",
       "      <th>Control</th>\n",
       "      <td>2776.80</td>\n",
       "      <td>1</td>\n",
       "      <td>308.85</td>\n",
       "      <td>0.209</td>\n",
       "    </tr>\n",
       "    <tr>\n",
       "      <th>2022-07-19</th>\n",
       "      <th>W</th>\n",
       "      <th>Post</th>\n",
       "      <td>2780.77</td>\n",
       "      <td>1</td>\n",
       "      <td>308.85</td>\n",
       "      <td>0.034</td>\n",
       "    </tr>\n",
       "    <tr>\n",
       "      <th>2022-07-28</th>\n",
       "      <th>W</th>\n",
       "      <th>Pre</th>\n",
       "      <td>2789.74</td>\n",
       "      <td>1</td>\n",
       "      <td>308.85</td>\n",
       "      <td>-0.101</td>\n",
       "    </tr>\n",
       "    <tr>\n",
       "      <th>2022-07-29</th>\n",
       "      <th>W</th>\n",
       "      <th>Post</th>\n",
       "      <td>2790.78</td>\n",
       "      <td>1</td>\n",
       "      <td>308.85</td>\n",
       "      <td>0.115</td>\n",
       "    </tr>\n",
       "  </tbody>\n",
       "</table>\n",
       "</div>"
      ],
      "text/plain": [
       "                                 BTJD  night_number   ITIME  normalized_phase\n",
       "night_of   track preposition                                                 \n",
       "2020-04-26 E     Pre          1966.78             4  308.85            -0.192\n",
       "2020-04-27 E     Transit      1967.79            12  308.85             0.018\n",
       "2020-04-28 E     Control      1968.78             4  308.85             0.225\n",
       "2020-05-19 W     Pre          1989.95             4  308.85            -0.373\n",
       "2020-05-20 W     Pre          1990.94             4  308.85            -0.169\n",
       "2020-05-21 E     Transit      1991.72            14  308.85            -0.006\n",
       "2020-05-22 W     Control      1992.93             4  308.85             0.246\n",
       "2020-05-23 W     Baseline     1993.94             4  308.85             0.455\n",
       "2020-06-12 W     Pre          2013.89             3  308.85            -0.397\n",
       "2020-06-13 W     Pre          2014.89             4  308.85            -0.190\n",
       "2020-06-14 E     Pre          2015.64             5  308.85            -0.033\n",
       "                 Transit      2015.66             4  308.85            -0.029\n",
       "           W     Transit      2015.89             9  308.85             0.019\n",
       "2020-06-15 W     Control      2016.87             4  308.85             0.224\n",
       "2020-06-17 W     Pre          2018.88             4  308.85            -0.360\n",
       "2020-07-21 W     Pre          2052.79             2  511.20            -0.309\n",
       "2020-07-31 W     Pre          2062.75             2  511.20            -0.240\n",
       "2021-01-30 E     Pre          2246.03             2  511.20            -0.136\n",
       "2021-01-31 E     Post         2247.02             2  511.20             0.070\n",
       "2021-02-23 E     Pre          2269.96             1  511.20            -0.161\n",
       "2021-02-25 E     Control      2271.94             2  511.20             0.250\n",
       "2021-03-03 E     Baseline     2277.93             2  511.20             0.496\n",
       "2021-03-30 E     Post         2304.86             2  511.20             0.094\n",
       "2022-04-27 E     Pre          2697.79             4  308.85            -0.217\n",
       "2022-04-28 E     Transit      2698.78            14  308.85            -0.011\n",
       "2022-04-29 E     Control      2699.77             4  308.85             0.196\n",
       "2022-04-30 E     Baseline     2700.77             4  308.85             0.403\n",
       "2022-05-01 E     Pre          2701.77             4  308.85            -0.390\n",
       "2022-06-19 E     Pre          2750.64             3  308.85            -0.230\n",
       "2022-06-21 E     Control      2752.64             3  308.85             0.187\n",
       "           W     Control      2752.86             3  308.85             0.232\n",
       "2022-06-22 W     Baseline     2753.86             3  308.85             0.439\n",
       "2022-06-25 E     Transit      2756.64             1  308.85             0.017\n",
       "2022-06-30 W     Post         2761.85             1  308.85             0.101\n",
       "2022-07-09 W     Pre          2770.82             1  308.85            -0.035\n",
       "2022-07-10 W     Control      2771.81             1  308.85             0.172\n",
       "2022-07-12 W     Pre          2773.82             3  308.85            -0.411\n",
       "2022-07-14 W     Transit      2775.78             1  308.85            -0.003\n",
       "2022-07-15 W     Control      2776.80             1  308.85             0.209\n",
       "2022-07-19 W     Post         2780.77             1  308.85             0.034\n",
       "2022-07-28 W     Pre          2789.74             1  308.85            -0.101\n",
       "2022-07-29 W     Post         2790.78             1  308.85             0.115"
      ]
     },
     "execution_count": 50,
     "metadata": {},
     "output_type": "execute_result"
    }
   ],
   "source": [
    "summary_table"
   ]
  },
  {
   "cell_type": "markdown",
   "metadata": {},
   "source": [
    "## Save to disk"
   ]
  },
  {
   "cell_type": "markdown",
   "metadata": {},
   "source": [
    "### Save the entire dataframe \n",
    "We dropped the bad data, but that's fine!"
   ]
  },
  {
   "cell_type": "code",
   "execution_count": 98,
   "metadata": {},
   "outputs": [],
   "source": [
    "df.to_feather('../../data/HPF/HAT_P_67_log.feather')"
   ]
  },
  {
   "cell_type": "markdown",
   "metadata": {},
   "source": [
    "#### Save just the summary table"
   ]
  },
  {
   "cell_type": "code",
   "execution_count": 51,
   "metadata": {},
   "outputs": [],
   "source": [
    "summary_table = summary_table.reset_index()"
   ]
  },
  {
   "cell_type": "code",
   "execution_count": 52,
   "metadata": {},
   "outputs": [
    {
     "name": "stderr",
     "output_type": "stream",
     "text": [
      "/var/folders/gb/yvbtr8b57pd1nzzxk3t_zwfsxgvdgb/T/ipykernel_62839/1232673245.py:3: FutureWarning: In future versions `DataFrame.to_latex` is expected to utilise the base implementation of `Styler.to_latex` for formatting and rendering. The arguments signature may therefore change. It is recommended instead to use `DataFrame.style.to_latex` which also contains additional functionality.\n",
      "  str_out = '\\n'.join(summary_table.to_latex(index=False).split('\\n')[4:-3])\n"
     ]
    }
   ],
   "source": [
    "file_out = '../../paper/paper1/tables/observation_log.tex'\n",
    "\n",
    "str_out = '\\n'.join(summary_table.to_latex(index=False).split('\\n')[4:-3])\n",
    "\n",
    "with open(file_out, \"w+\") as f:\n",
    "        f.writelines(str_out)"
   ]
  },
  {
   "cell_type": "code",
   "execution_count": 53,
   "metadata": {},
   "outputs": [
    {
     "name": "stdout",
     "output_type": "stream",
     "text": [
      "2022-06-25 &     E &     Transit & 2756.64 &             1 & 308.85 &             0.017 \\\\\r\n",
      "2022-06-30 &     W &        Post & 2761.85 &             1 & 308.85 &             0.101 \\\\\r\n",
      "2022-07-09 &     W &         Pre & 2770.82 &             1 & 308.85 &            -0.035 \\\\\r\n",
      "2022-07-10 &     W &     Control & 2771.81 &             1 & 308.85 &             0.172 \\\\\r\n",
      "2022-07-12 &     W &         Pre & 2773.82 &             3 & 308.85 &            -0.411 \\\\\r\n",
      "2022-07-14 &     W &     Transit & 2775.78 &             1 & 308.85 &            -0.003 \\\\\r\n",
      "2022-07-15 &     W &     Control & 2776.80 &             1 & 308.85 &             0.209 \\\\\r\n",
      "2022-07-19 &     W &        Post & 2780.77 &             1 & 308.85 &             0.034 \\\\\r\n",
      "2022-07-28 &     W &         Pre & 2789.74 &             1 & 308.85 &            -0.101 \\\\\r\n",
      "2022-07-29 &     W &        Post & 2790.78 &             1 & 308.85 &             0.115 \\\\"
     ]
    }
   ],
   "source": [
    "! tail ../../paper/paper1/tables/observation_log.tex"
   ]
  },
  {
   "cell_type": "markdown",
   "metadata": {},
   "source": [
    "#### Spot-check round-tripping works... ✅"
   ]
  },
  {
   "cell_type": "code",
   "execution_count": 90,
   "metadata": {},
   "outputs": [],
   "source": [
    "#import pyarrow.feather as feather\n",
    "#feather.read_feather('../../data/HPF/HAT_P_67_log.feather')"
   ]
  },
  {
   "cell_type": "code",
   "execution_count": null,
   "metadata": {},
   "outputs": [],
   "source": []
  }
 ],
 "metadata": {
  "kernelspec": {
   "display_name": "Python 3 (ipykernel)",
   "language": "python",
   "name": "python3"
  },
  "language_info": {
   "codemirror_mode": {
    "name": "ipython",
    "version": 3
   },
   "file_extension": ".py",
   "mimetype": "text/x-python",
   "name": "python",
   "nbconvert_exporter": "python",
   "pygments_lexer": "ipython3",
   "version": "3.8.12"
  }
 },
 "nbformat": 4,
 "nbformat_minor": 4
}
