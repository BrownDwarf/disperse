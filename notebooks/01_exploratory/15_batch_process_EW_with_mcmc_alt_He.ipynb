{
 "cells": [
  {
   "cell_type": "markdown",
   "metadata": {},
   "source": [
    "# Batch process Equivalent Widths with MCMC\n",
    "\n",
    "The goal of this notebook is to distill our analysis into a programmatic loop over many spectra and save the Equivalent Width (EW) and its uncertainty to a results table.  The table will be in the form of a pandas dataframe, which we'll then save as a csv file."
   ]
  },
  {
   "cell_type": "code",
   "execution_count": 1,
   "metadata": {},
   "outputs": [],
   "source": [
    "import os\n",
    "\n",
    "import numpy as np\n",
    "import pandas as pd\n",
    "import os\n",
    "import glob\n",
    "from astropy.io import fits\n",
    "import emcee\n",
    "from astropy.time import Time\n",
    "from tqdm.auto import tqdm\n",
    "\n",
    "import warnings\n",
    "\n",
    "import pandas as pd\n",
    "from pandas.core.common import SettingWithCopyWarning\n",
    "\n",
    "warnings.simplefilter(action=\"ignore\", category=SettingWithCopyWarning)"
   ]
  },
  {
   "cell_type": "code",
   "execution_count": 2,
   "metadata": {},
   "outputs": [],
   "source": [
    "goldilocks_files = glob.glob('C:/Users/jojoa/GitHub/disperse/data/HPF/Helium-transit-data/**/Goldilocks*.fits', recursive=True)"
   ]
  },
  {
   "cell_type": "code",
   "execution_count": 3,
   "metadata": {},
   "outputs": [],
   "source": [
    "target_name = 'HAT-P-67b'\n",
    "matchers = [target_name]\n",
    "matching = [s for s in goldilocks_files if any(xs in s for xs in matchers)]\n",
    "goldilocks_files = matching"
   ]
  },
  {
   "cell_type": "code",
   "execution_count": 4,
   "metadata": {},
   "outputs": [],
   "source": [
    "filename_zero = goldilocks_files[0]\n",
    "hdus = fits.open(filename_zero)"
   ]
  },
  {
   "cell_type": "code",
   "execution_count": 5,
   "metadata": {},
   "outputs": [],
   "source": [
    "def get_goldilocks_dataframe(fn):\n",
    "    \"\"\"Return a pandas Dataframe given a Goldilocks FITS file name\"\"\"\n",
    "    hdus = fits.open(fn)\n",
    "    df_original = pd.DataFrame()\n",
    "    header = hdus[0].header\n",
    "    for j in range(28):\n",
    "        df = pd.DataFrame()\n",
    "        for i in range(1, 10):\n",
    "            name = hdus[i].name\n",
    "            df[name] = hdus[i].data[j, :]\n",
    "        df['order'] = j\n",
    "        df_original = df_original.append(df, ignore_index=True)\n",
    "    keep_mask = df_original[df_original.columns[0:6]] != 0.0\n",
    "    df_original = df_original[keep_mask.all(axis=1)].reset_index(drop=True)\n",
    "    \n",
    "    return df_original, header"
   ]
  },
  {
   "cell_type": "code",
   "execution_count": 6,
   "metadata": {},
   "outputs": [],
   "source": [
    "def normalize_spectrum(df):\n",
    "    \"\"\"Normalizes spectrum to set to one\"\"\"\n",
    "    for order in df.order.unique():\n",
    "        mask = df.order == order\n",
    "        norm_constant = df['Sci Flux'][mask].median() #mean takes outliers into account\n",
    "        df['Sci Flux'][mask] = df['Sci Flux'][mask]/norm_constant\n",
    "        df['Sci Error'][mask] = df['Sci Error'][mask]/norm_constant\n",
    "        \n",
    "    return df"
   ]
  },
  {
   "cell_type": "markdown",
   "metadata": {},
   "source": [
    "Eventually we will loop over index."
   ]
  },
  {
   "cell_type": "code",
   "execution_count": 7,
   "metadata": {},
   "outputs": [],
   "source": [
    "order = 19\n",
    "n_walkers = 32\n",
    "n_params = 5\n",
    "n_steps = 5000\n",
    "labels = [\"m\", \"b\", \"A\", \"mu\", \"w\"]"
   ]
  },
  {
   "cell_type": "code",
   "execution_count": 8,
   "metadata": {},
   "outputs": [],
   "source": [
    "df_results = pd.DataFrame()\n",
    "problem_files = {}"
   ]
  },
  {
   "cell_type": "code",
   "execution_count": 10,
   "metadata": {},
   "outputs": [
    {
     "data": {
      "application/vnd.jupyter.widget-view+json": {
       "model_id": "372001d57f6841f9953178d8bc32bd57",
       "version_major": 2,
       "version_minor": 0
      },
      "text/plain": [
       "  0%|          | 0/99 [00:00<?, ?it/s]"
      ]
     },
     "metadata": {},
     "output_type": "display_data"
    }
   ],
   "source": [
    "for index in tqdm(range(0, len(goldilocks_files))):\n",
    "#for index in tqdm(range(0, 5),position=0, leave=True):\n",
    "\n",
    "    fn = goldilocks_files[index]\n",
    "    \n",
    "    try:\n",
    "        df_orig, header = get_goldilocks_dataframe(fn)\n",
    "        date_raw = header['DATE-OBS']\n",
    "        date = date_raw[0:10]\n",
    "        time = date_raw[11:19]\n",
    "        obj = header['OBJECT']\n",
    "        df = normalize_spectrum(df_orig)\n",
    "        qidx = header['QIDX']\n",
    "        j_date = date_raw\n",
    "        t = Time(j_date, format='isot', scale='utc')\n",
    "        jd = t.jd\n",
    "\n",
    "        helium_line = 10830\n",
    "        wavelength1 = helium_line*0.999\n",
    "        wavelength2 = helium_line*1.001\n",
    "\n",
    "        sub_region = (df.order == order) & (df['Sci Wavl'] > wavelength1) & (df['Sci Wavl'] < wavelength2)\n",
    "        wl = df['Sci Wavl'][sub_region].values\n",
    "        flux = df['Sci Flux'][sub_region].values\n",
    "        unc = df['Sci Error'][sub_region].values\n",
    "\n",
    "        def generative_model(m, b, A, mu, logw, int_wl = helium_line):\n",
    "            \"\"\"Generate the model given parameters\"\"\"\n",
    "            continuum = m * (wl - int_wl) + b\n",
    "            w = np.exp(logw)\n",
    "            gaussian = A * np.exp(-0.5*(wl-mu)**2/w**2)\n",
    "            return continuum - gaussian\n",
    "\n",
    "        def log_likelihood(theta):\n",
    "            m, b, A, mu, logw = theta\n",
    "            model = generative_model(m, b, A, mu, logw, int_wl = helium_line)\n",
    "            residual = flux - model\n",
    "            chi_squared = np.sum(residual** 2 / unc**2)\n",
    "            return -0.5 * chi_squared\n",
    "\n",
    "        m_guess, b_guess, A_guess, mu_guess, logw_guess = 0.01, 0.8, 0.15, helium_line, np.log(0.6)\n",
    "        theta_guess = np.array([m_guess, b_guess, A_guess, mu_guess, logw_guess])\n",
    "\n",
    "        pos = theta_guess + 1e-4 * np.random.randn(n_walkers, n_params) #intial guess position\n",
    "\n",
    "        #with Pool() as pool:\n",
    "        sampler = emcee.EnsembleSampler(n_walkers, n_params, log_likelihood, threads=12)\n",
    "        sampler.run_mcmc(pos, n_steps, progress=False);\n",
    "\n",
    "        flat_samples = sampler.get_chain(discard=1000, thin=15, flat=True)\n",
    "\n",
    "        A_draws = flat_samples[:,2]\n",
    "        b_draws = flat_samples[:,1]\n",
    "        m_draws = flat_samples[:,0]\n",
    "        mu_draws = flat_samples[:,3]\n",
    "        w_draws = np.exp(flat_samples[:, 4])\n",
    "\n",
    "        EW = ((2*np.pi)**.5)*(A_draws*w_draws)/(m_draws*(mu_draws-helium_line)+b_draws)\n",
    "        EW\n",
    "\n",
    "        ew_mean = np.mean(EW)\n",
    "        ew_std = np.std(EW)\n",
    "        gauss_width = np.mean(w_draws)\n",
    "        gauss_width_unc = np.std(w_draws)\n",
    "        obs_line_center = np.mean(mu_draws)\n",
    "        obs_line_center_unc = np.std(mu_draws)\n",
    "        #print(ew_mean)\n",
    "        #print(ew_std)\n",
    "        temp = {'ew':ew_mean, 'ew_unc':ew_std, 'date':date, 'star_name':obj, \n",
    "                'time':time, 'int_wv':helium_line, 'qidx':qidx, 'jd':jd,\n",
    "                'gaussian_width':gauss_width, 'gaussian_width_unc':gauss_width_unc,\n",
    "                'obs_line_center':obs_line_center, 'obs_line_center_unc':obs_line_center_unc}\n",
    "\n",
    "        # save the dataframe every 10 spectra\n",
    "        df_results = df_results.append(temp, ignore_index=True)\n",
    "        if (index % 10) == 0:\n",
    "            #print(index, fn[-49:])\n",
    "            df_results.to_csv('C:/Users/jojoa/GitHub/disperse/data/preliminary_results_He.csv',index=False)\n",
    "    except:\n",
    "        print(\"Fail:\", fn)\n",
    "        problem_files[index] = fn\n",
    "        raise"
   ]
  },
  {
   "cell_type": "markdown",
   "metadata": {},
   "source": [
    "Great! It works!  Let's save the results to a csv file."
   ]
  },
  {
   "cell_type": "code",
   "execution_count": 11,
   "metadata": {},
   "outputs": [],
   "source": [
    "df_results.to_csv('C:/Users/jojoa/GitHub/disperse/data/preliminary_results_He.csv',index=False)"
   ]
  },
  {
   "cell_type": "code",
   "execution_count": null,
   "metadata": {},
   "outputs": [],
   "source": []
  }
 ],
 "metadata": {
  "kernelspec": {
   "display_name": "Python 3",
   "language": "python",
   "name": "python3"
  },
  "language_info": {
   "codemirror_mode": {
    "name": "ipython",
    "version": 3
   },
   "file_extension": ".py",
   "mimetype": "text/x-python",
   "name": "python",
   "nbconvert_exporter": "python",
   "pygments_lexer": "ipython3",
   "version": "3.8.8"
  }
 },
 "nbformat": 4,
 "nbformat_minor": 4
}
