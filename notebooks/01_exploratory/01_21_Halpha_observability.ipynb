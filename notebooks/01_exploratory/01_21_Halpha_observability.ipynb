{
 "cells": [
  {
   "cell_type": "markdown",
   "id": "2c705a27",
   "metadata": {},
   "source": [
    "# Can we observe H$\\alpha$ in Spring 2023?\n",
    "\n",
    "At McDonald Observatory 2.7 m"
   ]
  },
  {
   "cell_type": "code",
   "execution_count": 1,
   "id": "256ef2f6",
   "metadata": {},
   "outputs": [],
   "source": [
    "import astroplan"
   ]
  },
  {
   "cell_type": "code",
   "execution_count": 2,
   "id": "4d3b0816",
   "metadata": {},
   "outputs": [],
   "source": [
    "from astropy.coordinates import SkyCoord\n",
    "from astroplan import FixedTarget\n",
    "\n",
    "coordinates = SkyCoord.from_name('HAT-P-67')\n",
    "targ = FixedTarget(name='HAT-P-67', coord=coordinates)"
   ]
  },
  {
   "cell_type": "code",
   "execution_count": 3,
   "id": "27db800e",
   "metadata": {},
   "outputs": [
    {
     "data": {
      "text/plain": [
       "<FixedTarget \"HAT-P-67\" at SkyCoord (ICRS): (ra, dec) in deg (256.61067007, 44.77696346)>"
      ]
     },
     "execution_count": 3,
     "metadata": {},
     "output_type": "execute_result"
    }
   ],
   "source": [
    "targ"
   ]
  },
  {
   "cell_type": "code",
   "execution_count": 4,
   "id": "0583d766",
   "metadata": {},
   "outputs": [],
   "source": [
    "from astroplan import Observer\n",
    "observer = Observer.at_site('McDonald')"
   ]
  },
  {
   "cell_type": "code",
   "execution_count": 5,
   "id": "f23012d1",
   "metadata": {},
   "outputs": [],
   "source": [
    "t0 = 2455961.384670"
   ]
  },
  {
   "cell_type": "code",
   "execution_count": 6,
   "id": "c10b93d5",
   "metadata": {},
   "outputs": [],
   "source": [
    "from astropy.time import Time\n",
    "import astropy.units as u\n",
    "from astroplan import EclipsingSystem\n",
    "\n",
    "primary_eclipse_time = Time(t0, format='jd')\n",
    "orbital_period = 4.810102500 * u.day\n",
    "eclipse_duration = 6.9888 * u.hour\n",
    "\n",
    "hatp = EclipsingSystem(primary_eclipse_time=primary_eclipse_time,\n",
    "                           orbital_period=orbital_period, duration=eclipse_duration,\n",
    "                           name='HAT-P-67 b')\n"
   ]
  },
  {
   "cell_type": "code",
   "execution_count": 7,
   "id": "dbe05570",
   "metadata": {},
   "outputs": [
    {
     "data": {
      "text/plain": [
       "<astroplan.periodic.EclipsingSystem at 0x139630a60>"
      ]
     },
     "execution_count": 7,
     "metadata": {},
     "output_type": "execute_result"
    }
   ],
   "source": [
    "hatp"
   ]
  },
  {
   "cell_type": "code",
   "execution_count": 8,
   "id": "963adc1e",
   "metadata": {},
   "outputs": [],
   "source": [
    "observing_time = Time('2023-02-17 00:00')\n",
    "midtransit_times = hatp.next_primary_eclipse_time(observing_time, n_eclipses=20)"
   ]
  },
  {
   "cell_type": "code",
   "execution_count": 9,
   "id": "0e6366a3",
   "metadata": {},
   "outputs": [],
   "source": [
    "from astroplan import (PrimaryEclipseConstraint, is_event_observable,\n",
    "                       AtNightConstraint, AltitudeConstraint, PhaseConstraint)\n",
    "import datetime as dt"
   ]
  },
  {
   "cell_type": "code",
   "execution_count": 10,
   "id": "8ff9348f",
   "metadata": {},
   "outputs": [],
   "source": [
    "constraints = [AtNightConstraint.twilight_civil(),AltitudeConstraint(min=30*u.deg)]"
   ]
  },
  {
   "cell_type": "code",
   "execution_count": 11,
   "id": "a595801c",
   "metadata": {},
   "outputs": [],
   "source": [
    "mask = is_event_observable(constraints, observer, targ, times=midtransit_times)"
   ]
  },
  {
   "cell_type": "code",
   "execution_count": 12,
   "id": "bc549fbc",
   "metadata": {},
   "outputs": [
    {
     "data": {
      "text/plain": [
       "array([False,  True, False, False, False, False,  True, False, False,\n",
       "       False, False,  True,  True, False, False, False, False,  True,\n",
       "        True, False])"
      ]
     },
     "execution_count": 12,
     "metadata": {},
     "output_type": "execute_result"
    }
   ],
   "source": [
    "mask[0]"
   ]
  },
  {
   "cell_type": "code",
   "execution_count": 13,
   "id": "ad88aace",
   "metadata": {},
   "outputs": [
    {
     "data": {
      "text/plain": [
       "array(['2023-02-26 08:53:51.528', '2023-03-22 10:06:35.808',\n",
       "       '2023-04-15 11:19:20.088', '2023-04-20 06:45:52.944',\n",
       "       '2023-05-14 07:58:37.224', '2023-05-19 03:25:10.080'], dtype='<U23')"
      ]
     },
     "execution_count": 13,
     "metadata": {},
     "output_type": "execute_result"
    }
   ],
   "source": [
    "midtransit_times.value[mask[0]]"
   ]
  },
  {
   "cell_type": "markdown",
   "id": "ebd26e55",
   "metadata": {},
   "source": [
    "## Plot phases and constraints"
   ]
  },
  {
   "cell_type": "code",
   "execution_count": 14,
   "id": "f7c57155",
   "metadata": {},
   "outputs": [],
   "source": [
    "from astroplan import PeriodicEvent, MoonSeparationConstraint\n",
    "from astroplan.utils import time_grid_from_range\n",
    "import numpy as np\n",
    "import matplotlib.pyplot as plt\n",
    "\n",
    "%config InlineBackend.figure_format='retina'"
   ]
  },
  {
   "cell_type": "code",
   "execution_count": 15,
   "id": "ddc5b244",
   "metadata": {},
   "outputs": [],
   "source": [
    "epoch = Time(t0, format='jd')"
   ]
  },
  {
   "cell_type": "code",
   "execution_count": 16,
   "id": "7b39d224",
   "metadata": {},
   "outputs": [],
   "source": [
    "planetb = PeriodicEvent(epoch=epoch, period=orbital_period)"
   ]
  },
  {
   "cell_type": "code",
   "execution_count": 70,
   "id": "eb556a0e",
   "metadata": {},
   "outputs": [],
   "source": [
    "constraints = [AtNightConstraint.twilight_civil(),\n",
    "               AltitudeConstraint(min=15*u.deg), \n",
    "              PhaseConstraint(planetb, min=0.465, max=0.533),\n",
    "              PhaseConstraint(planetb, min=0.2, max=0.60)]"
   ]
  },
  {
   "cell_type": "code",
   "execution_count": 71,
   "id": "cdb09c7c",
   "metadata": {},
   "outputs": [],
   "source": [
    "# Define range of times to observe between\n",
    "start_time = Time('2023-03-30 00:00:01')\n",
    "end_time = Time('2023-04-05 00:00:01')\n",
    "time_resolution = 1 * u.hour"
   ]
  },
  {
   "cell_type": "code",
   "execution_count": 72,
   "id": "a8cadff6",
   "metadata": {},
   "outputs": [],
   "source": [
    "time_grid = time_grid_from_range([start_time, end_time],\n",
    "                                 time_resolution=time_resolution)"
   ]
  },
  {
   "cell_type": "code",
   "execution_count": 73,
   "id": "5debd045",
   "metadata": {},
   "outputs": [],
   "source": [
    "observability_grid = np.zeros((len(constraints), len(time_grid)))"
   ]
  },
  {
   "cell_type": "code",
   "execution_count": 74,
   "id": "c0e09d51",
   "metadata": {},
   "outputs": [],
   "source": [
    "for i, constraint in enumerate(constraints):\n",
    "    # Evaluate each constraint\n",
    "    observability_grid[i, :] = constraint(observer, targ, times=time_grid)"
   ]
  },
  {
   "cell_type": "code",
   "execution_count": 75,
   "id": "40a01c39",
   "metadata": {},
   "outputs": [
    {
     "data": {
      "text/plain": [
       "['AtNightConstraint',\n",
       " 'AltitudeConstraint',\n",
       " 'PhaseConstraint',\n",
       " 'PhaseConstraint']"
      ]
     },
     "execution_count": 75,
     "metadata": {},
     "output_type": "execute_result"
    }
   ],
   "source": [
    "[c.__class__.__name__ for c in constraints]"
   ]
  },
  {
   "cell_type": "code",
   "execution_count": 76,
   "id": "6352036e",
   "metadata": {},
   "outputs": [],
   "source": [
    "ylabels = ['At Night', 'Observable', 'Transiting', 'Pre-transit']"
   ]
  },
  {
   "cell_type": "code",
   "execution_count": null,
   "id": "e2989cd2",
   "metadata": {},
   "outputs": [],
   "source": []
  },
  {
   "cell_type": "code",
   "execution_count": 77,
   "id": "18301ec3",
   "metadata": {},
   "outputs": [
    {
     "data": {
      "image/png": "[encoded data removed]",
      "text/plain": [
       "<Figure size 1440x288 with 1 Axes>"
      ]
     },
     "metadata": {
      "image/png": {
       "height": 101,
       "width": 870
      },
      "needs_background": "light"
     },
     "output_type": "display_data"
    }
   ],
   "source": [
    "# Create plot showing observability of the target:\n",
    "\n",
    "extent = [-0.5, -0.5+len(time_grid), -0.5, 3.5]\n",
    "\n",
    "fig, ax = plt.subplots(figsize=(20, 4))\n",
    "ax.imshow(observability_grid, extent=extent, aspect=2)\n",
    "\n",
    "ax.set_yticks(range(0, len(ylabels)))\n",
    "ax.set_yticklabels(ylabels[::-1])\n",
    "\n",
    "\n",
    "xtick_labels_long = np.array([t.datetime.strftime(\"%D %H:%M\") for t in time_grid])\n",
    "xtick_labels_short = np.array([t.datetime.strftime(\"%H:%M\") for t in time_grid])\n",
    "xtick_labels = xtick_labels_short\n",
    "mask = xtick_labels_short == '00:00'\n",
    "xtick_labels[mask] = list(xtick_labels_long[mask])\n",
    "xtick_subset = xtick_labels[::4]\n",
    "ax.set_xticks(np.arange(0, len(xtick_labels), 4))\n",
    "ax.set_xticklabels(xtick_subset)\n",
    "\n",
    "ax.set_xticks(np.arange(extent[0], extent[1]), minor=True)\n",
    "ax.set_yticks(np.arange(extent[2], extent[3]), minor=True)\n",
    "\n",
    "ax.grid(which='minor', color='w', linestyle='-', linewidth=2)\n",
    "ax.tick_params(axis='x', which='minor', bottom='off')\n",
    "plt.setp(ax.get_xticklabels(), rotation=30, ha='right')\n",
    "\n",
    "ax.tick_params(axis='y', which='minor', left='off')\n",
    "ax.set_xlabel('Time on {0} UTC'.format(time_grid[0].datetime.date()))\n",
    "fig.subplots_adjust(left=0.35, right=0.9, top=0.9, bottom=0.1)\n",
    "plt.show()"
   ]
  },
  {
   "cell_type": "code",
   "execution_count": null,
   "id": "ca265bd4",
   "metadata": {},
   "outputs": [],
   "source": []
  }
 ],
 "metadata": {
  "kernelspec": {
   "display_name": "Python 3 (ipykernel)",
   "language": "python",
   "name": "python3"
  },
  "language_info": {
   "codemirror_mode": {
    "name": "ipython",
    "version": 3
   },
   "file_extension": ".py",
   "mimetype": "text/x-python",
   "name": "python",
   "nbconvert_exporter": "python",
   "pygments_lexer": "ipython3",
   "version": "3.8.12"
  }
 },
 "nbformat": 4,
 "nbformat_minor": 5
}
