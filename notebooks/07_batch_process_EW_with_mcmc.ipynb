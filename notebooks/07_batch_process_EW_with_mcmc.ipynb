{
 "cells": [
  {
   "cell_type": "markdown",
   "metadata": {},
   "source": [
    "# Batch process Equivalent Widths with MCMC\n",
    "\n",
    "The goal of this notebook is to distill our analysis into a programmatic loop over many spectra and save the Equivalent Width (EW) and its uncertainty to a results table.  The table will be in the form of a pandas dataframe, which we'll then save as a csv file."
   ]
  },
  {
   "cell_type": "code",
   "execution_count": 1,
   "metadata": {},
   "outputs": [],
   "source": [
    "import numpy as np\n",
    "import pandas as pd\n",
    "import os\n",
    "import glob\n",
    "from astropy.io import fits\n",
    "import emcee\n",
    "from astropy.time import Time"
   ]
  },
  {
   "cell_type": "code",
   "execution_count": 2,
   "metadata": {},
   "outputs": [],
   "source": [
    "import warnings\n",
    "\n",
    "import pandas as pd\n",
    "from pandas.core.common import SettingWithCopyWarning\n",
    "\n",
    "warnings.simplefilter(action=\"ignore\", category=SettingWithCopyWarning)"
   ]
  },
  {
   "cell_type": "code",
   "execution_count": 3,
   "metadata": {},
   "outputs": [],
   "source": [
    "goldilocks_files = glob.glob('../data/HPF/Helium-transit-data/**/Goldilocks*.fits', recursive=True)"
   ]
  },
  {
   "cell_type": "code",
   "execution_count": 4,
   "metadata": {},
   "outputs": [],
   "source": [
    "filename_zero = goldilocks_files[0]\n",
    "hdus = fits.open(filename_zero)"
   ]
  },
  {
   "cell_type": "code",
   "execution_count": 5,
   "metadata": {},
   "outputs": [],
   "source": [
    "def get_goldilocks_dataframe(fn):\n",
    "    \"\"\"Return a pandas Dataframe given a Goldilocks FITS file name\"\"\"\n",
    "    hdus = fits.open(fn)\n",
    "    df_original = pd.DataFrame()\n",
    "    header = hdus[0].header\n",
    "    for j in range(28):\n",
    "        df = pd.DataFrame()\n",
    "        for i in range(1, 10):\n",
    "            name = hdus[i].name\n",
    "            df[name] = hdus[i].data[j, :]\n",
    "        df['order'] = j\n",
    "        df_original = df_original.append(df, ignore_index=True)\n",
    "    keep_mask = df_original[df_original.columns[0:6]] != 0.0\n",
    "    df_original = df_original[keep_mask.all(axis=1)].reset_index(drop=True)\n",
    "    \n",
    "    return df_original, header"
   ]
  },
  {
   "cell_type": "code",
   "execution_count": 6,
   "metadata": {},
   "outputs": [],
   "source": [
    "def normalize_spectrum(df):\n",
    "    \"\"\"Normalizes spectrum to set to one\"\"\"\n",
    "    for order in df.order.unique():\n",
    "        mask = df.order == order\n",
    "        norm_constant = df['Sci Flux'][mask].median() #mean takes outliers into account\n",
    "        df['Sci Flux'][mask] = df['Sci Flux'][mask]/norm_constant\n",
    "        df['Sci Error'][mask] = df['Sci Error'][mask]/norm_constant\n",
    "        \n",
    "    return df"
   ]
  },
  {
   "cell_type": "markdown",
   "metadata": {},
   "source": [
    "Eventually we will loop over index."
   ]
  },
  {
   "cell_type": "code",
   "execution_count": 7,
   "metadata": {},
   "outputs": [],
   "source": [
    "order = 4\n",
    "n_walkers = 32\n",
    "n_params = 5\n",
    "n_steps = 5000\n",
    "labels = [\"m\", \"b\", \"A\", \"mu\", \"w\"]"
   ]
  },
  {
   "cell_type": "code",
   "execution_count": 8,
   "metadata": {},
   "outputs": [],
   "source": [
    "df_results = pd.DataFrame()"
   ]
  },
  {
   "cell_type": "code",
   "execution_count": 9,
   "metadata": {},
   "outputs": [
    {
     "name": "stdout",
     "output_type": "stream",
     "text": [
      "115 Goldilocks_20200809T082242_v1.0_0040.spectra.fits\n"
     ]
    },
    {
     "name": "stderr",
     "output_type": "stream",
     "text": [
      "100%|█████████████████████████████████████████████████████████████████████████████| 5000/5000 [00:08<00:00, 583.49it/s]\n"
     ]
    },
    {
     "name": "stdout",
     "output_type": "stream",
     "text": [
      "1.1770586778055014\n",
      "0.03818644602828945\n",
      "116 Goldilocks_20200809T083657_v1.0_0041.spectra.fits\n"
     ]
    },
    {
     "name": "stderr",
     "output_type": "stream",
     "text": [
      "100%|█████████████████████████████████████████████████████████████████████████████| 5000/5000 [00:08<00:00, 618.72it/s]\n"
     ]
    },
    {
     "name": "stdout",
     "output_type": "stream",
     "text": [
      "1.173182014964545\n",
      "0.030147852021617\n",
      "117 Goldilocks_20200809T085111_v1.0_0042.spectra.fits\n"
     ]
    },
    {
     "name": "stderr",
     "output_type": "stream",
     "text": [
      "100%|█████████████████████████████████████████████████████████████████████████████| 5000/5000 [00:07<00:00, 647.16it/s]\n"
     ]
    },
    {
     "name": "stdout",
     "output_type": "stream",
     "text": [
      "1.1003336820030836\n",
      "0.02534596791425638\n",
      "118 Goldilocks_20200809T090525_v1.0_0043.spectra.fits\n"
     ]
    },
    {
     "name": "stderr",
     "output_type": "stream",
     "text": [
      "100%|█████████████████████████████████████████████████████████████████████████████| 5000/5000 [00:07<00:00, 659.66it/s]\n"
     ]
    },
    {
     "name": "stdout",
     "output_type": "stream",
     "text": [
      "1.0897652608816095\n",
      "0.022047808755659294\n",
      "119 Goldilocks_20200809T091938_v1.0_0044.spectra.fits\n"
     ]
    },
    {
     "name": "stderr",
     "output_type": "stream",
     "text": [
      "100%|█████████████████████████████████████████████████████████████████████████████| 5000/5000 [00:07<00:00, 650.15it/s]\n"
     ]
    },
    {
     "name": "stdout",
     "output_type": "stream",
     "text": [
      "1.1291370842498847\n",
      "0.02251949345060005\n",
      "120 Goldilocks_20200809T093350_v1.0_0045.spectra.fits\n"
     ]
    },
    {
     "name": "stderr",
     "output_type": "stream",
     "text": [
      "100%|█████████████████████████████████████████████████████████████████████████████| 5000/5000 [00:07<00:00, 641.42it/s]\n"
     ]
    },
    {
     "name": "stdout",
     "output_type": "stream",
     "text": [
      "1.1113865173452449\n",
      "0.025273693596823656\n",
      "121 Goldilocks_20200919T054228_v1.0_0020.spectra.fits\n"
     ]
    },
    {
     "name": "stderr",
     "output_type": "stream",
     "text": [
      "100%|█████████████████████████████████████████████████████████████████████████████| 5000/5000 [00:08<00:00, 589.77it/s]\n"
     ]
    },
    {
     "name": "stdout",
     "output_type": "stream",
     "text": [
      "1.10434008074982\n",
      "0.029879938712683733\n",
      "122 Goldilocks_20200919T055644_v1.0_0021.spectra.fits\n"
     ]
    },
    {
     "name": "stderr",
     "output_type": "stream",
     "text": [
      "100%|█████████████████████████████████████████████████████████████████████████████| 5000/5000 [00:12<00:00, 413.11it/s]\n"
     ]
    },
    {
     "name": "stdout",
     "output_type": "stream",
     "text": [
      "1.093289406256483\n",
      "0.0251893666986862\n",
      "123 Goldilocks_20200919T061054_v1.0_0022.spectra.fits\n"
     ]
    },
    {
     "name": "stderr",
     "output_type": "stream",
     "text": [
      "100%|█████████████████████████████████████████████████████████████████████████████| 5000/5000 [00:10<00:00, 498.70it/s]\n"
     ]
    },
    {
     "name": "stdout",
     "output_type": "stream",
     "text": [
      "1.1011516954593372\n",
      "0.022643976082385157\n",
      "124 Goldilocks_20200919T062506_v1.0_0023.spectra.fits\n"
     ]
    },
    {
     "name": "stderr",
     "output_type": "stream",
     "text": [
      "100%|█████████████████████████████████████████████████████████████████████████████| 5000/5000 [00:10<00:00, 492.13it/s]\n"
     ]
    },
    {
     "name": "stdout",
     "output_type": "stream",
     "text": [
      "7.3981483248874\n",
      "5.315551233947909\n",
      "125 Goldilocks_20200919T063924_v1.0_0024.spectra.fits\n"
     ]
    },
    {
     "name": "stderr",
     "output_type": "stream",
     "text": [
      "100%|█████████████████████████████████████████████████████████████████████████████| 5000/5000 [00:09<00:00, 536.76it/s]\n"
     ]
    },
    {
     "name": "stdout",
     "output_type": "stream",
     "text": [
      "1.0665911253019424\n",
      "0.02126204830202118\n",
      "126 Goldilocks_20200919T065336_v1.0_0025.spectra.fits\n"
     ]
    },
    {
     "name": "stderr",
     "output_type": "stream",
     "text": [
      "100%|█████████████████████████████████████████████████████████████████████████████| 5000/5000 [00:09<00:00, 546.42it/s]\n"
     ]
    },
    {
     "name": "stdout",
     "output_type": "stream",
     "text": [
      "1.1160965855864218\n",
      "0.02346827703533789\n",
      "127 Goldilocks_20200807T084257_v1.0_0035.spectra.fits\n"
     ]
    },
    {
     "name": "stderr",
     "output_type": "stream",
     "text": [
      "100%|█████████████████████████████████████████████████████████████████████████████| 5000/5000 [00:09<00:00, 550.09it/s]\n"
     ]
    },
    {
     "name": "stdout",
     "output_type": "stream",
     "text": [
      "1.1856728757264487\n",
      "0.03274044978521005\n",
      "128 Goldilocks_20200807T085713_v1.0_0036.spectra.fits\n"
     ]
    },
    {
     "name": "stderr",
     "output_type": "stream",
     "text": [
      "  3%|██▋                                                                           | 169/5000 [00:00<00:08, 559.69it/s]<ipython-input-9-73d713bf1863>:29: RuntimeWarning: divide by zero encountered in true_divide\n",
      "  gaussian = A * np.exp(-0.5*(wl-mu)**2/w**2)\n",
      "<ipython-input-9-73d713bf1863>:29: RuntimeWarning: overflow encountered in true_divide\n",
      "  gaussian = A * np.exp(-0.5*(wl-mu)**2/w**2)\n",
      "<ipython-input-9-73d713bf1863>:29: RuntimeWarning: overflow encountered in double_scalars\n",
      "  gaussian = A * np.exp(-0.5*(wl-mu)**2/w**2)\n",
      "  4%|███▌                                                                          | 225/5000 [00:00<00:08, 559.77it/s]<ipython-input-9-73d713bf1863>:28: RuntimeWarning: overflow encountered in exp\n",
      "  w = np.exp(logw)\n",
      "100%|█████████████████████████████████████████████████████████████████████████████| 5000/5000 [00:09<00:00, 523.72it/s]\n",
      "<ipython-input-9-73d713bf1863>:53: RuntimeWarning: overflow encountered in exp\n",
      "  w_draws = np.exp(flat_samples[:, 4])\n",
      "C:\\Users\\jojoa\\.conda\\envs\\disperse_env\\lib\\site-packages\\numpy\\core\\_methods.py:202: RuntimeWarning: invalid value encountered in subtract\n",
      "  x = asanyarray(arr - arrmean)\n"
     ]
    },
    {
     "name": "stdout",
     "output_type": "stream",
     "text": [
      "-inf\n",
      "nan\n",
      "129 Goldilocks_20200807T091125_v1.0_0037.spectra.fits\n"
     ]
    },
    {
     "name": "stderr",
     "output_type": "stream",
     "text": [
      "100%|█████████████████████████████████████████████████████████████████████████████| 5000/5000 [00:09<00:00, 551.67it/s]\n"
     ]
    },
    {
     "name": "stdout",
     "output_type": "stream",
     "text": [
      "1.2970049509996913\n",
      "0.5595133441210229\n",
      "130 Goldilocks_20200807T092540_v1.0_0038.spectra.fits\n"
     ]
    },
    {
     "name": "stderr",
     "output_type": "stream",
     "text": [
      "100%|█████████████████████████████████████████████████████████████████████████████| 5000/5000 [00:08<00:00, 559.40it/s]\n"
     ]
    },
    {
     "name": "stdout",
     "output_type": "stream",
     "text": [
      "1.1463771921989112\n",
      "0.028672085410143783\n",
      "131 Goldilocks_20200808T084204_v1.0_0024.spectra.fits\n"
     ]
    },
    {
     "name": "stderr",
     "output_type": "stream",
     "text": [
      "100%|█████████████████████████████████████████████████████████████████████████████| 5000/5000 [00:09<00:00, 551.52it/s]\n"
     ]
    },
    {
     "name": "stdout",
     "output_type": "stream",
     "text": [
      "1.1390740142681273\n",
      "0.02151824119928764\n",
      "132 Goldilocks_20200808T085617_v1.0_0025.spectra.fits\n"
     ]
    },
    {
     "name": "stderr",
     "output_type": "stream",
     "text": [
      "100%|█████████████████████████████████████████████████████████████████████████████| 5000/5000 [00:08<00:00, 559.72it/s]\n"
     ]
    },
    {
     "name": "stdout",
     "output_type": "stream",
     "text": [
      "1.175558799985236\n",
      "0.02099660357582595\n",
      "133 Goldilocks_20200808T091032_v1.0_0026.spectra.fits\n"
     ]
    },
    {
     "name": "stderr",
     "output_type": "stream",
     "text": [
      "100%|█████████████████████████████████████████████████████████████████████████████| 5000/5000 [00:09<00:00, 543.47it/s]\n"
     ]
    },
    {
     "name": "stdout",
     "output_type": "stream",
     "text": [
      "1.1355022047018768\n",
      "0.01824448577362067\n",
      "134 Goldilocks_20200808T092446_v1.0_0027.spectra.fits\n"
     ]
    },
    {
     "name": "stderr",
     "output_type": "stream",
     "text": [
      "100%|█████████████████████████████████████████████████████████████████████████████| 5000/5000 [00:09<00:00, 551.64it/s]\n"
     ]
    },
    {
     "name": "stdout",
     "output_type": "stream",
     "text": [
      "1.1039998439235124\n",
      "0.021023443303432608\n",
      "135 Goldilocks_20200918T111606_v1.0_0029.spectra.fits\n"
     ]
    },
    {
     "name": "stderr",
     "output_type": "stream",
     "text": [
      "100%|█████████████████████████████████████████████████████████████████████████████| 5000/5000 [00:09<00:00, 550.84it/s]\n"
     ]
    },
    {
     "name": "stdout",
     "output_type": "stream",
     "text": [
      "1.0579047683944667\n",
      "0.022617399189824604\n",
      "136 Goldilocks_20200918T113019_v1.0_0030.spectra.fits\n"
     ]
    },
    {
     "name": "stderr",
     "output_type": "stream",
     "text": [
      "100%|█████████████████████████████████████████████████████████████████████████████| 5000/5000 [00:09<00:00, 540.48it/s]\n"
     ]
    },
    {
     "name": "stdout",
     "output_type": "stream",
     "text": [
      "1.0652711250874654\n",
      "0.02173262933214615\n",
      "137 Goldilocks_20200918T114433_v1.0_0031.spectra.fits\n"
     ]
    },
    {
     "name": "stderr",
     "output_type": "stream",
     "text": [
      "100%|█████████████████████████████████████████████████████████████████████████████| 5000/5000 [00:09<00:00, 535.86it/s]\n"
     ]
    },
    {
     "name": "stdout",
     "output_type": "stream",
     "text": [
      "1.0783195375218735\n",
      "0.02148198180435215\n",
      "138 Goldilocks_20200919T111858_v1.0_0038.spectra.fits\n"
     ]
    },
    {
     "name": "stderr",
     "output_type": "stream",
     "text": [
      "100%|█████████████████████████████████████████████████████████████████████████████| 5000/5000 [00:09<00:00, 539.00it/s]\n"
     ]
    },
    {
     "name": "stdout",
     "output_type": "stream",
     "text": [
      "1.1318143347497762\n",
      "0.02046306767899826\n",
      "139 Goldilocks_20200919T113312_v1.0_0039.spectra.fits\n"
     ]
    },
    {
     "name": "stderr",
     "output_type": "stream",
     "text": [
      "100%|█████████████████████████████████████████████████████████████████████████████| 5000/5000 [00:09<00:00, 549.20it/s]\n"
     ]
    },
    {
     "name": "stdout",
     "output_type": "stream",
     "text": [
      "1.053027775597984\n",
      "0.0160607152170716\n",
      "140 Goldilocks_20200920T111120_v1.0_0014.spectra.fits\n"
     ]
    },
    {
     "name": "stderr",
     "output_type": "stream",
     "text": [
      "100%|█████████████████████████████████████████████████████████████████████████████| 5000/5000 [00:09<00:00, 547.05it/s]\n"
     ]
    },
    {
     "name": "stdout",
     "output_type": "stream",
     "text": [
      "1.055477729458409\n",
      "0.02238878566863021\n",
      "141 Goldilocks_20200920T112536_v1.0_0015.spectra.fits\n"
     ]
    },
    {
     "name": "stderr",
     "output_type": "stream",
     "text": [
      "100%|█████████████████████████████████████████████████████████████████████████████| 5000/5000 [00:09<00:00, 552.17it/s]\n"
     ]
    },
    {
     "name": "stdout",
     "output_type": "stream",
     "text": [
      "1.1225502221259311\n",
      "0.21538899717828391\n",
      "142 Goldilocks_20200920T113948_v1.0_0016.spectra.fits\n"
     ]
    },
    {
     "name": "stderr",
     "output_type": "stream",
     "text": [
      "100%|█████████████████████████████████████████████████████████████████████████████| 5000/5000 [00:09<00:00, 554.19it/s]\n"
     ]
    },
    {
     "name": "stdout",
     "output_type": "stream",
     "text": [
      "1.0899451581447663\n",
      "0.018944536382518744\n",
      "143 Goldilocks_20200920T115358_v1.0_0017.spectra.fits\n"
     ]
    },
    {
     "name": "stderr",
     "output_type": "stream",
     "text": [
      "100%|█████████████████████████████████████████████████████████████████████████████| 5000/5000 [00:09<00:00, 551.53it/s]\n"
     ]
    },
    {
     "name": "stdout",
     "output_type": "stream",
     "text": [
      "1.1007972589600354\n",
      "0.02397179245818335\n",
      "144 Goldilocks_20200922T110354_v1.0_0037.spectra.fits\n"
     ]
    },
    {
     "name": "stderr",
     "output_type": "stream",
     "text": [
      "100%|█████████████████████████████████████████████████████████████████████████████| 5000/5000 [00:09<00:00, 549.34it/s]\n"
     ]
    },
    {
     "name": "stdout",
     "output_type": "stream",
     "text": [
      "1.1134721447597746\n",
      "0.02423765487439154\n",
      "145 Goldilocks_20200922T111812_v1.0_0038.spectra.fits\n"
     ]
    },
    {
     "name": "stderr",
     "output_type": "stream",
     "text": [
      "100%|█████████████████████████████████████████████████████████████████████████████| 5000/5000 [00:08<00:00, 615.93it/s]\n"
     ]
    },
    {
     "name": "stdout",
     "output_type": "stream",
     "text": [
      "1.0553492697937104\n",
      "0.021240557895237232\n",
      "146 Goldilocks_20200922T113220_v1.0_0039.spectra.fits\n"
     ]
    },
    {
     "name": "stderr",
     "output_type": "stream",
     "text": [
      "100%|█████████████████████████████████████████████████████████████████████████████| 5000/5000 [00:07<00:00, 638.38it/s]\n"
     ]
    },
    {
     "name": "stdout",
     "output_type": "stream",
     "text": [
      "1.110876297643373\n",
      "0.02380852599236402\n",
      "147 Goldilocks_20200922T114636_v1.0_0040.spectra.fits\n"
     ]
    },
    {
     "name": "stderr",
     "output_type": "stream",
     "text": [
      "100%|█████████████████████████████████████████████████████████████████████████████| 5000/5000 [00:07<00:00, 656.16it/s]\n"
     ]
    },
    {
     "name": "stdout",
     "output_type": "stream",
     "text": [
      "1.0659176052838522\n",
      "0.022583743681382443\n",
      "148 Goldilocks_20200801T094311_v1.0_0046.spectra.fits\n"
     ]
    },
    {
     "name": "stderr",
     "output_type": "stream",
     "text": [
      "100%|█████████████████████████████████████████████████████████████████████████████| 5000/5000 [00:07<00:00, 648.18it/s]\n"
     ]
    },
    {
     "name": "stdout",
     "output_type": "stream",
     "text": [
      "1.082135507053409\n",
      "0.018424228372133648\n",
      "149 Goldilocks_20200801T095725_v1.0_0047.spectra.fits\n"
     ]
    },
    {
     "name": "stderr",
     "output_type": "stream",
     "text": [
      "100%|█████████████████████████████████████████████████████████████████████████████| 5000/5000 [00:07<00:00, 645.30it/s]\n"
     ]
    },
    {
     "name": "stdout",
     "output_type": "stream",
     "text": [
      "1.1350863314065969\n",
      "0.019963799826940697\n",
      "150 Goldilocks_20200904T065413_v1.0_0019.spectra.fits\n"
     ]
    },
    {
     "name": "stderr",
     "output_type": "stream",
     "text": [
      "100%|█████████████████████████████████████████████████████████████████████████████| 5000/5000 [00:07<00:00, 660.17it/s]\n"
     ]
    },
    {
     "name": "stdout",
     "output_type": "stream",
     "text": [
      "1.1090081338757567\n",
      "0.04201985464437047\n",
      "151 Goldilocks_20200904T070828_v1.0_0020.spectra.fits\n"
     ]
    },
    {
     "name": "stderr",
     "output_type": "stream",
     "text": [
      "100%|█████████████████████████████████████████████████████████████████████████████| 5000/5000 [00:07<00:00, 657.50it/s]\n"
     ]
    },
    {
     "name": "stdout",
     "output_type": "stream",
     "text": [
      "1.0899975599264553\n",
      "0.03162272650419412\n",
      "152 Goldilocks_20200904T072244_v1.0_0021.spectra.fits\n"
     ]
    },
    {
     "name": "stderr",
     "output_type": "stream",
     "text": [
      "100%|█████████████████████████████████████████████████████████████████████████████| 5000/5000 [00:07<00:00, 652.78it/s]\n"
     ]
    },
    {
     "name": "stdout",
     "output_type": "stream",
     "text": [
      "1.0827859011676888\n",
      "0.02905607496501788\n",
      "153 Goldilocks_20200904T073653_v1.0_0022.spectra.fits\n"
     ]
    },
    {
     "name": "stderr",
     "output_type": "stream",
     "text": [
      "100%|█████████████████████████████████████████████████████████████████████████████| 5000/5000 [00:07<00:00, 641.18it/s]\n"
     ]
    },
    {
     "name": "stdout",
     "output_type": "stream",
     "text": [
      "1.1365481590747664\n",
      "0.03191080950871491\n",
      "154 Goldilocks_20200905T074537_v1.0_0032.spectra.fits\n"
     ]
    },
    {
     "name": "stderr",
     "output_type": "stream",
     "text": [
      "100%|█████████████████████████████████████████████████████████████████████████████| 5000/5000 [00:07<00:00, 651.00it/s]"
     ]
    },
    {
     "name": "stdout",
     "output_type": "stream",
     "text": [
      "1.0990492933900469\n",
      "0.02278501284447815\n"
     ]
    },
    {
     "name": "stderr",
     "output_type": "stream",
     "text": [
      "\n"
     ]
    }
   ],
   "source": [
    "for index in range(115, 155):\n",
    "\n",
    "    fn = goldilocks_files[index]\n",
    "    print(index, fn[-49:])\n",
    "    df_orig, header = get_goldilocks_dataframe(fn)\n",
    "    date_raw = header['DATE-OBS']\n",
    "    date = date_raw[0:10]\n",
    "    time = date_raw[11:19]\n",
    "    obj = header['OBJECT']\n",
    "    df = normalize_spectrum(df_orig)\n",
    "    qidx = header['QIDX']\n",
    "    j_date = date_raw\n",
    "    t = Time(j_date, format='isot', scale='utc')\n",
    "    jd = t.jd\n",
    "    \n",
    "    wavelength1 = 8538\n",
    "    wavelength2 = 8546\n",
    "    calcium_line = 8542\n",
    "    \n",
    "    sub_region = (df.order == order) & (df['Sci Wavl'] > wavelength1) & (df['Sci Wavl'] < wavelength2)\n",
    "    wl = df['Sci Wavl'][sub_region].values\n",
    "    flux = df['Sci Flux'][sub_region].values\n",
    "    unc = df['Sci Error'][sub_region].values\n",
    "    \n",
    "    def generative_model(m, b, A, mu, logw, int_wl = calcium_line):\n",
    "        \"\"\"Generate the model given parameters\"\"\"\n",
    "        continuum = m * (wl - int_wl) + b\n",
    "        w = np.exp(logw)\n",
    "        gaussian = A * np.exp(-0.5*(wl-mu)**2/w**2)\n",
    "        return continuum - gaussian\n",
    "    \n",
    "    def log_likelihood(theta):\n",
    "        m, b, A, mu, logw = theta\n",
    "        model = generative_model(m, b, A, mu, logw, int_wl = calcium_line)\n",
    "        residual = flux - model\n",
    "        chi_squared = np.sum(residual** 2 / unc**2)\n",
    "        return -0.5 * chi_squared\n",
    "    \n",
    "    m_guess, b_guess, A_guess, mu_guess, logw_guess = 0.01, 0.3, 0.1, calcium_line, np.log(0.4)\n",
    "    theta_guess = np.array([m_guess, b_guess, A_guess, mu_guess, logw_guess])\n",
    "    \n",
    "    pos = theta_guess + 1e-4 * np.random.randn(n_walkers, n_params) #intial guess position\n",
    "    \n",
    "    sampler = emcee.EnsembleSampler(n_walkers, n_params, log_likelihood)\n",
    "    sampler.run_mcmc(pos, n_steps, progress=True);\n",
    "    \n",
    "    flat_samples = sampler.get_chain(discard=1000, thin=15, flat=True)\n",
    "\n",
    "    A_draws = flat_samples[:,2]\n",
    "    b_draws = flat_samples[:,1]\n",
    "    m_draws = flat_samples[:,0]\n",
    "    mu_draws = flat_samples[:,3]\n",
    "    w_draws = np.exp(flat_samples[:, 4])\n",
    "\n",
    "    EW = ((2*np.pi)**.5)*(A_draws*w_draws)/(m_draws*(mu_draws-calcium_line)+b_draws)\n",
    "    EW\n",
    "\n",
    "    ew_mean = np.mean(EW)\n",
    "    ew_std = np.std(EW)\n",
    "    print(ew_mean)\n",
    "    print(ew_std)\n",
    "    temp = {'ew':ew_mean, 'ew_unc':ew_std, 'date':date, 'star_name':obj, 'time':time, 'int_wv':calcium_line, 'qidx':qidx, 'jd':jd}\n",
    "    df_results = df_results.append(temp, ignore_index=True)"
   ]
  },
  {
   "cell_type": "code",
   "execution_count": 10,
   "metadata": {},
   "outputs": [
    {
     "data": {
      "text/html": [
       "<div>\n",
       "<style scoped>\n",
       "    .dataframe tbody tr th:only-of-type {\n",
       "        vertical-align: middle;\n",
       "    }\n",
       "\n",
       "    .dataframe tbody tr th {\n",
       "        vertical-align: top;\n",
       "    }\n",
       "\n",
       "    .dataframe thead th {\n",
       "        text-align: right;\n",
       "    }\n",
       "</style>\n",
       "<table border=\"1\" class=\"dataframe\">\n",
       "  <thead>\n",
       "    <tr style=\"text-align: right;\">\n",
       "      <th></th>\n",
       "      <th>date</th>\n",
       "      <th>ew</th>\n",
       "      <th>ew_unc</th>\n",
       "      <th>int_wv</th>\n",
       "      <th>jd</th>\n",
       "      <th>qidx</th>\n",
       "      <th>star_name</th>\n",
       "      <th>time</th>\n",
       "    </tr>\n",
       "  </thead>\n",
       "  <tbody>\n",
       "    <tr>\n",
       "      <th>0</th>\n",
       "      <td>2020-08-09</td>\n",
       "      <td>1.177059</td>\n",
       "      <td>0.038186</td>\n",
       "      <td>8542.0</td>\n",
       "      <td>2.459071e+06</td>\n",
       "      <td>4967.0</td>\n",
       "      <td>HAT-P-32_1_IN</td>\n",
       "      <td>08:23:13</td>\n",
       "    </tr>\n",
       "    <tr>\n",
       "      <th>1</th>\n",
       "      <td>2020-08-09</td>\n",
       "      <td>1.173182</td>\n",
       "      <td>0.030148</td>\n",
       "      <td>8542.0</td>\n",
       "      <td>2.459071e+06</td>\n",
       "      <td>4967.0</td>\n",
       "      <td>HAT-P-32_1_IN</td>\n",
       "      <td>08:37:26</td>\n",
       "    </tr>\n",
       "    <tr>\n",
       "      <th>2</th>\n",
       "      <td>2020-08-09</td>\n",
       "      <td>1.100334</td>\n",
       "      <td>0.025346</td>\n",
       "      <td>8542.0</td>\n",
       "      <td>2.459071e+06</td>\n",
       "      <td>4967.0</td>\n",
       "      <td>HAT-P-32_1_IN</td>\n",
       "      <td>08:51:38</td>\n",
       "    </tr>\n",
       "    <tr>\n",
       "      <th>3</th>\n",
       "      <td>2020-08-09</td>\n",
       "      <td>1.089765</td>\n",
       "      <td>0.022048</td>\n",
       "      <td>8542.0</td>\n",
       "      <td>2.459071e+06</td>\n",
       "      <td>4967.0</td>\n",
       "      <td>HAT-P-32_1_IN</td>\n",
       "      <td>09:05:51</td>\n",
       "    </tr>\n",
       "    <tr>\n",
       "      <th>4</th>\n",
       "      <td>2020-08-09</td>\n",
       "      <td>1.129137</td>\n",
       "      <td>0.022519</td>\n",
       "      <td>8542.0</td>\n",
       "      <td>2.459071e+06</td>\n",
       "      <td>4967.0</td>\n",
       "      <td>HAT-P-32_1_IN</td>\n",
       "      <td>09:20:04</td>\n",
       "    </tr>\n",
       "    <tr>\n",
       "      <th>5</th>\n",
       "      <td>2020-08-09</td>\n",
       "      <td>1.111387</td>\n",
       "      <td>0.025274</td>\n",
       "      <td>8542.0</td>\n",
       "      <td>2.459071e+06</td>\n",
       "      <td>4967.0</td>\n",
       "      <td>HAT-P-32_1_IN</td>\n",
       "      <td>09:34:17</td>\n",
       "    </tr>\n",
       "    <tr>\n",
       "      <th>6</th>\n",
       "      <td>2020-09-19</td>\n",
       "      <td>1.104340</td>\n",
       "      <td>0.029880</td>\n",
       "      <td>8542.0</td>\n",
       "      <td>2.459112e+06</td>\n",
       "      <td>6062.0</td>\n",
       "      <td>HAT-P-32_3_IN</td>\n",
       "      <td>05:42:56</td>\n",
       "    </tr>\n",
       "    <tr>\n",
       "      <th>7</th>\n",
       "      <td>2020-09-19</td>\n",
       "      <td>1.093289</td>\n",
       "      <td>0.025189</td>\n",
       "      <td>8542.0</td>\n",
       "      <td>2.459112e+06</td>\n",
       "      <td>6062.0</td>\n",
       "      <td>HAT-P-32_3_IN</td>\n",
       "      <td>05:57:09</td>\n",
       "    </tr>\n",
       "    <tr>\n",
       "      <th>8</th>\n",
       "      <td>2020-09-19</td>\n",
       "      <td>1.101152</td>\n",
       "      <td>0.022644</td>\n",
       "      <td>8542.0</td>\n",
       "      <td>2.459112e+06</td>\n",
       "      <td>6062.0</td>\n",
       "      <td>HAT-P-32_3_IN</td>\n",
       "      <td>06:11:22</td>\n",
       "    </tr>\n",
       "    <tr>\n",
       "      <th>9</th>\n",
       "      <td>2020-09-19</td>\n",
       "      <td>7.398148</td>\n",
       "      <td>5.315551</td>\n",
       "      <td>8542.0</td>\n",
       "      <td>2.459112e+06</td>\n",
       "      <td>6062.0</td>\n",
       "      <td>HAT-P-32_3_IN</td>\n",
       "      <td>06:25:35</td>\n",
       "    </tr>\n",
       "    <tr>\n",
       "      <th>10</th>\n",
       "      <td>2020-09-19</td>\n",
       "      <td>1.066591</td>\n",
       "      <td>0.021262</td>\n",
       "      <td>8542.0</td>\n",
       "      <td>2.459112e+06</td>\n",
       "      <td>6062.0</td>\n",
       "      <td>HAT-P-32_3_IN</td>\n",
       "      <td>06:39:47</td>\n",
       "    </tr>\n",
       "    <tr>\n",
       "      <th>11</th>\n",
       "      <td>2020-09-19</td>\n",
       "      <td>1.116097</td>\n",
       "      <td>0.023468</td>\n",
       "      <td>8542.0</td>\n",
       "      <td>2.459112e+06</td>\n",
       "      <td>6062.0</td>\n",
       "      <td>HAT-P-32_3_IN</td>\n",
       "      <td>06:54:00</td>\n",
       "    </tr>\n",
       "    <tr>\n",
       "      <th>12</th>\n",
       "      <td>2020-08-07</td>\n",
       "      <td>1.185673</td>\n",
       "      <td>0.032740</td>\n",
       "      <td>8542.0</td>\n",
       "      <td>2.459069e+06</td>\n",
       "      <td>4968.0</td>\n",
       "      <td>HAT-P-32_1_OUT_b2</td>\n",
       "      <td>08:43:26</td>\n",
       "    </tr>\n",
       "    <tr>\n",
       "      <th>13</th>\n",
       "      <td>2020-08-07</td>\n",
       "      <td>-inf</td>\n",
       "      <td>NaN</td>\n",
       "      <td>8542.0</td>\n",
       "      <td>2.459069e+06</td>\n",
       "      <td>4968.0</td>\n",
       "      <td>HAT-P-32_1_OUT_b2</td>\n",
       "      <td>08:57:39</td>\n",
       "    </tr>\n",
       "    <tr>\n",
       "      <th>14</th>\n",
       "      <td>2020-08-07</td>\n",
       "      <td>1.297005</td>\n",
       "      <td>0.559513</td>\n",
       "      <td>8542.0</td>\n",
       "      <td>2.459069e+06</td>\n",
       "      <td>4968.0</td>\n",
       "      <td>HAT-P-32_1_OUT_b2</td>\n",
       "      <td>09:11:52</td>\n",
       "    </tr>\n",
       "    <tr>\n",
       "      <th>15</th>\n",
       "      <td>2020-08-07</td>\n",
       "      <td>1.146377</td>\n",
       "      <td>0.028672</td>\n",
       "      <td>8542.0</td>\n",
       "      <td>2.459069e+06</td>\n",
       "      <td>4968.0</td>\n",
       "      <td>HAT-P-32_1_OUT_b2</td>\n",
       "      <td>09:26:05</td>\n",
       "    </tr>\n",
       "    <tr>\n",
       "      <th>16</th>\n",
       "      <td>2020-08-08</td>\n",
       "      <td>1.139074</td>\n",
       "      <td>0.021518</td>\n",
       "      <td>8542.0</td>\n",
       "      <td>2.459070e+06</td>\n",
       "      <td>4969.0</td>\n",
       "      <td>HAT-P-32_1_OUT_b1</td>\n",
       "      <td>08:42:34</td>\n",
       "    </tr>\n",
       "    <tr>\n",
       "      <th>17</th>\n",
       "      <td>2020-08-08</td>\n",
       "      <td>1.175559</td>\n",
       "      <td>0.020997</td>\n",
       "      <td>8542.0</td>\n",
       "      <td>2.459070e+06</td>\n",
       "      <td>4969.0</td>\n",
       "      <td>HAT-P-32_1_OUT_b1</td>\n",
       "      <td>08:56:47</td>\n",
       "    </tr>\n",
       "    <tr>\n",
       "      <th>18</th>\n",
       "      <td>2020-08-08</td>\n",
       "      <td>1.135502</td>\n",
       "      <td>0.018244</td>\n",
       "      <td>8542.0</td>\n",
       "      <td>2.459070e+06</td>\n",
       "      <td>4969.0</td>\n",
       "      <td>HAT-P-32_1_OUT_b1</td>\n",
       "      <td>09:11:00</td>\n",
       "    </tr>\n",
       "    <tr>\n",
       "      <th>19</th>\n",
       "      <td>2020-08-08</td>\n",
       "      <td>1.104000</td>\n",
       "      <td>0.021023</td>\n",
       "      <td>8542.0</td>\n",
       "      <td>2.459070e+06</td>\n",
       "      <td>4969.0</td>\n",
       "      <td>HAT-P-32_1_OUT_b1</td>\n",
       "      <td>09:25:12</td>\n",
       "    </tr>\n",
       "    <tr>\n",
       "      <th>20</th>\n",
       "      <td>2020-09-18</td>\n",
       "      <td>1.057905</td>\n",
       "      <td>0.022617</td>\n",
       "      <td>8542.0</td>\n",
       "      <td>2.459111e+06</td>\n",
       "      <td>6065.0</td>\n",
       "      <td>HAT-P-32_3_OUT_b1</td>\n",
       "      <td>11:16:35</td>\n",
       "    </tr>\n",
       "    <tr>\n",
       "      <th>21</th>\n",
       "      <td>2020-09-18</td>\n",
       "      <td>1.065271</td>\n",
       "      <td>0.021733</td>\n",
       "      <td>8542.0</td>\n",
       "      <td>2.459111e+06</td>\n",
       "      <td>6065.0</td>\n",
       "      <td>HAT-P-32_3_OUT_b1</td>\n",
       "      <td>11:30:48</td>\n",
       "    </tr>\n",
       "    <tr>\n",
       "      <th>22</th>\n",
       "      <td>2020-09-18</td>\n",
       "      <td>1.078320</td>\n",
       "      <td>0.021482</td>\n",
       "      <td>8542.0</td>\n",
       "      <td>2.459111e+06</td>\n",
       "      <td>6065.0</td>\n",
       "      <td>HAT-P-32_3_OUT_b1</td>\n",
       "      <td>11:45:01</td>\n",
       "    </tr>\n",
       "    <tr>\n",
       "      <th>23</th>\n",
       "      <td>2020-09-19</td>\n",
       "      <td>1.131814</td>\n",
       "      <td>0.020463</td>\n",
       "      <td>8542.0</td>\n",
       "      <td>2.459112e+06</td>\n",
       "      <td>6063.0</td>\n",
       "      <td>HAT-P-32_3_OUT_d</td>\n",
       "      <td>11:19:27</td>\n",
       "    </tr>\n",
       "    <tr>\n",
       "      <th>24</th>\n",
       "      <td>2020-09-19</td>\n",
       "      <td>1.053028</td>\n",
       "      <td>0.016061</td>\n",
       "      <td>8542.0</td>\n",
       "      <td>2.459112e+06</td>\n",
       "      <td>6063.0</td>\n",
       "      <td>HAT-P-32_3_OUT_d</td>\n",
       "      <td>11:33:39</td>\n",
       "    </tr>\n",
       "    <tr>\n",
       "      <th>25</th>\n",
       "      <td>2020-09-20</td>\n",
       "      <td>1.055478</td>\n",
       "      <td>0.022389</td>\n",
       "      <td>8542.0</td>\n",
       "      <td>2.459113e+06</td>\n",
       "      <td>6066.0</td>\n",
       "      <td>HAT-P-32_3_OUT_a1</td>\n",
       "      <td>11:11:49</td>\n",
       "    </tr>\n",
       "    <tr>\n",
       "      <th>26</th>\n",
       "      <td>2020-09-20</td>\n",
       "      <td>1.122550</td>\n",
       "      <td>0.215389</td>\n",
       "      <td>8542.0</td>\n",
       "      <td>2.459113e+06</td>\n",
       "      <td>6066.0</td>\n",
       "      <td>HAT-P-32_3_OUT_a1</td>\n",
       "      <td>11:26:02</td>\n",
       "    </tr>\n",
       "    <tr>\n",
       "      <th>27</th>\n",
       "      <td>2020-09-20</td>\n",
       "      <td>1.089945</td>\n",
       "      <td>0.018945</td>\n",
       "      <td>8542.0</td>\n",
       "      <td>2.459113e+06</td>\n",
       "      <td>6066.0</td>\n",
       "      <td>HAT-P-32_3_OUT_a1</td>\n",
       "      <td>11:40:14</td>\n",
       "    </tr>\n",
       "    <tr>\n",
       "      <th>28</th>\n",
       "      <td>2020-09-20</td>\n",
       "      <td>1.100797</td>\n",
       "      <td>0.023972</td>\n",
       "      <td>8542.0</td>\n",
       "      <td>2.459113e+06</td>\n",
       "      <td>6066.0</td>\n",
       "      <td>HAT-P-32_3_OUT_a1</td>\n",
       "      <td>11:54:27</td>\n",
       "    </tr>\n",
       "    <tr>\n",
       "      <th>29</th>\n",
       "      <td>2020-09-22</td>\n",
       "      <td>1.113472</td>\n",
       "      <td>0.024238</td>\n",
       "      <td>8542.0</td>\n",
       "      <td>2.459115e+06</td>\n",
       "      <td>6067.0</td>\n",
       "      <td>HAT-P-32_3_OUT_a2</td>\n",
       "      <td>11:04:23</td>\n",
       "    </tr>\n",
       "    <tr>\n",
       "      <th>30</th>\n",
       "      <td>2020-09-22</td>\n",
       "      <td>1.055349</td>\n",
       "      <td>0.021241</td>\n",
       "      <td>8542.0</td>\n",
       "      <td>2.459115e+06</td>\n",
       "      <td>6067.0</td>\n",
       "      <td>HAT-P-32_3_OUT_a2</td>\n",
       "      <td>11:18:35</td>\n",
       "    </tr>\n",
       "    <tr>\n",
       "      <th>31</th>\n",
       "      <td>2020-09-22</td>\n",
       "      <td>1.110876</td>\n",
       "      <td>0.023809</td>\n",
       "      <td>8542.0</td>\n",
       "      <td>2.459115e+06</td>\n",
       "      <td>6067.0</td>\n",
       "      <td>HAT-P-32_3_OUT_a2</td>\n",
       "      <td>11:32:48</td>\n",
       "    </tr>\n",
       "    <tr>\n",
       "      <th>32</th>\n",
       "      <td>2020-09-22</td>\n",
       "      <td>1.065918</td>\n",
       "      <td>0.022584</td>\n",
       "      <td>8542.0</td>\n",
       "      <td>2.459115e+06</td>\n",
       "      <td>6067.0</td>\n",
       "      <td>HAT-P-32_3_OUT_a2</td>\n",
       "      <td>11:47:01</td>\n",
       "    </tr>\n",
       "    <tr>\n",
       "      <th>33</th>\n",
       "      <td>2020-08-01</td>\n",
       "      <td>1.082136</td>\n",
       "      <td>0.018424</td>\n",
       "      <td>8542.0</td>\n",
       "      <td>2.459063e+06</td>\n",
       "      <td>6317.0</td>\n",
       "      <td>hat-p-32_p4</td>\n",
       "      <td>09:43:39</td>\n",
       "    </tr>\n",
       "    <tr>\n",
       "      <th>34</th>\n",
       "      <td>2020-08-01</td>\n",
       "      <td>1.135086</td>\n",
       "      <td>0.019964</td>\n",
       "      <td>8542.0</td>\n",
       "      <td>2.459063e+06</td>\n",
       "      <td>6317.0</td>\n",
       "      <td>hat-p-32_p4</td>\n",
       "      <td>09:57:52</td>\n",
       "    </tr>\n",
       "    <tr>\n",
       "      <th>35</th>\n",
       "      <td>2020-09-04</td>\n",
       "      <td>1.109008</td>\n",
       "      <td>0.042020</td>\n",
       "      <td>8542.0</td>\n",
       "      <td>2.459097e+06</td>\n",
       "      <td>4973.0</td>\n",
       "      <td>HAT-P-32_2_OUT_b2</td>\n",
       "      <td>06:54:43</td>\n",
       "    </tr>\n",
       "    <tr>\n",
       "      <th>36</th>\n",
       "      <td>2020-09-04</td>\n",
       "      <td>1.089998</td>\n",
       "      <td>0.031623</td>\n",
       "      <td>8542.0</td>\n",
       "      <td>2.459097e+06</td>\n",
       "      <td>4973.0</td>\n",
       "      <td>HAT-P-32_2_OUT_b2</td>\n",
       "      <td>07:08:56</td>\n",
       "    </tr>\n",
       "    <tr>\n",
       "      <th>37</th>\n",
       "      <td>2020-09-04</td>\n",
       "      <td>1.082786</td>\n",
       "      <td>0.029056</td>\n",
       "      <td>8542.0</td>\n",
       "      <td>2.459097e+06</td>\n",
       "      <td>4973.0</td>\n",
       "      <td>HAT-P-32_2_OUT_b2</td>\n",
       "      <td>07:23:08</td>\n",
       "    </tr>\n",
       "    <tr>\n",
       "      <th>38</th>\n",
       "      <td>2020-09-04</td>\n",
       "      <td>1.136548</td>\n",
       "      <td>0.031911</td>\n",
       "      <td>8542.0</td>\n",
       "      <td>2.459097e+06</td>\n",
       "      <td>4973.0</td>\n",
       "      <td>HAT-P-32_2_OUT_b2</td>\n",
       "      <td>07:37:21</td>\n",
       "    </tr>\n",
       "    <tr>\n",
       "      <th>39</th>\n",
       "      <td>2020-09-05</td>\n",
       "      <td>1.099049</td>\n",
       "      <td>0.022785</td>\n",
       "      <td>8542.0</td>\n",
       "      <td>2.459098e+06</td>\n",
       "      <td>4974.0</td>\n",
       "      <td>HAT-P-32_2_OUT_b1</td>\n",
       "      <td>07:46:05</td>\n",
       "    </tr>\n",
       "  </tbody>\n",
       "</table>\n",
       "</div>"
      ],
      "text/plain": [
       "          date        ew    ew_unc  int_wv            jd    qidx  \\\n",
       "0   2020-08-09  1.177059  0.038186  8542.0  2.459071e+06  4967.0   \n",
       "1   2020-08-09  1.173182  0.030148  8542.0  2.459071e+06  4967.0   \n",
       "2   2020-08-09  1.100334  0.025346  8542.0  2.459071e+06  4967.0   \n",
       "3   2020-08-09  1.089765  0.022048  8542.0  2.459071e+06  4967.0   \n",
       "4   2020-08-09  1.129137  0.022519  8542.0  2.459071e+06  4967.0   \n",
       "5   2020-08-09  1.111387  0.025274  8542.0  2.459071e+06  4967.0   \n",
       "6   2020-09-19  1.104340  0.029880  8542.0  2.459112e+06  6062.0   \n",
       "7   2020-09-19  1.093289  0.025189  8542.0  2.459112e+06  6062.0   \n",
       "8   2020-09-19  1.101152  0.022644  8542.0  2.459112e+06  6062.0   \n",
       "9   2020-09-19  7.398148  5.315551  8542.0  2.459112e+06  6062.0   \n",
       "10  2020-09-19  1.066591  0.021262  8542.0  2.459112e+06  6062.0   \n",
       "11  2020-09-19  1.116097  0.023468  8542.0  2.459112e+06  6062.0   \n",
       "12  2020-08-07  1.185673  0.032740  8542.0  2.459069e+06  4968.0   \n",
       "13  2020-08-07      -inf       NaN  8542.0  2.459069e+06  4968.0   \n",
       "14  2020-08-07  1.297005  0.559513  8542.0  2.459069e+06  4968.0   \n",
       "15  2020-08-07  1.146377  0.028672  8542.0  2.459069e+06  4968.0   \n",
       "16  2020-08-08  1.139074  0.021518  8542.0  2.459070e+06  4969.0   \n",
       "17  2020-08-08  1.175559  0.020997  8542.0  2.459070e+06  4969.0   \n",
       "18  2020-08-08  1.135502  0.018244  8542.0  2.459070e+06  4969.0   \n",
       "19  2020-08-08  1.104000  0.021023  8542.0  2.459070e+06  4969.0   \n",
       "20  2020-09-18  1.057905  0.022617  8542.0  2.459111e+06  6065.0   \n",
       "21  2020-09-18  1.065271  0.021733  8542.0  2.459111e+06  6065.0   \n",
       "22  2020-09-18  1.078320  0.021482  8542.0  2.459111e+06  6065.0   \n",
       "23  2020-09-19  1.131814  0.020463  8542.0  2.459112e+06  6063.0   \n",
       "24  2020-09-19  1.053028  0.016061  8542.0  2.459112e+06  6063.0   \n",
       "25  2020-09-20  1.055478  0.022389  8542.0  2.459113e+06  6066.0   \n",
       "26  2020-09-20  1.122550  0.215389  8542.0  2.459113e+06  6066.0   \n",
       "27  2020-09-20  1.089945  0.018945  8542.0  2.459113e+06  6066.0   \n",
       "28  2020-09-20  1.100797  0.023972  8542.0  2.459113e+06  6066.0   \n",
       "29  2020-09-22  1.113472  0.024238  8542.0  2.459115e+06  6067.0   \n",
       "30  2020-09-22  1.055349  0.021241  8542.0  2.459115e+06  6067.0   \n",
       "31  2020-09-22  1.110876  0.023809  8542.0  2.459115e+06  6067.0   \n",
       "32  2020-09-22  1.065918  0.022584  8542.0  2.459115e+06  6067.0   \n",
       "33  2020-08-01  1.082136  0.018424  8542.0  2.459063e+06  6317.0   \n",
       "34  2020-08-01  1.135086  0.019964  8542.0  2.459063e+06  6317.0   \n",
       "35  2020-09-04  1.109008  0.042020  8542.0  2.459097e+06  4973.0   \n",
       "36  2020-09-04  1.089998  0.031623  8542.0  2.459097e+06  4973.0   \n",
       "37  2020-09-04  1.082786  0.029056  8542.0  2.459097e+06  4973.0   \n",
       "38  2020-09-04  1.136548  0.031911  8542.0  2.459097e+06  4973.0   \n",
       "39  2020-09-05  1.099049  0.022785  8542.0  2.459098e+06  4974.0   \n",
       "\n",
       "            star_name      time  \n",
       "0       HAT-P-32_1_IN  08:23:13  \n",
       "1       HAT-P-32_1_IN  08:37:26  \n",
       "2       HAT-P-32_1_IN  08:51:38  \n",
       "3       HAT-P-32_1_IN  09:05:51  \n",
       "4       HAT-P-32_1_IN  09:20:04  \n",
       "5       HAT-P-32_1_IN  09:34:17  \n",
       "6       HAT-P-32_3_IN  05:42:56  \n",
       "7       HAT-P-32_3_IN  05:57:09  \n",
       "8       HAT-P-32_3_IN  06:11:22  \n",
       "9       HAT-P-32_3_IN  06:25:35  \n",
       "10      HAT-P-32_3_IN  06:39:47  \n",
       "11      HAT-P-32_3_IN  06:54:00  \n",
       "12  HAT-P-32_1_OUT_b2  08:43:26  \n",
       "13  HAT-P-32_1_OUT_b2  08:57:39  \n",
       "14  HAT-P-32_1_OUT_b2  09:11:52  \n",
       "15  HAT-P-32_1_OUT_b2  09:26:05  \n",
       "16  HAT-P-32_1_OUT_b1  08:42:34  \n",
       "17  HAT-P-32_1_OUT_b1  08:56:47  \n",
       "18  HAT-P-32_1_OUT_b1  09:11:00  \n",
       "19  HAT-P-32_1_OUT_b1  09:25:12  \n",
       "20  HAT-P-32_3_OUT_b1  11:16:35  \n",
       "21  HAT-P-32_3_OUT_b1  11:30:48  \n",
       "22  HAT-P-32_3_OUT_b1  11:45:01  \n",
       "23   HAT-P-32_3_OUT_d  11:19:27  \n",
       "24   HAT-P-32_3_OUT_d  11:33:39  \n",
       "25  HAT-P-32_3_OUT_a1  11:11:49  \n",
       "26  HAT-P-32_3_OUT_a1  11:26:02  \n",
       "27  HAT-P-32_3_OUT_a1  11:40:14  \n",
       "28  HAT-P-32_3_OUT_a1  11:54:27  \n",
       "29  HAT-P-32_3_OUT_a2  11:04:23  \n",
       "30  HAT-P-32_3_OUT_a2  11:18:35  \n",
       "31  HAT-P-32_3_OUT_a2  11:32:48  \n",
       "32  HAT-P-32_3_OUT_a2  11:47:01  \n",
       "33        hat-p-32_p4  09:43:39  \n",
       "34        hat-p-32_p4  09:57:52  \n",
       "35  HAT-P-32_2_OUT_b2  06:54:43  \n",
       "36  HAT-P-32_2_OUT_b2  07:08:56  \n",
       "37  HAT-P-32_2_OUT_b2  07:23:08  \n",
       "38  HAT-P-32_2_OUT_b2  07:37:21  \n",
       "39  HAT-P-32_2_OUT_b1  07:46:05  "
      ]
     },
     "execution_count": 10,
     "metadata": {},
     "output_type": "execute_result"
    }
   ],
   "source": [
    "df_results"
   ]
  },
  {
   "cell_type": "markdown",
   "metadata": {},
   "source": [
    "Great! It works!  Let's save the results to a csv file."
   ]
  },
  {
   "cell_type": "code",
   "execution_count": 11,
   "metadata": {},
   "outputs": [],
   "source": [
    "df_results.to_csv('../data/preliminary_results.csv',index=False)"
   ]
  }
 ],
 "metadata": {
  "kernelspec": {
   "display_name": "Python 3",
   "language": "python",
   "name": "python3"
  },
  "language_info": {
   "codemirror_mode": {
    "name": "ipython",
    "version": 3
   },
   "file_extension": ".py",
   "mimetype": "text/x-python",
   "name": "python",
   "nbconvert_exporter": "python",
   "pygments_lexer": "ipython3",
   "version": "3.8.5"
  }
 },
 "nbformat": 4,
 "nbformat_minor": 4
}
