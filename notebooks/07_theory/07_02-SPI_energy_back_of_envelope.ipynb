{
 "cells": [
  {
   "cell_type": "markdown",
   "id": "48744a22",
   "metadata": {},
   "source": [
    "## Back of the envelope calculation for Star-Planet Interaction (SPI)\n"
   ]
  },
  {
   "cell_type": "markdown",
   "id": "230be6d4",
   "metadata": {},
   "source": [
    "Let's follow Equation 1 from [Shkolnik et al. 2005](https://ui.adsabs.harvard.edu/abs/2005ApJ...622.1075S/abstract), which calculates the energy flux of SPI:\n",
    "\n",
    "$$(B_m^2/8\\pi)(V_{orb}-V_{\\phi,{\\rm wind}}) (r_m/R_*)^2$$   \n",
    "$$=$$  \n",
    "$$\\left( {B_*^{2(1-1/q)} B_p^{2/q} \\over 8\\pi} \\right)\n",
    "a \\left( {2\\pi \\over P_{orb}}-{2\\pi \\over P_{rot}} \\right)\n",
    "\\left( {R_* \\over a} \\right)^{2p(1-1/q)}\n",
    "\\left( {R_p \\over R_*} \\right)^2$$"
   ]
  },
  {
   "cell_type": "markdown",
   "id": "c6b3afb3",
   "metadata": {},
   "source": [
    "For $p=2$ (Vrsnak et al. 2002 for the\n",
    "case of our Sun, and Weber \\& Davis 1967 for the case\n",
    "of open fields), $q=2$,\n",
    "$a$ = 0.045 AU, $R_*=1.3$ R$_{\\odot}$, $R_p=1.1$ R$_J$,\n",
    "$P_{rot}=9$ d, $B_{*}$ = 200 G, and $B_{p}$ = 10 G,\n",
    "the energy flux given by Equation 1 is\n",
    "roughly equal to\n",
    "10$^{5}$ erg cm$^{-2}$ s$^{-1}$"
   ]
  },
  {
   "cell_type": "markdown",
   "id": "923d6c6a",
   "metadata": {},
   "source": [
    "Let's replicate that result first:"
   ]
  },
  {
   "cell_type": "code",
   "execution_count": 1,
   "id": "3a412e90",
   "metadata": {},
   "outputs": [],
   "source": [
    "import astropy.units as u"
   ]
  },
  {
   "cell_type": "code",
   "execution_count": 2,
   "id": "0aa1aa66",
   "metadata": {},
   "outputs": [],
   "source": [
    "import numpy as np"
   ]
  },
  {
   "cell_type": "code",
   "execution_count": 17,
   "id": "7d2a7463",
   "metadata": {},
   "outputs": [
    {
     "data": {
      "text/latex": [
       "$1 \\; \\mathrm{\\frac{g^{1/2}}{cm^{1/2}\\,s}}$"
      ],
      "text/plain": [
       "<Quantity 1. g(1/2) / (cm(1/2) s)>"
      ]
     },
     "execution_count": 17,
     "metadata": {},
     "output_type": "execute_result"
    }
   ],
   "source": [
    "Gauss_cgs = (1*u.gram/u.cm/u.s**2)**(1/2)\n",
    "Gauss_cgs"
   ]
  },
  {
   "cell_type": "code",
   "execution_count": 18,
   "id": "e35bb99f",
   "metadata": {},
   "outputs": [],
   "source": [
    "p = 2\n",
    "q = 2\n",
    "a_AU = 0.045 * u.AU\n",
    "R_star = 1.3 * u.Rsun\n",
    "R_p = 1.1 * u.Rjup\n",
    "Prot = 9.0* u.day\n",
    "Porb = 3.1* u.day\n",
    "B_star = 200.0 * Gauss_cgs #u.Gauss\n",
    "B_p = 10.0 * Gauss_cgs #u.Gauss"
   ]
  },
  {
   "cell_type": "code",
   "execution_count": 19,
   "id": "bded526d",
   "metadata": {},
   "outputs": [],
   "source": [
    "def energy_flux_spi(B_star, B_p, Porb, Prot, R_star, a_AU, R_p, p=2, q=2):\n",
    "    '''Compute the energy flux from star planet interaction'''\n",
    "    term1 = (B_star**(2*(1-1/q))  * B_p**(2/q)  / (8*np.pi) )\n",
    "    term2 = (2*np.pi/Porb - 2*np.pi/Prot)\n",
    "    term3 = (R_star/a_AU)**(2*p*(1-1/q))\n",
    "    term4 = (R_p/R_star)**2\n",
    "    energy_flux = term1 * a_AU * term2 * term3 * term4\n",
    "    return energy_flux"
   ]
  },
  {
   "cell_type": "code",
   "execution_count": 20,
   "id": "539f5ebd",
   "metadata": {},
   "outputs": [],
   "source": [
    "output = energy_flux_spi(B_star, B_p, Porb, Prot, R_star, a_AU, R_p, p=2, q=2)"
   ]
  },
  {
   "cell_type": "code",
   "execution_count": 22,
   "id": "fd072380",
   "metadata": {},
   "outputs": [
    {
     "data": {
      "text/latex": [
       "$112425.91 \\; \\mathrm{\\frac{g}{s^{3}}}$"
      ],
      "text/plain": [
       "<Quantity 112425.90911406 g / s3>"
      ]
     },
     "execution_count": 22,
     "metadata": {},
     "output_type": "execute_result"
    }
   ],
   "source": [
    "output.cgs"
   ]
  },
  {
   "cell_type": "markdown",
   "id": "0e4ecb61",
   "metadata": {},
   "source": [
    "These units do not work distill."
   ]
  },
  {
   "cell_type": "code",
   "execution_count": 7,
   "id": "eea75918",
   "metadata": {},
   "outputs": [
    {
     "ename": "UnitConversionError",
     "evalue": "'G2 jupiterRad2 / (AU d)' and 'erg / (cm2 s)' (energy flux/irradiance) are not convertible",
     "output_type": "error",
     "traceback": [
      "\u001b[0;31m---------------------------------------------------------------------------\u001b[0m",
      "\u001b[0;31mUnitConversionError\u001b[0m                       Traceback (most recent call last)",
      "Input \u001b[0;32mIn [7]\u001b[0m, in \u001b[0;36m<module>\u001b[0;34m\u001b[0m\n\u001b[0;32m----> 1\u001b[0m \u001b[43moutput\u001b[49m\u001b[38;5;241;43m.\u001b[39;49m\u001b[43mto\u001b[49m\u001b[43m(\u001b[49m\u001b[43mu\u001b[49m\u001b[38;5;241;43m.\u001b[39;49m\u001b[43merg\u001b[49m\u001b[38;5;241;43m/\u001b[39;49m\u001b[43mu\u001b[49m\u001b[38;5;241;43m.\u001b[39;49m\u001b[43mcm\u001b[49m\u001b[38;5;241;43m*\u001b[39;49m\u001b[38;5;241;43m*\u001b[39;49m\u001b[38;5;241;43m2\u001b[39;49m\u001b[38;5;241;43m/\u001b[39;49m\u001b[43mu\u001b[49m\u001b[38;5;241;43m.\u001b[39;49m\u001b[43ms\u001b[49m\u001b[43m)\u001b[49m\n",
      "File \u001b[0;32m~/miniforge3/envs/disperse_env/lib/python3.8/site-packages/astropy/units/quantity.py:848\u001b[0m, in \u001b[0;36mQuantity.to\u001b[0;34m(self, unit, equivalencies, copy)\u001b[0m\n\u001b[1;32m    844\u001b[0m unit \u001b[38;5;241m=\u001b[39m Unit(unit)\n\u001b[1;32m    845\u001b[0m \u001b[38;5;28;01mif\u001b[39;00m copy:\n\u001b[1;32m    846\u001b[0m     \u001b[38;5;66;03m# Avoid using to_value to ensure that we make a copy. We also\u001b[39;00m\n\u001b[1;32m    847\u001b[0m     \u001b[38;5;66;03m# don't want to slow down this method (esp. the scalar case).\u001b[39;00m\n\u001b[0;32m--> 848\u001b[0m     value \u001b[38;5;241m=\u001b[39m \u001b[38;5;28;43mself\u001b[39;49m\u001b[38;5;241;43m.\u001b[39;49m\u001b[43m_to_value\u001b[49m\u001b[43m(\u001b[49m\u001b[43munit\u001b[49m\u001b[43m,\u001b[49m\u001b[43m \u001b[49m\u001b[43mequivalencies\u001b[49m\u001b[43m)\u001b[49m\n\u001b[1;32m    849\u001b[0m \u001b[38;5;28;01melse\u001b[39;00m:\n\u001b[1;32m    850\u001b[0m     \u001b[38;5;66;03m# to_value only copies if necessary\u001b[39;00m\n\u001b[1;32m    851\u001b[0m     value \u001b[38;5;241m=\u001b[39m \u001b[38;5;28mself\u001b[39m\u001b[38;5;241m.\u001b[39mto_value(unit, equivalencies)\n",
      "File \u001b[0;32m~/miniforge3/envs/disperse_env/lib/python3.8/site-packages/astropy/units/quantity.py:802\u001b[0m, in \u001b[0;36mQuantity._to_value\u001b[0;34m(self, unit, equivalencies)\u001b[0m\n\u001b[1;32m    799\u001b[0m     equivalencies \u001b[38;5;241m=\u001b[39m \u001b[38;5;28mself\u001b[39m\u001b[38;5;241m.\u001b[39m_equivalencies\n\u001b[1;32m    800\u001b[0m \u001b[38;5;28;01mif\u001b[39;00m \u001b[38;5;129;01mnot\u001b[39;00m \u001b[38;5;28mself\u001b[39m\u001b[38;5;241m.\u001b[39mdtype\u001b[38;5;241m.\u001b[39mnames \u001b[38;5;129;01mor\u001b[39;00m \u001b[38;5;28misinstance\u001b[39m(\u001b[38;5;28mself\u001b[39m\u001b[38;5;241m.\u001b[39munit, StructuredUnit):\n\u001b[1;32m    801\u001b[0m     \u001b[38;5;66;03m# Standard path, let unit to do work.\u001b[39;00m\n\u001b[0;32m--> 802\u001b[0m     \u001b[38;5;28;01mreturn\u001b[39;00m \u001b[38;5;28;43mself\u001b[39;49m\u001b[38;5;241;43m.\u001b[39;49m\u001b[43munit\u001b[49m\u001b[38;5;241;43m.\u001b[39;49m\u001b[43mto\u001b[49m\u001b[43m(\u001b[49m\u001b[43munit\u001b[49m\u001b[43m,\u001b[49m\u001b[43m \u001b[49m\u001b[38;5;28;43mself\u001b[39;49m\u001b[38;5;241;43m.\u001b[39;49m\u001b[43mview\u001b[49m\u001b[43m(\u001b[49m\u001b[43mnp\u001b[49m\u001b[38;5;241;43m.\u001b[39;49m\u001b[43mndarray\u001b[49m\u001b[43m)\u001b[49m\u001b[43m,\u001b[49m\n\u001b[1;32m    803\u001b[0m \u001b[43m                        \u001b[49m\u001b[43mequivalencies\u001b[49m\u001b[38;5;241;43m=\u001b[39;49m\u001b[43mequivalencies\u001b[49m\u001b[43m)\u001b[49m\n\u001b[1;32m    805\u001b[0m \u001b[38;5;28;01melse\u001b[39;00m:\n\u001b[1;32m    806\u001b[0m     \u001b[38;5;66;03m# The .to() method of a simple unit cannot convert a structured\u001b[39;00m\n\u001b[1;32m    807\u001b[0m     \u001b[38;5;66;03m# dtype, so we work around it, by recursing.\u001b[39;00m\n\u001b[1;32m    808\u001b[0m     \u001b[38;5;66;03m# TODO: deprecate this?\u001b[39;00m\n\u001b[1;32m    809\u001b[0m     \u001b[38;5;66;03m# Convert simple to Structured on initialization?\u001b[39;00m\n\u001b[1;32m    810\u001b[0m     result \u001b[38;5;241m=\u001b[39m np\u001b[38;5;241m.\u001b[39mempty_like(\u001b[38;5;28mself\u001b[39m\u001b[38;5;241m.\u001b[39mview(np\u001b[38;5;241m.\u001b[39mndarray))\n",
      "File \u001b[0;32m~/miniforge3/envs/disperse_env/lib/python3.8/site-packages/astropy/units/core.py:1135\u001b[0m, in \u001b[0;36mUnitBase.to\u001b[0;34m(self, other, value, equivalencies)\u001b[0m\n\u001b[1;32m   1133\u001b[0m     \u001b[38;5;28;01mreturn\u001b[39;00m UNITY\n\u001b[1;32m   1134\u001b[0m \u001b[38;5;28;01melse\u001b[39;00m:\n\u001b[0;32m-> 1135\u001b[0m     \u001b[38;5;28;01mreturn\u001b[39;00m \u001b[38;5;28;43mself\u001b[39;49m\u001b[38;5;241;43m.\u001b[39;49m\u001b[43m_get_converter\u001b[49m\u001b[43m(\u001b[49m\u001b[43mUnit\u001b[49m\u001b[43m(\u001b[49m\u001b[43mother\u001b[49m\u001b[43m)\u001b[49m\u001b[43m,\u001b[49m\n\u001b[1;32m   1136\u001b[0m \u001b[43m                               \u001b[49m\u001b[43mequivalencies\u001b[49m\u001b[38;5;241;43m=\u001b[39;49m\u001b[43mequivalencies\u001b[49m\u001b[43m)\u001b[49m(value)\n",
      "File \u001b[0;32m~/miniforge3/envs/disperse_env/lib/python3.8/site-packages/astropy/units/core.py:1066\u001b[0m, in \u001b[0;36mUnitBase._get_converter\u001b[0;34m(self, other, equivalencies)\u001b[0m\n\u001b[1;32m   1063\u001b[0m             \u001b[38;5;28;01mexcept\u001b[39;00m \u001b[38;5;167;01mException\u001b[39;00m:\n\u001b[1;32m   1064\u001b[0m                 \u001b[38;5;28;01mpass\u001b[39;00m\n\u001b[0;32m-> 1066\u001b[0m \u001b[38;5;28;01mraise\u001b[39;00m exc\n",
      "File \u001b[0;32m~/miniforge3/envs/disperse_env/lib/python3.8/site-packages/astropy/units/core.py:1051\u001b[0m, in \u001b[0;36mUnitBase._get_converter\u001b[0;34m(self, other, equivalencies)\u001b[0m\n\u001b[1;32m   1049\u001b[0m \u001b[38;5;66;03m# if that doesn't work, maybe we can do it with equivalencies?\u001b[39;00m\n\u001b[1;32m   1050\u001b[0m \u001b[38;5;28;01mtry\u001b[39;00m:\n\u001b[0;32m-> 1051\u001b[0m     \u001b[38;5;28;01mreturn\u001b[39;00m \u001b[38;5;28;43mself\u001b[39;49m\u001b[38;5;241;43m.\u001b[39;49m\u001b[43m_apply_equivalencies\u001b[49m\u001b[43m(\u001b[49m\n\u001b[1;32m   1052\u001b[0m \u001b[43m        \u001b[49m\u001b[38;5;28;43mself\u001b[39;49m\u001b[43m,\u001b[49m\u001b[43m \u001b[49m\u001b[43mother\u001b[49m\u001b[43m,\u001b[49m\u001b[43m \u001b[49m\u001b[38;5;28;43mself\u001b[39;49m\u001b[38;5;241;43m.\u001b[39;49m\u001b[43m_normalize_equivalencies\u001b[49m\u001b[43m(\u001b[49m\u001b[43mequivalencies\u001b[49m\u001b[43m)\u001b[49m\u001b[43m)\u001b[49m\n\u001b[1;32m   1053\u001b[0m \u001b[38;5;28;01mexcept\u001b[39;00m UnitsError \u001b[38;5;28;01mas\u001b[39;00m exc:\n\u001b[1;32m   1054\u001b[0m     \u001b[38;5;66;03m# Last hope: maybe other knows how to do it?\u001b[39;00m\n\u001b[1;32m   1055\u001b[0m     \u001b[38;5;66;03m# We assume the equivalencies have the unit itself as first item.\u001b[39;00m\n\u001b[1;32m   1056\u001b[0m     \u001b[38;5;66;03m# TODO: maybe better for other to have a `_back_converter` method?\u001b[39;00m\n\u001b[1;32m   1057\u001b[0m     \u001b[38;5;28;01mif\u001b[39;00m \u001b[38;5;28mhasattr\u001b[39m(other, \u001b[38;5;124m'\u001b[39m\u001b[38;5;124mequivalencies\u001b[39m\u001b[38;5;124m'\u001b[39m):\n",
      "File \u001b[0;32m~/miniforge3/envs/disperse_env/lib/python3.8/site-packages/astropy/units/core.py:1027\u001b[0m, in \u001b[0;36mUnitBase._apply_equivalencies\u001b[0;34m(self, unit, other, equivalencies)\u001b[0m\n\u001b[1;32m   1024\u001b[0m unit_str \u001b[38;5;241m=\u001b[39m get_err_str(unit)\n\u001b[1;32m   1025\u001b[0m other_str \u001b[38;5;241m=\u001b[39m get_err_str(other)\n\u001b[0;32m-> 1027\u001b[0m \u001b[38;5;28;01mraise\u001b[39;00m UnitConversionError(\n\u001b[1;32m   1028\u001b[0m     \u001b[38;5;124mf\u001b[39m\u001b[38;5;124m\"\u001b[39m\u001b[38;5;132;01m{\u001b[39;00munit_str\u001b[38;5;132;01m}\u001b[39;00m\u001b[38;5;124m and \u001b[39m\u001b[38;5;132;01m{\u001b[39;00mother_str\u001b[38;5;132;01m}\u001b[39;00m\u001b[38;5;124m are not convertible\u001b[39m\u001b[38;5;124m\"\u001b[39m)\n",
      "\u001b[0;31mUnitConversionError\u001b[0m: 'G2 jupiterRad2 / (AU d)' and 'erg / (cm2 s)' (energy flux/irradiance) are not convertible"
     ]
    }
   ],
   "source": [
    "output.to(u.erg/u.cm**2/u.s)"
   ]
  },
  {
   "cell_type": "code",
   "execution_count": 39,
   "id": "4636635a",
   "metadata": {},
   "outputs": [],
   "source": [
    "val = (1 *u.Gauss*u.Gauss * u.AU / (1*u.day) )#.to(u.erg/u.s)"
   ]
  },
  {
   "cell_type": "code",
   "execution_count": 43,
   "id": "c0ad2d35",
   "metadata": {},
   "outputs": [
    {
     "data": {
      "text/latex": [
       "$0.017314568 \\; \\mathrm{\\Omega\\,Pa}$"
      ],
      "text/plain": [
       "<Quantity 0.01731457 Ohm Pa>"
      ]
     },
     "execution_count": 43,
     "metadata": {},
     "output_type": "execute_result"
    }
   ],
   "source": [
    "val."
   ]
  },
  {
   "cell_type": "code",
   "execution_count": 45,
   "id": "5c4cd9d9",
   "metadata": {},
   "outputs": [],
   "source": [
    "Prot_over_sini = (2*np.pi*2.13*u.Rsun) / (35.8 * u.km/u.s )"
   ]
  },
  {
   "cell_type": "code",
   "execution_count": 46,
   "id": "25913e23",
   "metadata": {},
   "outputs": [
    {
     "data": {
      "text/latex": [
       "$3.0101262 \\; \\mathrm{d}$"
      ],
      "text/plain": [
       "<Quantity 3.01012622 d>"
      ]
     },
     "execution_count": 46,
     "metadata": {},
     "output_type": "execute_result"
    }
   ],
   "source": [
    "Prot_over_sini.to(u.day)"
   ]
  },
  {
   "cell_type": "code",
   "execution_count": 44,
   "id": "ee43ba29",
   "metadata": {},
   "outputs": [
    {
     "data": {
      "text/latex": [
       "$4.5533459 \\; \\mathrm{d}$"
      ],
      "text/plain": [
       "<Quantity 4.55334585 d>"
      ]
     },
     "execution_count": 44,
     "metadata": {},
     "output_type": "execute_result"
    }
   ],
   "source": [
    "Prot_over_sini.to(u.day)"
   ]
  },
  {
   "cell_type": "code",
   "execution_count": null,
   "id": "72159ce8",
   "metadata": {},
   "outputs": [],
   "source": []
  }
 ],
 "metadata": {
  "kernelspec": {
   "display_name": "Python 3 (ipykernel)",
   "language": "python",
   "name": "python3"
  },
  "language_info": {
   "codemirror_mode": {
    "name": "ipython",
    "version": 3
   },
   "file_extension": ".py",
   "mimetype": "text/x-python",
   "name": "python",
   "nbconvert_exporter": "python",
   "pygments_lexer": "ipython3",
   "version": "3.8.12"
  }
 },
 "nbformat": 4,
 "nbformat_minor": 5
}
