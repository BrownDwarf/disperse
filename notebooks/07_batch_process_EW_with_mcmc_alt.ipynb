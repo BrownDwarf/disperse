{
 "cells": [
  {
   "cell_type": "markdown",
   "metadata": {},
   "source": [
    "# Batch process Equivalent Widths with MCMC\n",
    "\n",
    "The goal of this notebook is to distill our analysis into a programmatic loop over many spectra and save the Equivalent Width (EW) and its uncertainty to a results table.  The table will be in the form of a pandas dataframe, which we'll then save as a csv file."
   ]
  },
  {
   "cell_type": "code",
   "execution_count": 1,
   "metadata": {},
   "outputs": [],
   "source": [
    "import os\n",
    "\n",
    "import numpy as np\n",
    "import pandas as pd\n",
    "import os\n",
    "import glob\n",
    "from astropy.io import fits\n",
    "import emcee\n",
    "from astropy.time import Time\n",
    "from tqdm.auto import tqdm\n",
    "\n",
    "import warnings\n",
    "\n",
    "import pandas as pd\n",
    "from pandas.core.common import SettingWithCopyWarning\n",
    "\n",
    "warnings.simplefilter(action=\"ignore\", category=SettingWithCopyWarning)"
   ]
  },
  {
   "cell_type": "code",
   "execution_count": 2,
   "metadata": {},
   "outputs": [],
   "source": [
    "goldilocks_files = glob.glob('../data/HPF/Helium-transit-data/**/Goldilocks*.fits', recursive=True)"
   ]
  },
  {
   "cell_type": "code",
   "execution_count": 3,
   "metadata": {},
   "outputs": [],
   "source": [
    "filename_zero = goldilocks_files[0]\n",
    "hdus = fits.open(filename_zero)"
   ]
  },
  {
   "cell_type": "code",
   "execution_count": 4,
   "metadata": {},
   "outputs": [],
   "source": [
    "def get_goldilocks_dataframe(fn):\n",
    "    \"\"\"Return a pandas Dataframe given a Goldilocks FITS file name\"\"\"\n",
    "    hdus = fits.open(fn)\n",
    "    df_original = pd.DataFrame()\n",
    "    header = hdus[0].header\n",
    "    for j in range(28):\n",
    "        df = pd.DataFrame()\n",
    "        for i in range(1, 10):\n",
    "            name = hdus[i].name\n",
    "            df[name] = hdus[i].data[j, :]\n",
    "        df['order'] = j\n",
    "        df_original = df_original.append(df, ignore_index=True)\n",
    "    keep_mask = df_original[df_original.columns[0:6]] != 0.0\n",
    "    df_original = df_original[keep_mask.all(axis=1)].reset_index(drop=True)\n",
    "    \n",
    "    return df_original, header"
   ]
  },
  {
   "cell_type": "code",
   "execution_count": 5,
   "metadata": {},
   "outputs": [],
   "source": [
    "def normalize_spectrum(df):\n",
    "    \"\"\"Normalizes spectrum to set to one\"\"\"\n",
    "    for order in df.order.unique():\n",
    "        mask = df.order == order\n",
    "        norm_constant = df['Sci Flux'][mask].median() #mean takes outliers into account\n",
    "        df['Sci Flux'][mask] = df['Sci Flux'][mask]/norm_constant\n",
    "        df['Sci Error'][mask] = df['Sci Error'][mask]/norm_constant\n",
    "        \n",
    "    return df"
   ]
  },
  {
   "cell_type": "markdown",
   "metadata": {},
   "source": [
    "Eventually we will loop over index."
   ]
  },
  {
   "cell_type": "code",
   "execution_count": 6,
   "metadata": {},
   "outputs": [],
   "source": [
    "order = 4\n",
    "n_walkers = 32\n",
    "n_params = 5\n",
    "n_steps = 5000\n",
    "labels = [\"m\", \"b\", \"A\", \"mu\", \"w\"]"
   ]
  },
  {
   "cell_type": "code",
   "execution_count": 7,
   "metadata": {},
   "outputs": [],
   "source": [
    "df_results = pd.DataFrame()\n",
    "problem_files = {}"
   ]
  },
  {
   "cell_type": "code",
   "execution_count": 8,
   "metadata": {},
   "outputs": [],
   "source": [
    "#from multiprocessing import Pool"
   ]
  },
  {
   "cell_type": "code",
   "execution_count": 9,
   "metadata": {},
   "outputs": [
    {
     "data": {
      "application/vnd.jupyter.widget-view+json": {
       "model_id": "496e23c06a454259ac8805db8ad9759e",
       "version_major": 2,
       "version_minor": 0
      },
      "text/plain": [
       "HBox(children=(HTML(value=''), FloatProgress(value=0.0, max=410.0), HTML(value='')))"
      ]
     },
     "metadata": {},
     "output_type": "display_data"
    },
    {
     "name": "stderr",
     "output_type": "stream",
     "text": [
      "<ipython-input-9-6e2c8370deca>:30: RuntimeWarning: divide by zero encountered in true_divide\n",
      "  gaussian = A * np.exp(-0.5*(wl-mu)**2/w**2)\n",
      "<ipython-input-9-6e2c8370deca>:30: RuntimeWarning: overflow encountered in true_divide\n",
      "  gaussian = A * np.exp(-0.5*(wl-mu)**2/w**2)\n",
      "<ipython-input-9-6e2c8370deca>:30: RuntimeWarning: overflow encountered in double_scalars\n",
      "  gaussian = A * np.exp(-0.5*(wl-mu)**2/w**2)\n",
      "<ipython-input-9-6e2c8370deca>:29: RuntimeWarning: overflow encountered in exp\n",
      "  w = np.exp(logw)\n",
      "<ipython-input-9-6e2c8370deca>:30: RuntimeWarning: divide by zero encountered in true_divide\n",
      "  gaussian = A * np.exp(-0.5*(wl-mu)**2/w**2)\n",
      "<ipython-input-9-6e2c8370deca>:30: RuntimeWarning: overflow encountered in true_divide\n",
      "  gaussian = A * np.exp(-0.5*(wl-mu)**2/w**2)\n",
      "<ipython-input-9-6e2c8370deca>:30: RuntimeWarning: overflow encountered in double_scalars\n",
      "  gaussian = A * np.exp(-0.5*(wl-mu)**2/w**2)\n",
      "<ipython-input-9-6e2c8370deca>:29: RuntimeWarning: overflow encountered in exp\n",
      "  w = np.exp(logw)\n"
     ]
    },
    {
     "name": "stdout",
     "output_type": "stream",
     "text": [
      "Fail: ../data/HPF/Helium-transit-data\\HAT-P-12b\\out-of-transit\\20200401\\Goldilocks_20200401T101943_v1.0_0003.fits\n",
      "Fail: ../data/HPF/Helium-transit-data\\HAT-P-12b\\out-of-transit\\20200401\\Goldilocks_20200401T103616_v1.0_0004.fits\n",
      "Fail: ../data/HPF/Helium-transit-data\\HAT-P-12b\\out-of-transit\\20200401\\Goldilocks_20200401T105250_v1.0_0005.fits\n",
      "Fail: ../data/HPF/Helium-transit-data\\HAT-P-12b\\out-of-transit\\20200401\\Goldilocks_20200401T110919_v1.0_0006.fits\n",
      "Fail: ../data/HPF/Helium-transit-data\\HAT-P-12b\\out-of-transit\\20200401\\Goldilocks_20200401T112553_v1.0_0007.fits\n"
     ]
    },
    {
     "name": "stderr",
     "output_type": "stream",
     "text": [
      "<ipython-input-9-6e2c8370deca>:30: RuntimeWarning: divide by zero encountered in true_divide\n",
      "  gaussian = A * np.exp(-0.5*(wl-mu)**2/w**2)\n",
      "<ipython-input-9-6e2c8370deca>:30: RuntimeWarning: overflow encountered in true_divide\n",
      "  gaussian = A * np.exp(-0.5*(wl-mu)**2/w**2)\n",
      "<ipython-input-9-6e2c8370deca>:30: RuntimeWarning: overflow encountered in double_scalars\n",
      "  gaussian = A * np.exp(-0.5*(wl-mu)**2/w**2)\n",
      "<ipython-input-9-6e2c8370deca>:29: RuntimeWarning: overflow encountered in exp\n",
      "  w = np.exp(logw)\n",
      "<ipython-input-9-6e2c8370deca>:30: RuntimeWarning: divide by zero encountered in true_divide\n",
      "  gaussian = A * np.exp(-0.5*(wl-mu)**2/w**2)\n",
      "<ipython-input-9-6e2c8370deca>:30: RuntimeWarning: overflow encountered in double_scalars\n",
      "  gaussian = A * np.exp(-0.5*(wl-mu)**2/w**2)\n",
      "<ipython-input-9-6e2c8370deca>:30: RuntimeWarning: overflow encountered in true_divide\n",
      "  gaussian = A * np.exp(-0.5*(wl-mu)**2/w**2)\n",
      "<ipython-input-9-6e2c8370deca>:29: RuntimeWarning: overflow encountered in exp\n",
      "  w = np.exp(logw)\n",
      "<ipython-input-9-6e2c8370deca>:30: RuntimeWarning: divide by zero encountered in true_divide\n",
      "  gaussian = A * np.exp(-0.5*(wl-mu)**2/w**2)\n",
      "<ipython-input-9-6e2c8370deca>:30: RuntimeWarning: overflow encountered in double_scalars\n",
      "  gaussian = A * np.exp(-0.5*(wl-mu)**2/w**2)\n",
      "<ipython-input-9-6e2c8370deca>:30: RuntimeWarning: overflow encountered in true_divide\n",
      "  gaussian = A * np.exp(-0.5*(wl-mu)**2/w**2)\n",
      "<ipython-input-9-6e2c8370deca>:29: RuntimeWarning: overflow encountered in exp\n",
      "  w = np.exp(logw)\n",
      "<ipython-input-9-6e2c8370deca>:30: RuntimeWarning: divide by zero encountered in true_divide\n",
      "  gaussian = A * np.exp(-0.5*(wl-mu)**2/w**2)\n",
      "<ipython-input-9-6e2c8370deca>:30: RuntimeWarning: overflow encountered in true_divide\n",
      "  gaussian = A * np.exp(-0.5*(wl-mu)**2/w**2)\n",
      "<ipython-input-9-6e2c8370deca>:30: RuntimeWarning: overflow encountered in double_scalars\n",
      "  gaussian = A * np.exp(-0.5*(wl-mu)**2/w**2)\n",
      "<ipython-input-9-6e2c8370deca>:29: RuntimeWarning: overflow encountered in exp\n",
      "  w = np.exp(logw)\n",
      "<ipython-input-9-6e2c8370deca>:30: RuntimeWarning: divide by zero encountered in true_divide\n",
      "  gaussian = A * np.exp(-0.5*(wl-mu)**2/w**2)\n",
      "<ipython-input-9-6e2c8370deca>:30: RuntimeWarning: overflow encountered in double_scalars\n",
      "  gaussian = A * np.exp(-0.5*(wl-mu)**2/w**2)\n",
      "<ipython-input-9-6e2c8370deca>:30: RuntimeWarning: overflow encountered in true_divide\n",
      "  gaussian = A * np.exp(-0.5*(wl-mu)**2/w**2)\n",
      "<ipython-input-9-6e2c8370deca>:29: RuntimeWarning: overflow encountered in exp\n",
      "  w = np.exp(logw)\n",
      "<ipython-input-9-6e2c8370deca>:30: RuntimeWarning: overflow encountered in double_scalars\n",
      "  gaussian = A * np.exp(-0.5*(wl-mu)**2/w**2)\n",
      "<ipython-input-9-6e2c8370deca>:30: RuntimeWarning: divide by zero encountered in true_divide\n",
      "  gaussian = A * np.exp(-0.5*(wl-mu)**2/w**2)\n",
      "<ipython-input-9-6e2c8370deca>:29: RuntimeWarning: overflow encountered in exp\n",
      "  w = np.exp(logw)\n",
      "<ipython-input-9-6e2c8370deca>:30: RuntimeWarning: overflow encountered in true_divide\n",
      "  gaussian = A * np.exp(-0.5*(wl-mu)**2/w**2)\n",
      "<ipython-input-9-6e2c8370deca>:55: RuntimeWarning: overflow encountered in exp\n",
      "  w_draws = np.exp(flat_samples[:, 4])\n",
      "<ipython-input-9-6e2c8370deca>:57: RuntimeWarning: overflow encountered in multiply\n",
      "  EW = ((2*np.pi)**.5)*(A_draws*w_draws)/(m_draws*(mu_draws-calcium_line)+b_draws)\n",
      "C:\\Users\\Gully\\.conda\\envs\\disperse_env\\lib\\site-packages\\numpy\\core\\_methods.py:160: RuntimeWarning: invalid value encountered in reduce\n",
      "  ret = umr_sum(arr, axis, dtype, out, keepdims)\n",
      "C:\\Users\\Gully\\.conda\\envs\\disperse_env\\lib\\site-packages\\numpy\\core\\_methods.py:192: RuntimeWarning: invalid value encountered in reduce\n",
      "  arrmean = umr_sum(arr, axis, dtype, keepdims=True)\n",
      "C:\\Users\\Gully\\.conda\\envs\\disperse_env\\lib\\site-packages\\numpy\\core\\_methods.py:202: RuntimeWarning: invalid value encountered in subtract\n",
      "  x = asanyarray(arr - arrmean)\n",
      "<ipython-input-9-6e2c8370deca>:30: RuntimeWarning: divide by zero encountered in true_divide\n",
      "  gaussian = A * np.exp(-0.5*(wl-mu)**2/w**2)\n",
      "<ipython-input-9-6e2c8370deca>:30: RuntimeWarning: overflow encountered in double_scalars\n",
      "  gaussian = A * np.exp(-0.5*(wl-mu)**2/w**2)\n",
      "<ipython-input-9-6e2c8370deca>:29: RuntimeWarning: overflow encountered in exp\n",
      "  w = np.exp(logw)\n"
     ]
    },
    {
     "name": "stdout",
     "output_type": "stream",
     "text": [
      "\n"
     ]
    }
   ],
   "source": [
    "for index in tqdm(range(0, len(goldilocks_files))):\n",
    "\n",
    "    fn = goldilocks_files[index]\n",
    "    \n",
    "    try:\n",
    "        df_orig, header = get_goldilocks_dataframe(fn)\n",
    "        date_raw = header['DATE-OBS']\n",
    "        date = date_raw[0:10]\n",
    "        time = date_raw[11:19]\n",
    "        obj = header['OBJECT']\n",
    "        df = normalize_spectrum(df_orig)\n",
    "        qidx = header['QIDX']\n",
    "        j_date = date_raw\n",
    "        t = Time(j_date, format='isot', scale='utc')\n",
    "        jd = t.jd\n",
    "\n",
    "        wavelength1 = 8538\n",
    "        wavelength2 = 8546\n",
    "        calcium_line = 8542\n",
    "\n",
    "        sub_region = (df.order == order) & (df['Sci Wavl'] > wavelength1) & (df['Sci Wavl'] < wavelength2)\n",
    "        wl = df['Sci Wavl'][sub_region].values\n",
    "        flux = df['Sci Flux'][sub_region].values\n",
    "        unc = df['Sci Error'][sub_region].values\n",
    "\n",
    "        def generative_model(m, b, A, mu, logw, int_wl = calcium_line):\n",
    "            \"\"\"Generate the model given parameters\"\"\"\n",
    "            continuum = m * (wl - int_wl) + b\n",
    "            w = np.exp(logw)\n",
    "            gaussian = A * np.exp(-0.5*(wl-mu)**2/w**2)\n",
    "            return continuum - gaussian\n",
    "\n",
    "        def log_likelihood(theta):\n",
    "            m, b, A, mu, logw = theta\n",
    "            model = generative_model(m, b, A, mu, logw, int_wl = calcium_line)\n",
    "            residual = flux - model\n",
    "            chi_squared = np.sum(residual** 2 / unc**2)\n",
    "            return -0.5 * chi_squared\n",
    "\n",
    "        m_guess, b_guess, A_guess, mu_guess, logw_guess = 0.01, 0.3, 0.1, calcium_line, np.log(0.4)\n",
    "        theta_guess = np.array([m_guess, b_guess, A_guess, mu_guess, logw_guess])\n",
    "\n",
    "        pos = theta_guess + 1e-4 * np.random.randn(n_walkers, n_params) #intial guess position\n",
    "\n",
    "        #with Pool() as pool:\n",
    "        sampler = emcee.EnsembleSampler(n_walkers, n_params, log_likelihood, threads=12)\n",
    "        sampler.run_mcmc(pos, n_steps, progress=False);\n",
    "\n",
    "        flat_samples = sampler.get_chain(discard=1000, thin=15, flat=True)\n",
    "\n",
    "        A_draws = flat_samples[:,2]\n",
    "        b_draws = flat_samples[:,1]\n",
    "        m_draws = flat_samples[:,0]\n",
    "        mu_draws = flat_samples[:,3]\n",
    "        w_draws = np.exp(flat_samples[:, 4])\n",
    "\n",
    "        EW = ((2*np.pi)**.5)*(A_draws*w_draws)/(m_draws*(mu_draws-calcium_line)+b_draws)\n",
    "        EW\n",
    "\n",
    "        ew_mean = np.mean(EW)\n",
    "        ew_std = np.std(EW)\n",
    "        gauss_width = np.mean(w_draws)\n",
    "        gauss_width_unc = np.std(w_draws)\n",
    "        obs_line_center = np.mean(mu_draws)\n",
    "        obs_line_center_unc = np.std(mu_draws)\n",
    "        #print(ew_mean)\n",
    "        #print(ew_std)\n",
    "        temp = {'ew':ew_mean, 'ew_unc':ew_std, 'date':date, 'star_name':obj, \n",
    "                'time':time, 'int_wv':calcium_line, 'qidx':qidx, 'jd':jd,\n",
    "                'gaussian_width':gauss_width, 'gaussian_width_unc':gauss_width_unc,\n",
    "                'obs_line_center':obs_line_center, 'obs_line_center_unc':obs_line_center_unc}\n",
    "\n",
    "        # save the dataframe every 10 spectra\n",
    "        df_results = df_results.append(temp, ignore_index=True)\n",
    "        if (index % 10) == 0:\n",
    "            #print(index, fn[-49:])\n",
    "            df_results.to_csv('../data/preliminary_results.csv',index=False)\n",
    "    except:\n",
    "        print(\"Fail:\", fn)\n",
    "        problem_files[index] = fn"
   ]
  },
  {
   "cell_type": "markdown",
   "metadata": {},
   "source": [
    "Great! It works!  Let's save the results to a csv file."
   ]
  },
  {
   "cell_type": "code",
   "execution_count": 10,
   "metadata": {},
   "outputs": [],
   "source": [
    "df_results.to_csv('../data/preliminary_results.csv',index=False)"
   ]
  }
 ],
 "metadata": {
  "kernelspec": {
   "display_name": "Python 3",
   "language": "python",
   "name": "python3"
  },
  "language_info": {
   "codemirror_mode": {
    "name": "ipython",
    "version": 3
   },
   "file_extension": ".py",
   "mimetype": "text/x-python",
   "name": "python",
   "nbconvert_exporter": "python",
   "pygments_lexer": "ipython3",
   "version": "3.8.5"
  }
 },
 "nbformat": 4,
 "nbformat_minor": 4
}
