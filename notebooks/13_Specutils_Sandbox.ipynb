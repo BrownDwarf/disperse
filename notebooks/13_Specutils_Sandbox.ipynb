{
 "cells": [
  {
   "cell_type": "markdown",
   "metadata": {},
   "source": [
    "# Let's play around with the Specutils package to see how it measures equivalent width\n",
    "\n",
    "Using data from HPF, we will give the equivalent_width() function a certain region of a given spectrum and have it return an equivalent width."
   ]
  },
  {
   "cell_type": "code",
   "execution_count": 1,
   "metadata": {},
   "outputs": [
    {
     "ename": "ModuleNotFoundError",
     "evalue": "No module named 'specutils'",
     "output_type": "error",
     "traceback": [
      "\u001b[1;31m---------------------------------------------------------------------------\u001b[0m",
      "\u001b[1;31mModuleNotFoundError\u001b[0m                       Traceback (most recent call last)",
      "\u001b[1;32m<ipython-input-1-fa6a97cc2dbc>\u001b[0m in \u001b[0;36m<module>\u001b[1;34m\u001b[0m\n\u001b[0;32m      6\u001b[0m \u001b[1;32mfrom\u001b[0m \u001b[0mastropy\u001b[0m\u001b[1;33m.\u001b[0m\u001b[0mio\u001b[0m \u001b[1;32mimport\u001b[0m \u001b[0mfits\u001b[0m\u001b[1;33m\u001b[0m\u001b[1;33m\u001b[0m\u001b[0m\n\u001b[0;32m      7\u001b[0m \u001b[1;32mimport\u001b[0m \u001b[0mseaborn\u001b[0m \u001b[1;32mas\u001b[0m \u001b[0msns\u001b[0m\u001b[1;33m\u001b[0m\u001b[1;33m\u001b[0m\u001b[0m\n\u001b[1;32m----> 8\u001b[1;33m \u001b[1;32mfrom\u001b[0m \u001b[0mspecutils\u001b[0m\u001b[1;33m.\u001b[0m\u001b[0manalysis\u001b[0m \u001b[1;32mimport\u001b[0m \u001b[0mequivalent_width\u001b[0m\u001b[1;33m\u001b[0m\u001b[1;33m\u001b[0m\u001b[0m\n\u001b[0m\u001b[0;32m      9\u001b[0m \u001b[0mget_ipython\u001b[0m\u001b[1;33m(\u001b[0m\u001b[1;33m)\u001b[0m\u001b[1;33m.\u001b[0m\u001b[0mrun_line_magic\u001b[0m\u001b[1;33m(\u001b[0m\u001b[1;34m'matplotlib'\u001b[0m\u001b[1;33m,\u001b[0m \u001b[1;34m'inline'\u001b[0m\u001b[1;33m)\u001b[0m\u001b[1;33m\u001b[0m\u001b[1;33m\u001b[0m\u001b[0m\n\u001b[0;32m     10\u001b[0m \u001b[0mget_ipython\u001b[0m\u001b[1;33m(\u001b[0m\u001b[1;33m)\u001b[0m\u001b[1;33m.\u001b[0m\u001b[0mrun_line_magic\u001b[0m\u001b[1;33m(\u001b[0m\u001b[1;34m'config'\u001b[0m\u001b[1;33m,\u001b[0m \u001b[1;34m\"InlineBackend.figure_format='retina'\"\u001b[0m\u001b[1;33m)\u001b[0m\u001b[1;33m\u001b[0m\u001b[1;33m\u001b[0m\u001b[0m\n",
      "\u001b[1;31mModuleNotFoundError\u001b[0m: No module named 'specutils'"
     ]
    }
   ],
   "source": [
    "import matplotlib.pyplot as plt\n",
    "import numpy as np\n",
    "import pandas as pd\n",
    "import os\n",
    "import glob\n",
    "from astropy.io import fits\n",
    "import seaborn as sns\n",
    "from specutils.analysis import equivalent_width\n",
    "from specutils import SpectralRegion\n",
    "%matplotlib inline\n",
    "%config InlineBackend.figure_format='retina'\n",
    "sns.set_context('paper')"
   ]
  },
  {
   "cell_type": "code",
   "execution_count": 2,
   "metadata": {},
   "outputs": [],
   "source": [
    "goldilocks_files = glob.glob('../data/HPF/Helium-transit-data/**/Goldilocks*.fits', recursive=True)"
   ]
  },
  {
   "cell_type": "code",
   "execution_count": null,
   "metadata": {},
   "outputs": [],
   "source": [
    "def get_goldilocks_dataframe(fn):\n",
    "    \"\"\"Return a pandas Dataframe given a Goldilocks FITS file name\"\"\"\n",
    "    hdus = fits.open(fn)\n",
    "    df_original = pd.DataFrame()\n",
    "    for j in range(28):\n",
    "        df = pd.DataFrame()\n",
    "        for i in range(1, 10):\n",
    "            name = hdus[i].name\n",
    "            df[name] = hdus[i].data[j, :]\n",
    "        df['order'] = j\n",
    "        df_original = df_original.append(df, ignore_index=True)\n",
    "    keep_mask = df_original[df_original.columns[0:6]] != 0.0\n",
    "    df_original = df_original[keep_mask.all(axis=1)].reset_index(drop=True)\n",
    "    \n",
    "    return df_original"
   ]
  },
  {
   "cell_type": "code",
   "execution_count": null,
   "metadata": {},
   "outputs": [],
   "source": [
    "index = 129 # Pick a number in the range (0,410]\n",
    "fn = goldilocks_files[index]"
   ]
  },
  {
   "cell_type": "code",
   "execution_count": null,
   "metadata": {},
   "outputs": [],
   "source": [
    "print(fn)"
   ]
  },
  {
   "cell_type": "code",
   "execution_count": null,
   "metadata": {},
   "outputs": [],
   "source": [
    "plt.figure(figsize=(16, 5))\n",
    "order = 16\n",
    "mask = df.order == order\n",
    "plt.step(df['Sci Wavl'][mask], df['Sci Flux'][mask], label=order, color='#2980b9');\n",
    "plt.errorbar(df['Sci Wavl'][mask], df['Sci Flux'][mask], df['Sci Error'][mask], fmt='.', c='k',label=\"Error Bar\", alpha=0.3);\n",
    "plt.xlabel('$\\lambda$ ($\\AA$)');\n",
    "plt.ylabel('Raw Flux')\n",
    "plt.legend(ncol=7, title='Echelle Order #', fontsize=11);\n",
    "plt.ylim(5,8)\n",
    "plt.xlim(10320,10340)\n",
    "wavelength1 = 10327.5\n",
    "wavelength2 = 10329.5\n",
    "plt.axvline(wavelength1,linestyle = 'dashed',color = 'red')\n",
    "plt.axvline(wavelength2,linestyle = 'dashed',color = 'red')\n",
    "plt.axhline(6.4,color = 'green')"
   ]
  },
  {
   "cell_type": "code",
   "execution_count": null,
   "metadata": {},
   "outputs": [],
   "source": [
    "spectrum = fn\n",
    "regions = SpectralRegion(wavelength1, wavelength2)\n",
    "equivalent_width(spectrum, regions) #requires continuum otherwise automatically at 1"
   ]
  }
 ],
 "metadata": {
  "kernelspec": {
   "display_name": "Python 3",
   "language": "python",
   "name": "python3"
  },
  "language_info": {
   "codemirror_mode": {
    "name": "ipython",
    "version": 3
   },
   "file_extension": ".py",
   "mimetype": "text/x-python",
   "name": "python",
   "nbconvert_exporter": "python",
   "pygments_lexer": "ipython3",
   "version": "3.8.3"
  }
 },
 "nbformat": 4,
 "nbformat_minor": 4
}
